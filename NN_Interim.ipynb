{
  "cells": [
    {
      "cell_type": "code",
      "execution_count": null,
      "metadata": {
        "colab": {
          "base_uri": "https://localhost:8080/"
        },
        "id": "PTZG_0FizZ9z",
        "outputId": "65a20a34-0d39-44f8-8f50-619d57b209e6"
      },
      "outputs": [
        {
          "output_type": "stream",
          "name": "stdout",
          "text": [
            "Mounted at /content/drive\n"
          ]
        }
      ],
      "source": [
        "from google.colab import drive\n",
        "drive.mount('/content/drive')"
      ]
    },
    {
      "cell_type": "code",
      "execution_count": null,
      "metadata": {
        "id": "QDHqlNKezsHO"
      },
      "outputs": [],
      "source": [
        "import pandas as pd\n",
        "import numpy as np\n",
        "import h5py\n",
        "import matplotlib.pyplot as plt\n",
        "import seaborn as sns"
      ]
    },
    {
      "cell_type": "code",
      "execution_count": null,
      "metadata": {
        "colab": {
          "base_uri": "https://localhost:8080/"
        },
        "id": "P2QczrACzxVz",
        "outputId": "745d789a-3b96-45fb-aa71-0e9827ef629d"
      },
      "outputs": [
        {
          "output_type": "stream",
          "name": "stdout",
          "text": [
            "(10240, 3, 16, 16)\n"
          ]
        }
      ],
      "source": [
        "#Load RGB images from data1.h5\n",
        "def load_dataset(path):\n",
        "  return np.array(h5py.File(path)[\"data\"])\n",
        "\n",
        "rgb_images = load_dataset(\"/content/drive/MyDrive/Homework/NN_Mini/data1.h5\")\n",
        "print(rgb_images.shape)"
      ]
    },
    {
      "cell_type": "code",
      "execution_count": null,
      "metadata": {
        "id": "by-v_8Rl3CnT"
      },
      "outputs": [],
      "source": [
        "#Convert RGB images to greyscale\n",
        "#Y = 0.2126 ∗ R + 0.7152 ∗ G + 0.0722 ∗ B                                                                                                                                                                                                                                                                                                                                                                                                                                       \n",
        "gray_image = 0.2126 * rgb_images[:,0,:,:] + 0.7152 * rgb_images[:,1,:,:] + 0.0722 * rgb_images[:,2,:,:]\n",
        "#Remove the mean pixel intensity of each image from itself\n",
        "gray_image = gray_image.reshape(gray_image.shape[0],gray_image.shape[1]*gray_image.shape[2])\n",
        "mean_arr = np.mean(gray_image,axis = 1,keepdims=True)\n",
        "grey_image = gray_image - mean_arr\n",
        "#clip, normalize, map\n",
        "std = np.std(gray_image)\n",
        "gray_image = np.clip(gray_image,-3*std,3*std)\n",
        "gray_image = (gray_image - gray_image.min()) / (gray_image.max() - gray_image.min()) #data ranges 0 to 1\n",
        "gray_image = 0.1 + gray_image*0.9 #data ranges 0.1 to 0.9\n",
        "gray_image = gray_image.reshape(-1,16,16)\n",
        "#Reshape rgb to (10240,16,16,3)\n",
        "rgb_images = np.transpose(rgb_images,(0,2,3,1))"
      ]
    },
    {
      "cell_type": "code",
      "execution_count": null,
      "metadata": {
        "id": "_Et_iKBaXeYA",
        "colab": {
          "base_uri": "https://localhost:8080/"
        },
        "outputId": "c65ff79e-2f24-4814-d44f-f004fb2bb512"
      },
      "outputs": [
        {
          "output_type": "stream",
          "name": "stderr",
          "text": [
            "WARNING:matplotlib.image:Clipping input data to the valid range for imshow with RGB data ([0..1] for floats or [0..255] for integers).\n",
            "WARNING:matplotlib.image:Clipping input data to the valid range for imshow with RGB data ([0..1] for floats or [0..255] for integers).\n",
            "WARNING:matplotlib.image:Clipping input data to the valid range for imshow with RGB data ([0..1] for floats or [0..255] for integers).\n",
            "WARNING:matplotlib.image:Clipping input data to the valid range for imshow with RGB data ([0..1] for floats or [0..255] for integers).\n",
            "WARNING:matplotlib.image:Clipping input data to the valid range for imshow with RGB data ([0..1] for floats or [0..255] for integers).\n",
            "WARNING:matplotlib.image:Clipping input data to the valid range for imshow with RGB data ([0..1] for floats or [0..255] for integers).\n",
            "WARNING:matplotlib.image:Clipping input data to the valid range for imshow with RGB data ([0..1] for floats or [0..255] for integers).\n",
            "WARNING:matplotlib.image:Clipping input data to the valid range for imshow with RGB data ([0..1] for floats or [0..255] for integers).\n",
            "WARNING:matplotlib.image:Clipping input data to the valid range for imshow with RGB data ([0..1] for floats or [0..255] for integers).\n",
            "WARNING:matplotlib.image:Clipping input data to the valid range for imshow with RGB data ([0..1] for floats or [0..255] for integers).\n",
            "WARNING:matplotlib.image:Clipping input data to the valid range for imshow with RGB data ([0..1] for floats or [0..255] for integers).\n",
            "WARNING:matplotlib.image:Clipping input data to the valid range for imshow with RGB data ([0..1] for floats or [0..255] for integers).\n",
            "WARNING:matplotlib.image:Clipping input data to the valid range for imshow with RGB data ([0..1] for floats or [0..255] for integers).\n",
            "WARNING:matplotlib.image:Clipping input data to the valid range for imshow with RGB data ([0..1] for floats or [0..255] for integers).\n",
            "WARNING:matplotlib.image:Clipping input data to the valid range for imshow with RGB data ([0..1] for floats or [0..255] for integers).\n",
            "WARNING:matplotlib.image:Clipping input data to the valid range for imshow with RGB data ([0..1] for floats or [0..255] for integers).\n",
            "WARNING:matplotlib.image:Clipping input data to the valid range for imshow with RGB data ([0..1] for floats or [0..255] for integers).\n",
            "WARNING:matplotlib.image:Clipping input data to the valid range for imshow with RGB data ([0..1] for floats or [0..255] for integers).\n",
            "WARNING:matplotlib.image:Clipping input data to the valid range for imshow with RGB data ([0..1] for floats or [0..255] for integers).\n",
            "WARNING:matplotlib.image:Clipping input data to the valid range for imshow with RGB data ([0..1] for floats or [0..255] for integers).\n",
            "WARNING:matplotlib.image:Clipping input data to the valid range for imshow with RGB data ([0..1] for floats or [0..255] for integers).\n",
            "WARNING:matplotlib.image:Clipping input data to the valid range for imshow with RGB data ([0..1] for floats or [0..255] for integers).\n",
            "WARNING:matplotlib.image:Clipping input data to the valid range for imshow with RGB data ([0..1] for floats or [0..255] for integers).\n",
            "WARNING:matplotlib.image:Clipping input data to the valid range for imshow with RGB data ([0..1] for floats or [0..255] for integers).\n",
            "WARNING:matplotlib.image:Clipping input data to the valid range for imshow with RGB data ([0..1] for floats or [0..255] for integers).\n",
            "WARNING:matplotlib.image:Clipping input data to the valid range for imshow with RGB data ([0..1] for floats or [0..255] for integers).\n",
            "WARNING:matplotlib.image:Clipping input data to the valid range for imshow with RGB data ([0..1] for floats or [0..255] for integers).\n",
            "WARNING:matplotlib.image:Clipping input data to the valid range for imshow with RGB data ([0..1] for floats or [0..255] for integers).\n",
            "WARNING:matplotlib.image:Clipping input data to the valid range for imshow with RGB data ([0..1] for floats or [0..255] for integers).\n",
            "WARNING:matplotlib.image:Clipping input data to the valid range for imshow with RGB data ([0..1] for floats or [0..255] for integers).\n",
            "WARNING:matplotlib.image:Clipping input data to the valid range for imshow with RGB data ([0..1] for floats or [0..255] for integers).\n",
            "WARNING:matplotlib.image:Clipping input data to the valid range for imshow with RGB data ([0..1] for floats or [0..255] for integers).\n",
            "WARNING:matplotlib.image:Clipping input data to the valid range for imshow with RGB data ([0..1] for floats or [0..255] for integers).\n",
            "WARNING:matplotlib.image:Clipping input data to the valid range for imshow with RGB data ([0..1] for floats or [0..255] for integers).\n",
            "WARNING:matplotlib.image:Clipping input data to the valid range for imshow with RGB data ([0..1] for floats or [0..255] for integers).\n",
            "WARNING:matplotlib.image:Clipping input data to the valid range for imshow with RGB data ([0..1] for floats or [0..255] for integers).\n",
            "WARNING:matplotlib.image:Clipping input data to the valid range for imshow with RGB data ([0..1] for floats or [0..255] for integers).\n",
            "WARNING:matplotlib.image:Clipping input data to the valid range for imshow with RGB data ([0..1] for floats or [0..255] for integers).\n",
            "WARNING:matplotlib.image:Clipping input data to the valid range for imshow with RGB data ([0..1] for floats or [0..255] for integers).\n",
            "WARNING:matplotlib.image:Clipping input data to the valid range for imshow with RGB data ([0..1] for floats or [0..255] for integers).\n",
            "WARNING:matplotlib.image:Clipping input data to the valid range for imshow with RGB data ([0..1] for floats or [0..255] for integers).\n",
            "WARNING:matplotlib.image:Clipping input data to the valid range for imshow with RGB data ([0..1] for floats or [0..255] for integers).\n",
            "WARNING:matplotlib.image:Clipping input data to the valid range for imshow with RGB data ([0..1] for floats or [0..255] for integers).\n",
            "WARNING:matplotlib.image:Clipping input data to the valid range for imshow with RGB data ([0..1] for floats or [0..255] for integers).\n",
            "WARNING:matplotlib.image:Clipping input data to the valid range for imshow with RGB data ([0..1] for floats or [0..255] for integers).\n",
            "WARNING:matplotlib.image:Clipping input data to the valid range for imshow with RGB data ([0..1] for floats or [0..255] for integers).\n",
            "WARNING:matplotlib.image:Clipping input data to the valid range for imshow with RGB data ([0..1] for floats or [0..255] for integers).\n",
            "WARNING:matplotlib.image:Clipping input data to the valid range for imshow with RGB data ([0..1] for floats or [0..255] for integers).\n",
            "WARNING:matplotlib.image:Clipping input data to the valid range for imshow with RGB data ([0..1] for floats or [0..255] for integers).\n",
            "WARNING:matplotlib.image:Clipping input data to the valid range for imshow with RGB data ([0..1] for floats or [0..255] for integers).\n",
            "WARNING:matplotlib.image:Clipping input data to the valid range for imshow with RGB data ([0..1] for floats or [0..255] for integers).\n",
            "WARNING:matplotlib.image:Clipping input data to the valid range for imshow with RGB data ([0..1] for floats or [0..255] for integers).\n",
            "WARNING:matplotlib.image:Clipping input data to the valid range for imshow with RGB data ([0..1] for floats or [0..255] for integers).\n",
            "WARNING:matplotlib.image:Clipping input data to the valid range for imshow with RGB data ([0..1] for floats or [0..255] for integers).\n",
            "WARNING:matplotlib.image:Clipping input data to the valid range for imshow with RGB data ([0..1] for floats or [0..255] for integers).\n",
            "WARNING:matplotlib.image:Clipping input data to the valid range for imshow with RGB data ([0..1] for floats or [0..255] for integers).\n",
            "WARNING:matplotlib.image:Clipping input data to the valid range for imshow with RGB data ([0..1] for floats or [0..255] for integers).\n",
            "WARNING:matplotlib.image:Clipping input data to the valid range for imshow with RGB data ([0..1] for floats or [0..255] for integers).\n",
            "WARNING:matplotlib.image:Clipping input data to the valid range for imshow with RGB data ([0..1] for floats or [0..255] for integers).\n",
            "WARNING:matplotlib.image:Clipping input data to the valid range for imshow with RGB data ([0..1] for floats or [0..255] for integers).\n",
            "WARNING:matplotlib.image:Clipping input data to the valid range for imshow with RGB data ([0..1] for floats or [0..255] for integers).\n",
            "WARNING:matplotlib.image:Clipping input data to the valid range for imshow with RGB data ([0..1] for floats or [0..255] for integers).\n",
            "WARNING:matplotlib.image:Clipping input data to the valid range for imshow with RGB data ([0..1] for floats or [0..255] for integers).\n",
            "WARNING:matplotlib.image:Clipping input data to the valid range for imshow with RGB data ([0..1] for floats or [0..255] for integers).\n",
            "WARNING:matplotlib.image:Clipping input data to the valid range for imshow with RGB data ([0..1] for floats or [0..255] for integers).\n",
            "WARNING:matplotlib.image:Clipping input data to the valid range for imshow with RGB data ([0..1] for floats or [0..255] for integers).\n",
            "WARNING:matplotlib.image:Clipping input data to the valid range for imshow with RGB data ([0..1] for floats or [0..255] for integers).\n",
            "WARNING:matplotlib.image:Clipping input data to the valid range for imshow with RGB data ([0..1] for floats or [0..255] for integers).\n",
            "WARNING:matplotlib.image:Clipping input data to the valid range for imshow with RGB data ([0..1] for floats or [0..255] for integers).\n",
            "WARNING:matplotlib.image:Clipping input data to the valid range for imshow with RGB data ([0..1] for floats or [0..255] for integers).\n",
            "WARNING:matplotlib.image:Clipping input data to the valid range for imshow with RGB data ([0..1] for floats or [0..255] for integers).\n",
            "WARNING:matplotlib.image:Clipping input data to the valid range for imshow with RGB data ([0..1] for floats or [0..255] for integers).\n",
            "WARNING:matplotlib.image:Clipping input data to the valid range for imshow with RGB data ([0..1] for floats or [0..255] for integers).\n",
            "WARNING:matplotlib.image:Clipping input data to the valid range for imshow with RGB data ([0..1] for floats or [0..255] for integers).\n",
            "WARNING:matplotlib.image:Clipping input data to the valid range for imshow with RGB data ([0..1] for floats or [0..255] for integers).\n",
            "WARNING:matplotlib.image:Clipping input data to the valid range for imshow with RGB data ([0..1] for floats or [0..255] for integers).\n",
            "WARNING:matplotlib.image:Clipping input data to the valid range for imshow with RGB data ([0..1] for floats or [0..255] for integers).\n",
            "WARNING:matplotlib.image:Clipping input data to the valid range for imshow with RGB data ([0..1] for floats or [0..255] for integers).\n",
            "WARNING:matplotlib.image:Clipping input data to the valid range for imshow with RGB data ([0..1] for floats or [0..255] for integers).\n",
            "WARNING:matplotlib.image:Clipping input data to the valid range for imshow with RGB data ([0..1] for floats or [0..255] for integers).\n",
            "WARNING:matplotlib.image:Clipping input data to the valid range for imshow with RGB data ([0..1] for floats or [0..255] for integers).\n",
            "WARNING:matplotlib.image:Clipping input data to the valid range for imshow with RGB data ([0..1] for floats or [0..255] for integers).\n",
            "WARNING:matplotlib.image:Clipping input data to the valid range for imshow with RGB data ([0..1] for floats or [0..255] for integers).\n",
            "WARNING:matplotlib.image:Clipping input data to the valid range for imshow with RGB data ([0..1] for floats or [0..255] for integers).\n",
            "WARNING:matplotlib.image:Clipping input data to the valid range for imshow with RGB data ([0..1] for floats or [0..255] for integers).\n",
            "WARNING:matplotlib.image:Clipping input data to the valid range for imshow with RGB data ([0..1] for floats or [0..255] for integers).\n",
            "WARNING:matplotlib.image:Clipping input data to the valid range for imshow with RGB data ([0..1] for floats or [0..255] for integers).\n",
            "WARNING:matplotlib.image:Clipping input data to the valid range for imshow with RGB data ([0..1] for floats or [0..255] for integers).\n",
            "WARNING:matplotlib.image:Clipping input data to the valid range for imshow with RGB data ([0..1] for floats or [0..255] for integers).\n",
            "WARNING:matplotlib.image:Clipping input data to the valid range for imshow with RGB data ([0..1] for floats or [0..255] for integers).\n",
            "WARNING:matplotlib.image:Clipping input data to the valid range for imshow with RGB data ([0..1] for floats or [0..255] for integers).\n",
            "WARNING:matplotlib.image:Clipping input data to the valid range for imshow with RGB data ([0..1] for floats or [0..255] for integers).\n",
            "WARNING:matplotlib.image:Clipping input data to the valid range for imshow with RGB data ([0..1] for floats or [0..255] for integers).\n",
            "WARNING:matplotlib.image:Clipping input data to the valid range for imshow with RGB data ([0..1] for floats or [0..255] for integers).\n",
            "WARNING:matplotlib.image:Clipping input data to the valid range for imshow with RGB data ([0..1] for floats or [0..255] for integers).\n",
            "WARNING:matplotlib.image:Clipping input data to the valid range for imshow with RGB data ([0..1] for floats or [0..255] for integers).\n",
            "WARNING:matplotlib.image:Clipping input data to the valid range for imshow with RGB data ([0..1] for floats or [0..255] for integers).\n",
            "WARNING:matplotlib.image:Clipping input data to the valid range for imshow with RGB data ([0..1] for floats or [0..255] for integers).\n",
            "WARNING:matplotlib.image:Clipping input data to the valid range for imshow with RGB data ([0..1] for floats or [0..255] for integers).\n",
            "WARNING:matplotlib.image:Clipping input data to the valid range for imshow with RGB data ([0..1] for floats or [0..255] for integers).\n",
            "WARNING:matplotlib.image:Clipping input data to the valid range for imshow with RGB data ([0..1] for floats or [0..255] for integers).\n",
            "WARNING:matplotlib.image:Clipping input data to the valid range for imshow with RGB data ([0..1] for floats or [0..255] for integers).\n",
            "WARNING:matplotlib.image:Clipping input data to the valid range for imshow with RGB data ([0..1] for floats or [0..255] for integers).\n",
            "WARNING:matplotlib.image:Clipping input data to the valid range for imshow with RGB data ([0..1] for floats or [0..255] for integers).\n",
            "WARNING:matplotlib.image:Clipping input data to the valid range for imshow with RGB data ([0..1] for floats or [0..255] for integers).\n",
            "WARNING:matplotlib.image:Clipping input data to the valid range for imshow with RGB data ([0..1] for floats or [0..255] for integers).\n",
            "WARNING:matplotlib.image:Clipping input data to the valid range for imshow with RGB data ([0..1] for floats or [0..255] for integers).\n",
            "WARNING:matplotlib.image:Clipping input data to the valid range for imshow with RGB data ([0..1] for floats or [0..255] for integers).\n",
            "WARNING:matplotlib.image:Clipping input data to the valid range for imshow with RGB data ([0..1] for floats or [0..255] for integers).\n",
            "WARNING:matplotlib.image:Clipping input data to the valid range for imshow with RGB data ([0..1] for floats or [0..255] for integers).\n",
            "WARNING:matplotlib.image:Clipping input data to the valid range for imshow with RGB data ([0..1] for floats or [0..255] for integers).\n",
            "WARNING:matplotlib.image:Clipping input data to the valid range for imshow with RGB data ([0..1] for floats or [0..255] for integers).\n",
            "WARNING:matplotlib.image:Clipping input data to the valid range for imshow with RGB data ([0..1] for floats or [0..255] for integers).\n",
            "WARNING:matplotlib.image:Clipping input data to the valid range for imshow with RGB data ([0..1] for floats or [0..255] for integers).\n",
            "WARNING:matplotlib.image:Clipping input data to the valid range for imshow with RGB data ([0..1] for floats or [0..255] for integers).\n",
            "WARNING:matplotlib.image:Clipping input data to the valid range for imshow with RGB data ([0..1] for floats or [0..255] for integers).\n",
            "WARNING:matplotlib.image:Clipping input data to the valid range for imshow with RGB data ([0..1] for floats or [0..255] for integers).\n",
            "WARNING:matplotlib.image:Clipping input data to the valid range for imshow with RGB data ([0..1] for floats or [0..255] for integers).\n",
            "WARNING:matplotlib.image:Clipping input data to the valid range for imshow with RGB data ([0..1] for floats or [0..255] for integers).\n",
            "WARNING:matplotlib.image:Clipping input data to the valid range for imshow with RGB data ([0..1] for floats or [0..255] for integers).\n",
            "WARNING:matplotlib.image:Clipping input data to the valid range for imshow with RGB data ([0..1] for floats or [0..255] for integers).\n",
            "WARNING:matplotlib.image:Clipping input data to the valid range for imshow with RGB data ([0..1] for floats or [0..255] for integers).\n",
            "WARNING:matplotlib.image:Clipping input data to the valid range for imshow with RGB data ([0..1] for floats or [0..255] for integers).\n",
            "WARNING:matplotlib.image:Clipping input data to the valid range for imshow with RGB data ([0..1] for floats or [0..255] for integers).\n",
            "WARNING:matplotlib.image:Clipping input data to the valid range for imshow with RGB data ([0..1] for floats or [0..255] for integers).\n",
            "WARNING:matplotlib.image:Clipping input data to the valid range for imshow with RGB data ([0..1] for floats or [0..255] for integers).\n",
            "WARNING:matplotlib.image:Clipping input data to the valid range for imshow with RGB data ([0..1] for floats or [0..255] for integers).\n",
            "WARNING:matplotlib.image:Clipping input data to the valid range for imshow with RGB data ([0..1] for floats or [0..255] for integers).\n",
            "WARNING:matplotlib.image:Clipping input data to the valid range for imshow with RGB data ([0..1] for floats or [0..255] for integers).\n",
            "WARNING:matplotlib.image:Clipping input data to the valid range for imshow with RGB data ([0..1] for floats or [0..255] for integers).\n",
            "WARNING:matplotlib.image:Clipping input data to the valid range for imshow with RGB data ([0..1] for floats or [0..255] for integers).\n",
            "WARNING:matplotlib.image:Clipping input data to the valid range for imshow with RGB data ([0..1] for floats or [0..255] for integers).\n",
            "WARNING:matplotlib.image:Clipping input data to the valid range for imshow with RGB data ([0..1] for floats or [0..255] for integers).\n",
            "WARNING:matplotlib.image:Clipping input data to the valid range for imshow with RGB data ([0..1] for floats or [0..255] for integers).\n",
            "WARNING:matplotlib.image:Clipping input data to the valid range for imshow with RGB data ([0..1] for floats or [0..255] for integers).\n",
            "WARNING:matplotlib.image:Clipping input data to the valid range for imshow with RGB data ([0..1] for floats or [0..255] for integers).\n",
            "WARNING:matplotlib.image:Clipping input data to the valid range for imshow with RGB data ([0..1] for floats or [0..255] for integers).\n",
            "WARNING:matplotlib.image:Clipping input data to the valid range for imshow with RGB data ([0..1] for floats or [0..255] for integers).\n",
            "WARNING:matplotlib.image:Clipping input data to the valid range for imshow with RGB data ([0..1] for floats or [0..255] for integers).\n",
            "WARNING:matplotlib.image:Clipping input data to the valid range for imshow with RGB data ([0..1] for floats or [0..255] for integers).\n",
            "WARNING:matplotlib.image:Clipping input data to the valid range for imshow with RGB data ([0..1] for floats or [0..255] for integers).\n",
            "WARNING:matplotlib.image:Clipping input data to the valid range for imshow with RGB data ([0..1] for floats or [0..255] for integers).\n",
            "WARNING:matplotlib.image:Clipping input data to the valid range for imshow with RGB data ([0..1] for floats or [0..255] for integers).\n",
            "WARNING:matplotlib.image:Clipping input data to the valid range for imshow with RGB data ([0..1] for floats or [0..255] for integers).\n",
            "WARNING:matplotlib.image:Clipping input data to the valid range for imshow with RGB data ([0..1] for floats or [0..255] for integers).\n",
            "WARNING:matplotlib.image:Clipping input data to the valid range for imshow with RGB data ([0..1] for floats or [0..255] for integers).\n",
            "WARNING:matplotlib.image:Clipping input data to the valid range for imshow with RGB data ([0..1] for floats or [0..255] for integers).\n",
            "WARNING:matplotlib.image:Clipping input data to the valid range for imshow with RGB data ([0..1] for floats or [0..255] for integers).\n",
            "WARNING:matplotlib.image:Clipping input data to the valid range for imshow with RGB data ([0..1] for floats or [0..255] for integers).\n",
            "WARNING:matplotlib.image:Clipping input data to the valid range for imshow with RGB data ([0..1] for floats or [0..255] for integers).\n",
            "WARNING:matplotlib.image:Clipping input data to the valid range for imshow with RGB data ([0..1] for floats or [0..255] for integers).\n",
            "WARNING:matplotlib.image:Clipping input data to the valid range for imshow with RGB data ([0..1] for floats or [0..255] for integers).\n",
            "WARNING:matplotlib.image:Clipping input data to the valid range for imshow with RGB data ([0..1] for floats or [0..255] for integers).\n",
            "WARNING:matplotlib.image:Clipping input data to the valid range for imshow with RGB data ([0..1] for floats or [0..255] for integers).\n",
            "WARNING:matplotlib.image:Clipping input data to the valid range for imshow with RGB data ([0..1] for floats or [0..255] for integers).\n",
            "WARNING:matplotlib.image:Clipping input data to the valid range for imshow with RGB data ([0..1] for floats or [0..255] for integers).\n",
            "WARNING:matplotlib.image:Clipping input data to the valid range for imshow with RGB data ([0..1] for floats or [0..255] for integers).\n",
            "WARNING:matplotlib.image:Clipping input data to the valid range for imshow with RGB data ([0..1] for floats or [0..255] for integers).\n",
            "WARNING:matplotlib.image:Clipping input data to the valid range for imshow with RGB data ([0..1] for floats or [0..255] for integers).\n",
            "WARNING:matplotlib.image:Clipping input data to the valid range for imshow with RGB data ([0..1] for floats or [0..255] for integers).\n",
            "WARNING:matplotlib.image:Clipping input data to the valid range for imshow with RGB data ([0..1] for floats or [0..255] for integers).\n",
            "WARNING:matplotlib.image:Clipping input data to the valid range for imshow with RGB data ([0..1] for floats or [0..255] for integers).\n",
            "WARNING:matplotlib.image:Clipping input data to the valid range for imshow with RGB data ([0..1] for floats or [0..255] for integers).\n",
            "WARNING:matplotlib.image:Clipping input data to the valid range for imshow with RGB data ([0..1] for floats or [0..255] for integers).\n",
            "WARNING:matplotlib.image:Clipping input data to the valid range for imshow with RGB data ([0..1] for floats or [0..255] for integers).\n",
            "WARNING:matplotlib.image:Clipping input data to the valid range for imshow with RGB data ([0..1] for floats or [0..255] for integers).\n",
            "WARNING:matplotlib.image:Clipping input data to the valid range for imshow with RGB data ([0..1] for floats or [0..255] for integers).\n",
            "WARNING:matplotlib.image:Clipping input data to the valid range for imshow with RGB data ([0..1] for floats or [0..255] for integers).\n",
            "WARNING:matplotlib.image:Clipping input data to the valid range for imshow with RGB data ([0..1] for floats or [0..255] for integers).\n",
            "WARNING:matplotlib.image:Clipping input data to the valid range for imshow with RGB data ([0..1] for floats or [0..255] for integers).\n",
            "WARNING:matplotlib.image:Clipping input data to the valid range for imshow with RGB data ([0..1] for floats or [0..255] for integers).\n",
            "WARNING:matplotlib.image:Clipping input data to the valid range for imshow with RGB data ([0..1] for floats or [0..255] for integers).\n",
            "WARNING:matplotlib.image:Clipping input data to the valid range for imshow with RGB data ([0..1] for floats or [0..255] for integers).\n",
            "WARNING:matplotlib.image:Clipping input data to the valid range for imshow with RGB data ([0..1] for floats or [0..255] for integers).\n",
            "WARNING:matplotlib.image:Clipping input data to the valid range for imshow with RGB data ([0..1] for floats or [0..255] for integers).\n",
            "WARNING:matplotlib.image:Clipping input data to the valid range for imshow with RGB data ([0..1] for floats or [0..255] for integers).\n",
            "WARNING:matplotlib.image:Clipping input data to the valid range for imshow with RGB data ([0..1] for floats or [0..255] for integers).\n",
            "WARNING:matplotlib.image:Clipping input data to the valid range for imshow with RGB data ([0..1] for floats or [0..255] for integers).\n",
            "WARNING:matplotlib.image:Clipping input data to the valid range for imshow with RGB data ([0..1] for floats or [0..255] for integers).\n",
            "WARNING:matplotlib.image:Clipping input data to the valid range for imshow with RGB data ([0..1] for floats or [0..255] for integers).\n",
            "WARNING:matplotlib.image:Clipping input data to the valid range for imshow with RGB data ([0..1] for floats or [0..255] for integers).\n",
            "WARNING:matplotlib.image:Clipping input data to the valid range for imshow with RGB data ([0..1] for floats or [0..255] for integers).\n",
            "WARNING:matplotlib.image:Clipping input data to the valid range for imshow with RGB data ([0..1] for floats or [0..255] for integers).\n",
            "WARNING:matplotlib.image:Clipping input data to the valid range for imshow with RGB data ([0..1] for floats or [0..255] for integers).\n",
            "WARNING:matplotlib.image:Clipping input data to the valid range for imshow with RGB data ([0..1] for floats or [0..255] for integers).\n",
            "WARNING:matplotlib.image:Clipping input data to the valid range for imshow with RGB data ([0..1] for floats or [0..255] for integers).\n",
            "WARNING:matplotlib.image:Clipping input data to the valid range for imshow with RGB data ([0..1] for floats or [0..255] for integers).\n",
            "WARNING:matplotlib.image:Clipping input data to the valid range for imshow with RGB data ([0..1] for floats or [0..255] for integers).\n",
            "WARNING:matplotlib.image:Clipping input data to the valid range for imshow with RGB data ([0..1] for floats or [0..255] for integers).\n",
            "WARNING:matplotlib.image:Clipping input data to the valid range for imshow with RGB data ([0..1] for floats or [0..255] for integers).\n",
            "WARNING:matplotlib.image:Clipping input data to the valid range for imshow with RGB data ([0..1] for floats or [0..255] for integers).\n",
            "WARNING:matplotlib.image:Clipping input data to the valid range for imshow with RGB data ([0..1] for floats or [0..255] for integers).\n",
            "WARNING:matplotlib.image:Clipping input data to the valid range for imshow with RGB data ([0..1] for floats or [0..255] for integers).\n",
            "WARNING:matplotlib.image:Clipping input data to the valid range for imshow with RGB data ([0..1] for floats or [0..255] for integers).\n",
            "WARNING:matplotlib.image:Clipping input data to the valid range for imshow with RGB data ([0..1] for floats or [0..255] for integers).\n",
            "WARNING:matplotlib.image:Clipping input data to the valid range for imshow with RGB data ([0..1] for floats or [0..255] for integers).\n",
            "WARNING:matplotlib.image:Clipping input data to the valid range for imshow with RGB data ([0..1] for floats or [0..255] for integers).\n",
            "WARNING:matplotlib.image:Clipping input data to the valid range for imshow with RGB data ([0..1] for floats or [0..255] for integers).\n",
            "WARNING:matplotlib.image:Clipping input data to the valid range for imshow with RGB data ([0..1] for floats or [0..255] for integers).\n"
          ]
        }
      ],
      "source": [
        "#Plot random 200 samples\n",
        "fig_gray, ax_gray = plt.subplots(20,10,figsize=(10,20))\n",
        "fig_rgb, ax_rgb = plt.subplots(20,10,figsize=(10,20))\n",
        "\n",
        "for i in range(20):\n",
        "  for j in range(10):\n",
        "    image_index = np.random.randint(0,gray_image.shape[0])\n",
        "    ax_gray[i,j].imshow(gray_image[image_index],cmap=\"gray\")\n",
        "    ax_gray[i,j].axis(\"off\")\n",
        "    ax_rgb[i,j].imshow(rgb_images[image_index])\n",
        "    ax_rgb[i,j].axis(\"off\")\n",
        "\n",
        "fig_gray.savefig(\"gray.png\")\n",
        "fig_rgb.savefig(\"rgb.png\")\n",
        "plt.close(\"all\")"
      ]
    },
    {
      "cell_type": "code",
      "execution_count": null,
      "metadata": {
        "id": "-M307ztlpJbt"
      },
      "outputs": [],
      "source": [
        "#WX.T +b\n",
        "def init_parameters(l_pre,l_post):\n",
        "  np.random.seed(33)\n",
        "  w0 = np.sqrt(6/(l_pre + l_post))\n",
        "\n",
        "  W1 = np.random.uniform(-w0,w0, size=(l_post,l_pre))\n",
        "  b1 = np.random.uniform(-w0,w0, size=(l_post,1))\n",
        "  W2 = np.random.uniform(-w0,w0, size=(l_pre,l_post))\n",
        "  b2 = np.random.uniform(-w0,w0, size=(l_pre,1))\n",
        "\n",
        "  We = {\"W1\":W1,\"b1\":b1,\"W2\":W2,\"b2\":b2}\n",
        "  return We"
      ]
    },
    {
      "cell_type": "code",
      "execution_count": null,
      "metadata": {
        "id": "45FhgnaRyW0Q"
      },
      "outputs": [],
      "source": [
        "#Returns the output and the derivative of activation function\n",
        "def sigmoid(Z):  \n",
        "  A = 1 / (1 + np.exp(-Z))\n",
        "  derivative = (1-A)*A  \n",
        "  return A,derivative"
      ]
    },
    {
      "cell_type": "code",
      "execution_count": null,
      "metadata": {
        "id": "EG5i1CZcjqR0"
      },
      "outputs": [],
      "source": [
        "def forward_propagate(We,data):  \n",
        "  W1 = We[\"W1\"]\n",
        "  W2 = We[\"W2\"]\n",
        "  b1 = We[\"b1\"]\n",
        "  b2 = We[\"b2\"]\n",
        "\n",
        "  Z1 = np.matmul(W1,data.T) + b1\n",
        "  A1, d_activation_1 = sigmoid(Z1)\n",
        "  Z2 = np.matmul(W2,A1) + b2\n",
        "  A2, d_activation_2 = sigmoid(Z2)\n",
        "  \n",
        "  return (Z1,A1,Z2,A2,d_activation_1,d_activation_2)"
      ]
    },
    {
      "cell_type": "code",
      "execution_count": null,
      "metadata": {
        "id": "pASwhrsJ1uOH"
      },
      "outputs": [],
      "source": [
        "#Does forward and back propagation, calculates cost and related gradients\n",
        "def aeCost(We,data,params):\n",
        "  N = data.shape[0]\n",
        "\n",
        "  W1 = We[\"W1\"]\n",
        "  W2 = We[\"W2\"]\n",
        "  b1 = We[\"b1\"]\n",
        "  b2 = We[\"b2\"]\n",
        "\n",
        "  l_in = params[\"Lin\"]\n",
        "  l_hid = params[\"Lhid\"]\n",
        "  lambda_ = params[\"lambda\"]\n",
        "  beta = params[\"beta\"]\n",
        "  rho = params[\"rho\"]\n",
        "\n",
        "  data = data.reshape(N,256)\n",
        "  #Forward propogate\n",
        "  Z1,A1,Z2,A2,d_activation_1,d_activation_2 = forward_propagate(We,data)\n",
        "  \n",
        "  #Calculate cost  \n",
        "  avarage_squared_error = (1/(2*N)) * (np.sum(np.linalg.norm(data.T-A2)**2))\n",
        "  tykhonov_regularization = lambda_* 0.5 * (np.sum(np.square(W1))+np.sum(np.square(W2)))\n",
        "  p_j = np.mean(A1,axis=1,keepdims=True)\n",
        "  kl_divergence = beta*np.sum(rho*np.log(rho/p_j) + (1-rho)*np.log((1-rho)/(1-p_j)))\n",
        "  J = avarage_squared_error + tykhonov_regularization + kl_divergence\n",
        "\n",
        "  #Backward propagate and J_grad\n",
        "  dA2 = (1/N)*(data.T - A2) * -1\n",
        "  dZ2 = dA2 * d_activation_2\n",
        "  dA1 = np.matmul(W2.T,dZ2) + beta * (-(rho/p_j) + (1-rho)/(1-p_j))\n",
        "  dZ1 = dA1 * d_activation_1\n",
        "  d_tykhonov_1 = lambda_* W1\n",
        "  d_tykhonov_2 = lambda_ * W2\n",
        "  dW1 = (np.matmul(dZ1,data) + d_tykhonov_1)\n",
        "  db1 = np.sum(dZ1,axis=1,keepdims=True)  \n",
        "  dW2 = (np.matmul(dZ2,A1.T) + d_tykhonov_2)\n",
        "  db2 = np.sum(dZ2,axis=1,keepdims=True)\n",
        "\n",
        "  J_grad = {\"dW1\":dW1,\"dW2\":dW2,\"db1\":db1,\"db2\":db2}\n",
        "  #print(f\"MSE={avarage_squared_error} KL={kl_divergence} REG={tykhonov_regularization} TOTAL={J}\")\n",
        "  return J,J_grad    "
      ]
    },
    {
      "cell_type": "code",
      "execution_count": null,
      "metadata": {
        "id": "2lGb6uDQXjWe"
      },
      "outputs": [],
      "source": [
        "def update_parameters(We,J_grad,learning_rate,change_dict,momentum_rate):\n",
        "  W1 = We[\"W1\"]\n",
        "  W2 = We[\"W2\"]\n",
        "  b1 = We[\"b1\"]\n",
        "  b2 = We[\"b2\"]\n",
        "\n",
        "  dW1 = J_grad[\"dW1\"]\n",
        "  dW2 = J_grad[\"dW2\"]\n",
        "  db1 = J_grad[\"db1\"]\n",
        "  db2 = J_grad[\"db2\"]\n",
        "\n",
        "  c_W1 = change_dict[\"W1\"]\n",
        "  c_W2 = change_dict[\"W2\"]\n",
        "  c_b1 = change_dict[\"b1\"]\n",
        "  c_b2 = change_dict[\"b2\"]\n",
        "\n",
        "  delta_W1 = learning_rate*dW1 + c_W1*momentum_rate\n",
        "  delta_W2 = learning_rate*dW2 + c_W2*momentum_rate\n",
        "  delta_b1 = learning_rate*db1 + c_b1*momentum_rate\n",
        "  delta_b2 = learning_rate*db2 + c_b2*momentum_rate\n",
        "\n",
        "  W1 = W1 - delta_W1\n",
        "  W2 = W2 - delta_W2\n",
        "  b1 = b1 - delta_b1\n",
        "  b2 = b2 - delta_b2\n",
        "\n",
        "  We = {\"W1\":W1,\"b1\":b1,\"W2\":W2,\"b2\":b2}\n",
        "  change_dict = {\"W1\":delta_W1,\"b1\":delta_b1,\"W2\":delta_W2,\"b2\":delta_b2}\n",
        "  return We,change_dict\n"
      ]
    },
    {
      "cell_type": "code",
      "execution_count": null,
      "metadata": {
        "id": "rwRxxHj5nDQS"
      },
      "outputs": [],
      "source": [
        "def gradient_descent(We,params,data,epoch,learning_rate,change_dict,momentum_rate,batch_size):\n",
        "  N = data.shape[0]\n",
        "  iteration_per_epoch = int(N / batch_size)\n",
        "  for i in range(epoch):\n",
        "    mini_batch_start_index = 0\n",
        "    mini_batch_end_index = batch_size\n",
        "    sample_order = np.random.permutation(N)\n",
        "    data = data[sample_order]\n",
        "    J_mean = 0\n",
        "    for j in range(iteration_per_epoch):\n",
        "      mini_batch_data = data[mini_batch_start_index:mini_batch_end_index]      \n",
        "      J,J_grad = aeCost(We,mini_batch_data,params)\n",
        "      We,change_dict = update_parameters(We,J_grad,learning_rate,change_dict,momentum_rate)\n",
        "      mini_batch_start_index = mini_batch_end_index\n",
        "      mini_batch_end_index = mini_batch_end_index + batch_size\n",
        "      J_mean = J_mean + J\n",
        "\n",
        "    J_mean = J_mean / iteration_per_epoch\n",
        "    print(f\"Epoch = {i+1} ---> Training error: {J_mean}\")  \n",
        "  \n",
        "  return We"
      ]
    },
    {
      "cell_type": "code",
      "execution_count": null,
      "metadata": {
        "colab": {
          "base_uri": "https://localhost:8080/"
        },
        "id": "29zeLusyoAvP",
        "outputId": "df4289c3-7393-45e2-db6b-c52f3cd564db"
      },
      "outputs": [
        {
          "name": "stdout",
          "output_type": "stream",
          "text": [
            "Epoch = 1 ---> Training error: 2.5729349331880074\n",
            "Epoch = 2 ---> Training error: 1.9271595061790872\n",
            "Epoch = 3 ---> Training error: 1.8093354126755465\n",
            "Epoch = 4 ---> Training error: 1.7458568420890501\n",
            "Epoch = 5 ---> Training error: 1.670440403466941\n",
            "Epoch = 6 ---> Training error: 1.613556325443735\n",
            "Epoch = 7 ---> Training error: 1.5780343015469345\n",
            "Epoch = 8 ---> Training error: 1.5611792472514172\n",
            "Epoch = 9 ---> Training error: 1.5481201569846115\n",
            "Epoch = 10 ---> Training error: 1.5352672658871955\n",
            "Epoch = 11 ---> Training error: 1.522963149466696\n",
            "Epoch = 12 ---> Training error: 1.5105196260632427\n",
            "Epoch = 13 ---> Training error: 1.4984065903805233\n",
            "Epoch = 14 ---> Training error: 1.490007127637374\n",
            "Epoch = 15 ---> Training error: 1.4792676829153186\n",
            "Epoch = 16 ---> Training error: 1.4702029277244915\n",
            "Epoch = 17 ---> Training error: 1.4619876120285453\n",
            "Epoch = 18 ---> Training error: 1.4537566958784183\n",
            "Epoch = 19 ---> Training error: 1.4470500755781266\n",
            "Epoch = 20 ---> Training error: 1.4409989472158387\n",
            "Epoch = 21 ---> Training error: 1.4359915125179317\n",
            "Epoch = 22 ---> Training error: 1.4317983917296133\n",
            "Epoch = 23 ---> Training error: 1.426568179414214\n",
            "Epoch = 24 ---> Training error: 1.4228218839598992\n",
            "Epoch = 25 ---> Training error: 1.4188334136208807\n",
            "Epoch = 26 ---> Training error: 1.415802106933484\n",
            "Epoch = 27 ---> Training error: 1.4121849461338738\n",
            "Epoch = 28 ---> Training error: 1.4100583975988699\n",
            "Epoch = 29 ---> Training error: 1.407591578972275\n",
            "Epoch = 30 ---> Training error: 1.4042545224683356\n",
            "Epoch = 31 ---> Training error: 1.4027236477928633\n",
            "Epoch = 32 ---> Training error: 1.3998537375287432\n",
            "Epoch = 33 ---> Training error: 1.3975368380749156\n",
            "Epoch = 34 ---> Training error: 1.3963535033017673\n",
            "Epoch = 35 ---> Training error: 1.3941849821458117\n",
            "Epoch = 36 ---> Training error: 1.392935404210691\n",
            "Epoch = 37 ---> Training error: 1.3913075765953233\n",
            "Epoch = 38 ---> Training error: 1.389679213816117\n",
            "Epoch = 39 ---> Training error: 1.3872964446366622\n",
            "Epoch = 40 ---> Training error: 1.38590470857079\n",
            "Epoch = 41 ---> Training error: 1.3849285864587824\n",
            "Epoch = 42 ---> Training error: 1.383659358731831\n",
            "Epoch = 43 ---> Training error: 1.3823974945002981\n",
            "Epoch = 44 ---> Training error: 1.3813714643763795\n",
            "Epoch = 45 ---> Training error: 1.3801842056841371\n",
            "Epoch = 46 ---> Training error: 1.3784671994354025\n",
            "Epoch = 47 ---> Training error: 1.377426680528632\n",
            "Epoch = 48 ---> Training error: 1.3764489229012002\n",
            "Epoch = 49 ---> Training error: 1.376041795040822\n",
            "Epoch = 50 ---> Training error: 1.3744521289534544\n",
            "Epoch = 51 ---> Training error: 1.374242891959081\n",
            "Epoch = 52 ---> Training error: 1.3734947514989482\n",
            "Epoch = 53 ---> Training error: 1.371853529721658\n",
            "Epoch = 54 ---> Training error: 1.3698348671648397\n",
            "Epoch = 55 ---> Training error: 1.3706824090190661\n",
            "Epoch = 56 ---> Training error: 1.3691497415778988\n",
            "Epoch = 57 ---> Training error: 1.3679806901161347\n",
            "Epoch = 58 ---> Training error: 1.3681951283522318\n",
            "Epoch = 59 ---> Training error: 1.3676481805272938\n",
            "Epoch = 60 ---> Training error: 1.3657229368571695\n",
            "Epoch = 61 ---> Training error: 1.3648627174602095\n",
            "Epoch = 62 ---> Training error: 1.3645114547907378\n",
            "Epoch = 63 ---> Training error: 1.363213643144243\n",
            "Epoch = 64 ---> Training error: 1.3629060802315687\n",
            "Epoch = 65 ---> Training error: 1.3623551524331579\n",
            "Epoch = 66 ---> Training error: 1.361491113483193\n",
            "Epoch = 67 ---> Training error: 1.3606934117506297\n",
            "Epoch = 68 ---> Training error: 1.359511129751278\n",
            "Epoch = 69 ---> Training error: 1.3592889658278577\n",
            "Epoch = 70 ---> Training error: 1.3579154432561622\n",
            "Epoch = 71 ---> Training error: 1.35840456354515\n",
            "Epoch = 72 ---> Training error: 1.3570343681551285\n",
            "Epoch = 73 ---> Training error: 1.3550101570894937\n",
            "Epoch = 74 ---> Training error: 1.3547098720504573\n",
            "Epoch = 75 ---> Training error: 1.3550734169048038\n",
            "Epoch = 76 ---> Training error: 1.352143440008175\n",
            "Epoch = 77 ---> Training error: 1.3514868317020792\n",
            "Epoch = 78 ---> Training error: 1.3514463205690839\n",
            "Epoch = 79 ---> Training error: 1.3498983108893068\n",
            "Epoch = 80 ---> Training error: 1.3470922139708994\n",
            "Epoch = 81 ---> Training error: 1.345578820418933\n",
            "Epoch = 82 ---> Training error: 1.3451251176288948\n",
            "Epoch = 83 ---> Training error: 1.347432837622621\n",
            "Epoch = 84 ---> Training error: 1.3431571510748177\n",
            "Epoch = 85 ---> Training error: 1.3416205480208032\n",
            "Epoch = 86 ---> Training error: 1.339665438511605\n",
            "Epoch = 87 ---> Training error: 1.3397474678425616\n",
            "Epoch = 88 ---> Training error: 1.3372839535159013\n",
            "Epoch = 89 ---> Training error: 1.3375821691300984\n",
            "Epoch = 90 ---> Training error: 1.3367697892738142\n",
            "Epoch = 91 ---> Training error: 1.329226741534873\n",
            "Epoch = 92 ---> Training error: 1.3269642134916926\n",
            "Epoch = 93 ---> Training error: 1.3271373577050731\n",
            "Epoch = 94 ---> Training error: 1.327576871955071\n",
            "Epoch = 95 ---> Training error: 1.3248023375178593\n",
            "Epoch = 96 ---> Training error: 1.323503908718428\n",
            "Epoch = 97 ---> Training error: 1.3237458678199054\n",
            "Epoch = 98 ---> Training error: 1.3196768016507585\n",
            "Epoch = 99 ---> Training error: 1.3188278640517046\n",
            "Epoch = 100 ---> Training error: 1.3153467752440997\n",
            "Epoch = 101 ---> Training error: 1.3170673980062262\n",
            "Epoch = 102 ---> Training error: 1.316471058551056\n",
            "Epoch = 103 ---> Training error: 1.315394059995101\n",
            "Epoch = 104 ---> Training error: 1.3120885166853389\n",
            "Epoch = 105 ---> Training error: 1.3134692246835866\n",
            "Epoch = 106 ---> Training error: 1.3146787710020136\n",
            "Epoch = 107 ---> Training error: 1.3102314501433387\n",
            "Epoch = 108 ---> Training error: 1.3118762501328463\n",
            "Epoch = 109 ---> Training error: 1.3097973222559989\n",
            "Epoch = 110 ---> Training error: 1.3107925820528588\n",
            "Epoch = 111 ---> Training error: 1.3095102350508268\n",
            "Epoch = 112 ---> Training error: 1.3082991319354138\n",
            "Epoch = 113 ---> Training error: 1.3103507626841933\n",
            "Epoch = 114 ---> Training error: 1.3102317777368033\n",
            "Epoch = 115 ---> Training error: 1.3089105428195915\n",
            "Epoch = 116 ---> Training error: 1.30766536538507\n",
            "Epoch = 117 ---> Training error: 1.3082143643734878\n",
            "Epoch = 118 ---> Training error: 1.3100759913435884\n",
            "Epoch = 119 ---> Training error: 1.307165392591378\n",
            "Epoch = 120 ---> Training error: 1.3068980262261207\n",
            "Epoch = 121 ---> Training error: 1.3064108188039611\n",
            "Epoch = 122 ---> Training error: 1.306332693679251\n",
            "Epoch = 123 ---> Training error: 1.307857187093309\n",
            "Epoch = 124 ---> Training error: 1.3064135220923958\n",
            "Epoch = 125 ---> Training error: 1.3060274859450447\n",
            "Epoch = 126 ---> Training error: 1.305993503725459\n",
            "Epoch = 127 ---> Training error: 1.305724751787168\n",
            "Epoch = 128 ---> Training error: 1.3055868482749138\n",
            "Epoch = 129 ---> Training error: 1.3042270870444859\n",
            "Epoch = 130 ---> Training error: 1.3052693740670744\n",
            "Epoch = 131 ---> Training error: 1.3047307790416744\n",
            "Epoch = 132 ---> Training error: 1.3050711400944788\n",
            "Epoch = 133 ---> Training error: 1.305416246364634\n",
            "Epoch = 134 ---> Training error: 1.3048607201283375\n",
            "Epoch = 135 ---> Training error: 1.3046358832343825\n",
            "Epoch = 136 ---> Training error: 1.3046882325005142\n",
            "Epoch = 137 ---> Training error: 1.3045716472587636\n",
            "Epoch = 138 ---> Training error: 1.304558467050371\n",
            "Epoch = 139 ---> Training error: 1.3040580751926587\n",
            "Epoch = 140 ---> Training error: 1.3032806178680594\n",
            "Epoch = 141 ---> Training error: 1.3041663099391259\n",
            "Epoch = 142 ---> Training error: 1.3035900624523173\n",
            "Epoch = 143 ---> Training error: 1.3039011683005683\n",
            "Epoch = 144 ---> Training error: 1.3042585813719\n",
            "Epoch = 145 ---> Training error: 1.3037855036495634\n",
            "Epoch = 146 ---> Training error: 1.3036782031602412\n",
            "Epoch = 147 ---> Training error: 1.3033354751250275\n",
            "Epoch = 148 ---> Training error: 1.3028275457377836\n",
            "Epoch = 149 ---> Training error: 1.3034661097517215\n",
            "Epoch = 150 ---> Training error: 1.3031369045996328\n",
            "Epoch = 151 ---> Training error: 1.3029337073104847\n",
            "Epoch = 152 ---> Training error: 1.3040433145677242\n",
            "Epoch = 153 ---> Training error: 1.302857162777658\n",
            "Epoch = 154 ---> Training error: 1.3029248818019528\n",
            "Epoch = 155 ---> Training error: 1.3032824363739848\n",
            "Epoch = 156 ---> Training error: 1.3018541278863196\n",
            "Epoch = 157 ---> Training error: 1.3030227298906838\n",
            "Epoch = 158 ---> Training error: 1.3015972202819608\n",
            "Epoch = 159 ---> Training error: 1.3022924478739935\n",
            "Epoch = 160 ---> Training error: 1.3025039191144299\n",
            "Epoch = 161 ---> Training error: 1.302717391984645\n",
            "Epoch = 162 ---> Training error: 1.3017700981918616\n",
            "Epoch = 163 ---> Training error: 1.3029544366081525\n",
            "Epoch = 164 ---> Training error: 1.3020124141859297\n",
            "Epoch = 165 ---> Training error: 1.3021568213744261\n",
            "Epoch = 166 ---> Training error: 1.3018427506888157\n",
            "Epoch = 167 ---> Training error: 1.3021881883643296\n",
            "Epoch = 168 ---> Training error: 1.302111857413665\n",
            "Epoch = 169 ---> Training error: 1.3019108687972025\n",
            "Epoch = 170 ---> Training error: 1.302168818585465\n",
            "Epoch = 171 ---> Training error: 1.3017383187133382\n",
            "Epoch = 172 ---> Training error: 1.3011014792142415\n",
            "Epoch = 173 ---> Training error: 1.3017533237533643\n",
            "Epoch = 174 ---> Training error: 1.3009280555061324\n",
            "Epoch = 175 ---> Training error: 1.3014251966252424\n",
            "Epoch = 176 ---> Training error: 1.3011886859380914\n",
            "Epoch = 177 ---> Training error: 1.3021554167439313\n",
            "Epoch = 178 ---> Training error: 1.301524823711967\n",
            "Epoch = 179 ---> Training error: 1.3008759192092145\n",
            "Epoch = 180 ---> Training error: 1.3011718918382376\n",
            "Epoch = 181 ---> Training error: 1.3019730447519569\n",
            "Epoch = 182 ---> Training error: 1.300344266750439\n",
            "Epoch = 183 ---> Training error: 1.3005752535163408\n",
            "Epoch = 184 ---> Training error: 1.301291310618206\n",
            "Epoch = 185 ---> Training error: 1.3011386904424933\n",
            "Epoch = 186 ---> Training error: 1.300878579261037\n",
            "Epoch = 187 ---> Training error: 1.3006177405522599\n",
            "Epoch = 188 ---> Training error: 1.3001362513916352\n",
            "Epoch = 189 ---> Training error: 1.3014963797219028\n",
            "Epoch = 190 ---> Training error: 1.3005935075802924\n",
            "Epoch = 191 ---> Training error: 1.3003941384807716\n",
            "Epoch = 192 ---> Training error: 1.3010961513720138\n",
            "Epoch = 193 ---> Training error: 1.3004577320400215\n",
            "Epoch = 194 ---> Training error: 1.3002025230412506\n",
            "Epoch = 195 ---> Training error: 1.3006685360820687\n",
            "Epoch = 196 ---> Training error: 1.3008106729434719\n",
            "Epoch = 197 ---> Training error: 1.3009533760789536\n",
            "Epoch = 198 ---> Training error: 1.3010212919116273\n",
            "Epoch = 199 ---> Training error: 1.300462168152317\n",
            "Epoch = 200 ---> Training error: 1.300195616667166\n"
          ]
        }
      ],
      "source": [
        "We = init_parameters(256,64)\n",
        "params = {\"Lin\":256, \"Lhid\":64, \"lambda\":5e-4, \"beta\":0.01,\"rho\":0.03}\n",
        "change_dict = {\"W1\":0,\"b1\":0,\"W2\":0,\"b2\":0}\n",
        "We = gradient_descent(We,params,gray_image,200,0.6,change_dict,0.4,32)"
      ]
    },
    {
      "cell_type": "code",
      "execution_count": null,
      "metadata": {
        "colab": {
          "base_uri": "https://localhost:8080/",
          "height": 901
        },
        "id": "JspX7LYi6cbo",
        "outputId": "9eebda32-e75e-4904-917c-05940367aa4f"
      },
      "outputs": [
        {
          "data": {
            "image/png": "[encoded data removed]",
            "text/plain": [
              "<Figure size 1152x1152 with 64 Axes>"
            ]
          },
          "metadata": {},
          "output_type": "display_data"
        }
      ],
      "source": [
        "#plot weights\n",
        "fig_w, ax_w = plt.subplots(8,8,figsize=(16,16))\n",
        "neuron_number = 0\n",
        "for i in range(8):\n",
        "  for j in range(8):\n",
        "    ax_w[i,j].imshow(We[\"W1\"][neuron_number].reshape(16,16),cmap=\"gray\")\n",
        "    ax_w[i,j].axis(\"off\")\n",
        "    neuron_number = neuron_number + 1"
      ]
    },
    {
      "cell_type": "code",
      "execution_count": null,
      "metadata": {
        "colab": {
          "base_uri": "https://localhost:8080/"
        },
        "id": "LcTsgEkBmHdt",
        "outputId": "0723c977-2653-4c5e-f4e0-1b9ba11cb1ed"
      },
      "outputs": [
        {
          "name": "stdout",
          "output_type": "stream",
          "text": [
            "Epoch = 1 ---> Training error: 2.5065230676530366\n",
            "Epoch = 2 ---> Training error: 1.8027096153008515\n",
            "Epoch = 3 ---> Training error: 1.6475997355962466\n",
            "Epoch = 4 ---> Training error: 1.5099608020205977\n",
            "Epoch = 5 ---> Training error: 1.384773188159471\n",
            "Epoch = 6 ---> Training error: 1.3049108804924388\n",
            "Epoch = 7 ---> Training error: 1.2506024473514132\n",
            "Epoch = 8 ---> Training error: 1.1975993503467524\n",
            "Epoch = 9 ---> Training error: 1.1495933682554293\n",
            "Epoch = 10 ---> Training error: 1.1046307681278837\n",
            "Epoch = 11 ---> Training error: 1.0648531610912835\n",
            "Epoch = 12 ---> Training error: 1.0305304417893444\n",
            "Epoch = 13 ---> Training error: 1.0022567814689096\n",
            "Epoch = 14 ---> Training error: 0.9771807543577161\n",
            "Epoch = 15 ---> Training error: 0.9535088527626929\n",
            "Epoch = 16 ---> Training error: 0.9331476329099759\n",
            "Epoch = 17 ---> Training error: 0.9175614639999712\n",
            "Epoch = 18 ---> Training error: 0.9025448301491655\n",
            "Epoch = 19 ---> Training error: 0.891417414861938\n",
            "Epoch = 20 ---> Training error: 0.879485339091649\n",
            "Epoch = 21 ---> Training error: 0.8705024040274674\n",
            "Epoch = 22 ---> Training error: 0.8579146657940218\n",
            "Epoch = 23 ---> Training error: 0.853465770662204\n",
            "Epoch = 24 ---> Training error: 0.8373407676203699\n",
            "Epoch = 25 ---> Training error: 0.8355016590409068\n",
            "Epoch = 26 ---> Training error: 0.8300366992483058\n",
            "Epoch = 27 ---> Training error: 0.8247014247742401\n",
            "Epoch = 28 ---> Training error: 0.8169792253961987\n",
            "Epoch = 29 ---> Training error: 0.8156626725801125\n",
            "Epoch = 30 ---> Training error: 0.8308405461916761\n",
            "Epoch = 31 ---> Training error: 0.7950200884162177\n",
            "Epoch = 32 ---> Training error: 0.7860279601916564\n",
            "Epoch = 33 ---> Training error: 0.7925131542214904\n",
            "Epoch = 34 ---> Training error: 0.7803570179763437\n",
            "Epoch = 35 ---> Training error: 0.7939713837758652\n",
            "Epoch = 36 ---> Training error: 0.7611626711340276\n",
            "Epoch = 37 ---> Training error: 0.7737345438840414\n",
            "Epoch = 38 ---> Training error: 0.7598357361319954\n",
            "Epoch = 39 ---> Training error: 0.7476540217568204\n",
            "Epoch = 40 ---> Training error: 0.7539463106241903\n",
            "Epoch = 41 ---> Training error: 0.7442585061489589\n",
            "Epoch = 42 ---> Training error: 0.7401311575745398\n",
            "Epoch = 43 ---> Training error: 0.737330512019726\n",
            "Epoch = 44 ---> Training error: 0.7264472761489708\n",
            "Epoch = 45 ---> Training error: 0.7315071658132352\n",
            "Epoch = 46 ---> Training error: 0.723761819233345\n",
            "Epoch = 47 ---> Training error: 0.7301115321776607\n",
            "Epoch = 48 ---> Training error: 0.7203272736972055\n",
            "Epoch = 49 ---> Training error: 0.7125726109285487\n",
            "Epoch = 50 ---> Training error: 0.7068457818169878\n",
            "Epoch = 51 ---> Training error: 0.7037270062393858\n",
            "Epoch = 52 ---> Training error: 0.7050887217738226\n",
            "Epoch = 53 ---> Training error: 0.69605419934211\n",
            "Epoch = 54 ---> Training error: 0.7022232289602467\n",
            "Epoch = 55 ---> Training error: 0.6947271663550748\n",
            "Epoch = 56 ---> Training error: 0.7065702492763564\n",
            "Epoch = 57 ---> Training error: 0.688098817599329\n",
            "Epoch = 58 ---> Training error: 0.6981590056768603\n",
            "Epoch = 59 ---> Training error: 0.6795104031094906\n",
            "Epoch = 60 ---> Training error: 0.6790676658685955\n",
            "Epoch = 61 ---> Training error: 0.6837933215151455\n",
            "Epoch = 62 ---> Training error: 0.6843690516524639\n",
            "Epoch = 63 ---> Training error: 0.6811635208803646\n",
            "Epoch = 64 ---> Training error: 0.6804489380601844\n",
            "Epoch = 65 ---> Training error: 0.676660663224827\n",
            "Epoch = 66 ---> Training error: 0.677531496188444\n",
            "Epoch = 67 ---> Training error: 0.6791723842670321\n",
            "Epoch = 68 ---> Training error: 0.6693731220523064\n",
            "Epoch = 69 ---> Training error: 0.655990747262154\n",
            "Epoch = 70 ---> Training error: 0.6653306656311503\n",
            "Epoch = 71 ---> Training error: 0.6665811250864181\n",
            "Epoch = 72 ---> Training error: 0.6562251124848768\n",
            "Epoch = 73 ---> Training error: 0.664715364862357\n",
            "Epoch = 74 ---> Training error: 0.6589531621224811\n",
            "Epoch = 75 ---> Training error: 0.6619593640841938\n",
            "Epoch = 76 ---> Training error: 0.7059939139293261\n",
            "Epoch = 77 ---> Training error: 0.6469763196580022\n",
            "Epoch = 78 ---> Training error: 0.6506808850648818\n",
            "Epoch = 79 ---> Training error: 0.6328307931739049\n",
            "Epoch = 80 ---> Training error: 0.6328914885075797\n",
            "Epoch = 81 ---> Training error: 0.6472459128790325\n",
            "Epoch = 82 ---> Training error: 0.6356345373123439\n",
            "Epoch = 83 ---> Training error: 0.6460264834635745\n",
            "Epoch = 84 ---> Training error: 0.6310909529165181\n",
            "Epoch = 85 ---> Training error: 0.6310578387049524\n",
            "Epoch = 86 ---> Training error: 0.6275857963833984\n",
            "Epoch = 87 ---> Training error: 0.6351626717900929\n",
            "Epoch = 88 ---> Training error: 0.6362619621859994\n",
            "Epoch = 89 ---> Training error: 0.6349317497940491\n",
            "Epoch = 90 ---> Training error: 0.6156868380684914\n",
            "Epoch = 91 ---> Training error: 0.6261455366214206\n",
            "Epoch = 92 ---> Training error: 0.6277240644650246\n",
            "Epoch = 93 ---> Training error: 0.6259986530047497\n",
            "Epoch = 94 ---> Training error: 0.6221579821174691\n",
            "Epoch = 95 ---> Training error: 0.6153011593609883\n",
            "Epoch = 96 ---> Training error: 0.6159171623011981\n",
            "Epoch = 97 ---> Training error: 0.6239466402600302\n",
            "Epoch = 98 ---> Training error: 0.6074408842730168\n",
            "Epoch = 99 ---> Training error: 0.6121489793018172\n",
            "Epoch = 100 ---> Training error: 0.6146047143482546\n",
            "Epoch = 101 ---> Training error: 0.6160858280118737\n",
            "Epoch = 102 ---> Training error: 0.6075235226016953\n",
            "Epoch = 103 ---> Training error: 0.6041315171873779\n",
            "Epoch = 104 ---> Training error: 0.611812350193418\n",
            "Epoch = 105 ---> Training error: 0.5960607007624625\n",
            "Epoch = 106 ---> Training error: 0.6171245484874543\n",
            "Epoch = 107 ---> Training error: 0.6098074474385404\n",
            "Epoch = 108 ---> Training error: 0.5943236161774876\n",
            "Epoch = 109 ---> Training error: 0.6136177779377737\n",
            "Epoch = 110 ---> Training error: 0.6027672554506186\n",
            "Epoch = 111 ---> Training error: 0.6132218334719226\n",
            "Epoch = 112 ---> Training error: 0.6116828611544947\n",
            "Epoch = 113 ---> Training error: 0.6109103968314271\n",
            "Epoch = 114 ---> Training error: 0.6039421729197811\n",
            "Epoch = 115 ---> Training error: 0.5996037455429079\n",
            "Epoch = 116 ---> Training error: 0.6070997454947605\n",
            "Epoch = 117 ---> Training error: 0.5919422390962745\n",
            "Epoch = 118 ---> Training error: 0.6047900704035968\n",
            "Epoch = 119 ---> Training error: 0.5978366512263926\n",
            "Epoch = 120 ---> Training error: 0.628075667097417\n",
            "Epoch = 121 ---> Training error: 0.6039739547644991\n",
            "Epoch = 122 ---> Training error: 0.5941665642210007\n",
            "Epoch = 123 ---> Training error: 0.5932204005697244\n",
            "Epoch = 124 ---> Training error: 0.5889979836122626\n",
            "Epoch = 125 ---> Training error: 0.5948212013599838\n",
            "Epoch = 126 ---> Training error: 0.6017739013423579\n",
            "Epoch = 127 ---> Training error: 0.5996474070274107\n",
            "Epoch = 128 ---> Training error: 0.5869937695885711\n",
            "Epoch = 129 ---> Training error: 0.5926465397941834\n",
            "Epoch = 130 ---> Training error: 0.588404947195692\n",
            "Epoch = 131 ---> Training error: 0.5942624814487395\n",
            "Epoch = 132 ---> Training error: 0.5884541042616582\n",
            "Epoch = 133 ---> Training error: 0.5939009023256003\n",
            "Epoch = 134 ---> Training error: 0.5901131700156682\n",
            "Epoch = 135 ---> Training error: 0.5948910081092802\n",
            "Epoch = 136 ---> Training error: 0.6017019099554285\n",
            "Epoch = 137 ---> Training error: 0.5880804229783935\n",
            "Epoch = 138 ---> Training error: 0.5945177185763562\n",
            "Epoch = 139 ---> Training error: 0.5878199188476515\n",
            "Epoch = 140 ---> Training error: 0.5858177692611126\n",
            "Epoch = 141 ---> Training error: 0.5894518188884521\n",
            "Epoch = 142 ---> Training error: 0.5993687230195588\n",
            "Epoch = 143 ---> Training error: 0.6139262530606121\n",
            "Epoch = 144 ---> Training error: 0.599119995770891\n",
            "Epoch = 145 ---> Training error: 0.5834219617416646\n",
            "Epoch = 146 ---> Training error: 0.5912740272501465\n",
            "Epoch = 147 ---> Training error: 0.5887368519757241\n",
            "Epoch = 148 ---> Training error: 0.5819450906011265\n",
            "Epoch = 149 ---> Training error: 0.5958809846834136\n",
            "Epoch = 150 ---> Training error: 0.5853558410938621\n",
            "Epoch = 151 ---> Training error: 0.5937638339653579\n",
            "Epoch = 152 ---> Training error: 0.5892839423765024\n",
            "Epoch = 153 ---> Training error: 0.6058660454348305\n",
            "Epoch = 154 ---> Training error: 0.5895637531270875\n",
            "Epoch = 155 ---> Training error: 0.5983537863525437\n",
            "Epoch = 156 ---> Training error: 0.584400718932567\n",
            "Epoch = 157 ---> Training error: 0.588417480100985\n",
            "Epoch = 158 ---> Training error: 0.5858253332112254\n",
            "Epoch = 159 ---> Training error: 0.598116654318223\n",
            "Epoch = 160 ---> Training error: 0.5793708511030938\n",
            "Epoch = 161 ---> Training error: 0.5878825159158468\n",
            "Epoch = 162 ---> Training error: 0.5943135503046679\n",
            "Epoch = 163 ---> Training error: 0.5883542195886199\n",
            "Epoch = 164 ---> Training error: 0.5773011548799121\n",
            "Epoch = 165 ---> Training error: 0.5790072377076142\n",
            "Epoch = 166 ---> Training error: 0.5847630057436943\n",
            "Epoch = 167 ---> Training error: 0.5884324225135122\n",
            "Epoch = 168 ---> Training error: 0.6014158454732694\n",
            "Epoch = 169 ---> Training error: 0.5849846143067555\n",
            "Epoch = 170 ---> Training error: 0.5886666738765627\n",
            "Epoch = 171 ---> Training error: 0.5895068654251909\n",
            "Epoch = 172 ---> Training error: 0.5907361230768557\n",
            "Epoch = 173 ---> Training error: 0.5918914353857351\n",
            "Epoch = 174 ---> Training error: 0.5938973587175611\n",
            "Epoch = 175 ---> Training error: 0.5857919124331442\n",
            "Epoch = 176 ---> Training error: 0.5944765702903203\n",
            "Epoch = 177 ---> Training error: 0.583012033321197\n",
            "Epoch = 178 ---> Training error: 0.5942665277490387\n",
            "Epoch = 179 ---> Training error: 0.5829223188449627\n",
            "Epoch = 180 ---> Training error: 0.5997492825954652\n",
            "Epoch = 181 ---> Training error: 0.5754348273607138\n",
            "Epoch = 182 ---> Training error: 0.5923859896265016\n",
            "Epoch = 183 ---> Training error: 0.6088026973125708\n",
            "Epoch = 184 ---> Training error: 0.5880917233240384\n",
            "Epoch = 185 ---> Training error: 0.58192968676291\n",
            "Epoch = 186 ---> Training error: 0.590088185521914\n",
            "Epoch = 187 ---> Training error: 0.598487756435486\n",
            "Epoch = 188 ---> Training error: 0.5824097367789874\n",
            "Epoch = 189 ---> Training error: 0.5953806178897768\n",
            "Epoch = 190 ---> Training error: 0.5835472083138835\n",
            "Epoch = 191 ---> Training error: 0.5918057318548281\n",
            "Epoch = 192 ---> Training error: 0.5903449379640004\n",
            "Epoch = 193 ---> Training error: 0.6008295995051767\n",
            "Epoch = 194 ---> Training error: 0.5919062397643111\n",
            "Epoch = 195 ---> Training error: 0.5935356906231375\n",
            "Epoch = 196 ---> Training error: 0.5784879725520481\n",
            "Epoch = 197 ---> Training error: 0.5949214684102857\n",
            "Epoch = 198 ---> Training error: 0.5765534654081904\n",
            "Epoch = 199 ---> Training error: 0.5904128117614198\n",
            "Epoch = 200 ---> Training error: 0.5808109316437159\n"
          ]
        }
      ],
      "source": [
        "We = init_parameters(256,81)\n",
        "params = {\"Lin\":256, \"Lhid\":81, \"lambda\":0, \"beta\":0.01,\"rho\":0.03}\n",
        "change_dict = {\"W1\":0,\"b1\":0,\"W2\":0,\"b2\":0}\n",
        "We = gradient_descent(We,params,gray_image,200,0.6,change_dict,0.4,32)"
      ]
    },
    {
      "cell_type": "code",
      "execution_count": null,
      "metadata": {
        "colab": {
          "base_uri": "https://localhost:8080/",
          "height": 901
        },
        "id": "eaOIxdZ2mg-_",
        "outputId": "0ae3fdbb-1ce1-45a7-a117-b235aea5a6cb"
      },
      "outputs": [
        {
          "data": {
            "image/png": "[encoded data removed]",
            "text/plain": [
              "<Figure size 1152x1152 with 81 Axes>"
            ]
          },
          "metadata": {},
          "output_type": "display_data"
        }
      ],
      "source": [
        "#plot weights\n",
        "fig_w, ax_w = plt.subplots(9,9,figsize=(16,16))\n",
        "neuron_number = 0\n",
        "for i in range(9):\n",
        "  for j in range(9):\n",
        "    ax_w[i,j].imshow(We[\"W1\"][neuron_number].reshape(16,16),cmap=\"gray\")\n",
        "    ax_w[i,j].axis(\"off\")\n",
        "    neuron_number = neuron_number + 1"
      ]
    },
    {
      "cell_type": "code",
      "execution_count": null,
      "metadata": {
        "colab": {
          "base_uri": "https://localhost:8080/"
        },
        "id": "KuNsmMrzFIaC",
        "outputId": "848cde25-eb7b-4af0-e5db-bc4bb31f34fa"
      },
      "outputs": [
        {
          "name": "stdout",
          "output_type": "stream",
          "text": [
            "['testd' 'testx' 'traind' 'trainx' 'vald' 'valx' 'words']\n"
          ]
        }
      ],
      "source": [
        "#Question 2\n",
        "a = np.array(h5py.File(\"/content/drive/MyDrive/Homework/NN_Mini/data2.h5\"))\n",
        "print(a)"
      ]
    },
    {
      "cell_type": "code",
      "execution_count": null,
      "metadata": {
        "id": "4AbJVndQMqS2"
      },
      "outputs": [],
      "source": [
        "def load_word_dataset(path):\n",
        "  x_train = np.array(h5py.File(path)[\"trainx\"]).T\n",
        "  y_train = np.array(h5py.File(path)[\"traind\"]).T\n",
        "  x_val = np.array(h5py.File(path)[\"valx\"]).T\n",
        "  y_val = np.array(h5py.File(path)[\"vald\"]).T\n",
        "  x_test = np.array(h5py.File(path)[\"testx\"]).T\n",
        "  y_test = np.array(h5py.File(path)[\"testd\"]).T\n",
        "  words = np.array(h5py.File(path)[\"words\"])\n",
        "\n",
        "  return x_train,y_train,x_val,y_val,x_test,y_test,words"
      ]
    },
    {
      "cell_type": "code",
      "execution_count": null,
      "metadata": {
        "colab": {
          "base_uri": "https://localhost:8080/"
        },
        "id": "5VQPCDP-Fxi4",
        "outputId": "81576a3f-fca7-406b-f84a-bf26fdbbd169"
      },
      "outputs": [
        {
          "name": "stdout",
          "output_type": "stream",
          "text": [
            "(3, 372500)\n",
            "(372500,)\n",
            "(3, 46500)\n",
            "(46500,)\n",
            "(3, 46500)\n",
            "(46500,)\n",
            "(250,)\n"
          ]
        }
      ],
      "source": [
        "x_train,y_train,x_val,y_val,x_test,y_test,words = load_word_dataset(\"/content/drive/MyDrive/Homework/NN_Mini/data2.h5\")\n",
        "print(x_train.shape)\n",
        "print(y_train.shape)\n",
        "print(x_val.shape)\n",
        "print(y_val.shape)\n",
        "print(x_test.shape)\n",
        "print(y_test.shape)\n",
        "print(words.shape)"
      ]
    },
    {
      "cell_type": "code",
      "execution_count": null,
      "metadata": {
        "colab": {
          "base_uri": "https://localhost:8080/"
        },
        "id": "52PndGU6ojsA",
        "outputId": "aa4d6933-fabf-4e30-b35d-6b263ad9e91a"
      },
      "outputs": [
        {
          "name": "stdout",
          "output_type": "stream",
          "text": [
            "1\n"
          ]
        }
      ],
      "source": [
        "print(x_train.min())"
      ]
    },
    {
      "cell_type": "code",
      "execution_count": null,
      "metadata": {
        "colab": {
          "base_uri": "https://localhost:8080/"
        },
        "id": "I_WFxwLXOj-q",
        "outputId": "dfb7f254-1a82-44c5-d278-ef7b6950a4f3"
      },
      "outputs": [
        {
          "name": "stdout",
          "output_type": "stream",
          "text": [
            "[b'all' b'set' b'just' b'show' b'being' b'money' b'over' b'both' b'years'\n",
            " b'four' b'through' b'during' b'go' b'still' b'children' b'before'\n",
            " b'police' b'office' b'million' b'also' b'less' b'had' b',' b'including'\n",
            " b'should' b'to' b'only' b'going' b'under' b'has' b'might' b'do' b'them'\n",
            " b'good' b'around' b'get' b'very' b'big' b'dr.' b'game' b'every' b'know'\n",
            " b'they' b'not' b'world' b'now' b'him' b'school' b'several' b'like' b'did'\n",
            " b'university' b'companies' b'these' b'she' b'team' b'found' b'where'\n",
            " b'right' b'says' b'people' b'house' b'national' b'some' b'back' b'see'\n",
            " b'street' b'are' b'year' b'home' b'best' b'out' b'even' b'what' b'said'\n",
            " b'for' b'federal' b'since' b'its' b'may' b'state' b'does' b'john'\n",
            " b'between' b'new' b';' b'three' b'public' b'?' b'be' b'we' b'after'\n",
            " b'business' b'never' b'use' b'here' b'york' b'members' b'percent' b'put'\n",
            " b'group' b'come' b'by' b'$' b'on' b'about' b'last' b'her' b'of' b'could'\n",
            " b'days' b'against' b'times' b'women' b'place' b'think' b'first' b'among'\n",
            " b'own' b'family' b'into' b'each' b'one' b'down' b'because' b'long'\n",
            " b'another' b'such' b'old' b'next' b'your' b'market' b'second' b'city'\n",
            " b'little' b'from' b'would' b'few' b'west' b'there' b'political' b'two'\n",
            " b'been' b'.' b'their' b'much' b'music' b'too' b'way' b'white' b':' b'was'\n",
            " b'war' b'today' b'more' b'ago' b'life' b'that' b'season' b'company' b'-'\n",
            " b'but' b'part' b'court' b'former' b'general' b'with' b'than' b'those'\n",
            " b'he' b'me' b'high' b'made' b'this' b'work' b'up' b'us' b'until' b'will'\n",
            " b'ms.' b'while' b'officials' b'can' b'were' b'country' b'my' b'called'\n",
            " b'and' b'program' b'have' b'then' b'is' b'it' b'an' b'states' b'case'\n",
            " b'say' b'his' b'at' b'want' b'in' b'any' b'as' b'if' b'united' b'end'\n",
            " b'no' b')' b'make' b'government' b'when' b'american' b'same' b'how'\n",
            " b'mr.' b'other' b'take' b'which' b'department' b'--' b'you' b'many' b'nt'\n",
            " b'day' b'week' b'play' b'used' b\"'s\" b'though' b'our' b'who' b'yesterday'\n",
            " b'director' b'most' b'president' b'law' b'man' b'a' b'night' b'off'\n",
            " b'center' b'i' b'well' b'or' b'without' b'so' b'time' b'five' b'the'\n",
            " b'left']\n"
          ]
        }
      ],
      "source": [
        "print(words)"
      ]
    },
    {
      "cell_type": "code",
      "execution_count": null,
      "metadata": {
        "id": "cEbglbhBOO8k"
      },
      "outputs": [],
      "source": [
        "#Returns the output and the derivative of activation function\n",
        "def sigmoid(Z):  \n",
        "  A = 1 / (1 + np.exp(-Z))\n",
        "  derivative = (1-A)*A  \n",
        "  return A,derivative"
      ]
    },
    {
      "cell_type": "code",
      "execution_count": null,
      "metadata": {
        "id": "lJz030FEOozf"
      },
      "outputs": [],
      "source": [
        "#WX + b\n",
        "def init(D,P):\n",
        "  np.random.seed(33)\n",
        "  word_embedding = np.random.normal(0,0.01,(250,D))\n",
        "  W1 = np.random.normal(0,0.01,(P,3*D))\n",
        "  b1 = np.random.normal(0,0.01,(P,1))\n",
        "  W2 = np.random.normal(0,0.01,(250,P))\n",
        "  b2 = np.random.normal(0,0.01,(250,1))\n",
        "  We = {\"W1\":W1,\"b1\":b1,\"W2\":W2,\"b2\":b2}\n",
        "  return word_embedding,We"
      ]
    },
    {
      "cell_type": "code",
      "execution_count": null,
      "metadata": {
        "id": "3gHsUKfAZ4ui"
      },
      "outputs": [],
      "source": [
        "def word_embedding_to_input_vector(word_embedding,x_train):\n",
        "  N = x_train.shape[1]\n",
        "  D = word_embedding.shape[1]\n",
        "  input_vector = np.zeros((3*D,N))\n",
        "  for i in range(N):\n",
        "    first_word = word_embedding[x_train[0,i]-1,:]\n",
        "    second_word = word_embedding[x_train[1,i]-1,:]\n",
        "    third_word = word_embedding[x_train[2,i]-1,:]\n",
        "\n",
        "    concat = np.concatenate((first_word,second_word,third_word))\n",
        "    concat = concat.T\n",
        "    input_vector[:,i] = concat\n",
        "  \n",
        "  return input_vector"
      ]
    },
    {
      "cell_type": "code",
      "execution_count": null,
      "metadata": {
        "id": "lpoPrWFuo3lo"
      },
      "outputs": [],
      "source": [
        "def cross_entropy(y_pred,y):  \n",
        "  return -np.sum(y*np.log(y_pred)) / y_pred.shape[1]"
      ]
    },
    {
      "cell_type": "code",
      "execution_count": null,
      "metadata": {
        "id": "95EuHYQxsonv"
      },
      "outputs": [],
      "source": [
        "def forward_propagate(We,data):\n",
        "  W1 = We[\"W1\"]\n",
        "  W2 = We[\"W2\"]\n",
        "  b1 = We[\"b1\"]\n",
        "  b2 = We[\"b2\"]\n",
        "  \n",
        "  Z1 = np.matmul(W1,data) + b1  \n",
        "  A1, d_activation_1 = sigmoid(Z1)\n",
        "  Z2 = np.matmul(W2,A1) + b2 \n",
        "  #calculate softmax\n",
        "  exps = np.exp(Z2-np.amax(Z2,axis=0)) #overcome exponential related overflows  \n",
        "  A2 = exps/np.sum(exps,axis=0)\n",
        "  return (Z1,A1,Z2,A2,d_activation_1)  "
      ]
    },
    {
      "cell_type": "code",
      "execution_count": null,
      "metadata": {
        "id": "MgscEQjfw-yw"
      },
      "outputs": [],
      "source": [
        "#Make y arrays one hot encoded\n",
        "def y_to_one_hot_encoded(y):\n",
        "  return np.eye(250)[:, y.ravel()-1]"
      ]
    },
    {
      "cell_type": "code",
      "execution_count": null,
      "metadata": {
        "colab": {
          "base_uri": "https://localhost:8080/"
        },
        "id": "KDokIWMX9Fnx",
        "outputId": "2d0e6459-f53c-43b8-d0d4-30560ac629fd"
      },
      "outputs": [
        {
          "name": "stdout",
          "output_type": "stream",
          "text": [
            "(250, 372500)\n",
            "(250, 46500)\n",
            "(250, 46500)\n"
          ]
        }
      ],
      "source": [
        "y_train_ =  y_to_one_hot_encoded(y_train)\n",
        "y_val_ =  y_to_one_hot_encoded(y_val)\n",
        "y_test_ =  y_to_one_hot_encoded(y_test)\n",
        "print(y_train_.shape)\n",
        "print(y_val_.shape)\n",
        "print(y_test_.shape)"
      ]
    },
    {
      "cell_type": "code",
      "execution_count": null,
      "metadata": {
        "id": "KE_0EObg3r_w"
      },
      "outputs": [],
      "source": [
        "def cost(We,word_embedding,x_train,y_train_):\n",
        "  W1 = We[\"W1\"]\n",
        "  W2 = We[\"W2\"]\n",
        "  b1 = We[\"b1\"]\n",
        "  b2 = We[\"b2\"]\n",
        "\n",
        "  #Create input vectors for training and validation\n",
        "  input_vector_train = word_embedding_to_input_vector(word_embedding,x_train)  \n",
        "\n",
        "  #Forward propagate for training\n",
        "  (Z1,A1,Z2,A2,d_activation_1) = forward_propagate(We,input_vector_train)\n",
        "\n",
        "  #Calculate training cost for this batch\n",
        "  batch_training_cost = cross_entropy(A2,y_train_)  \n",
        "\n",
        "  #Backward propagate    \n",
        "  dZ2 = A2 - y_train_\n",
        "  dA1 = np.matmul(W2.T,dZ2)\n",
        "  dZ1 = dA1 * d_activation_1 \n",
        "  dW1 = np.matmul(dZ1,input_vector_train.T)\n",
        "  db1 = np.sum(dZ1,axis=1,keepdims=True)  \n",
        "  dW2 = np.matmul(dZ2,A1.T)\n",
        "  db2 = np.sum(dZ2,axis=1,keepdims=True)\n",
        "  dA0 = np.matmul(W1.T,dZ1) #gradient for the input vector\n",
        "\n",
        "  grads={\"dW1\":dW1,\"dW2\":dW2,\"db1\":db1,\"db2\":db2,\"dA0\":dA0}\n",
        "  return batch_training_cost, grads"
      ]
    },
    {
      "cell_type": "code",
      "execution_count": null,
      "metadata": {
        "id": "kZO8-uco-PrC"
      },
      "outputs": [],
      "source": [
        "def update_parameters(We,grads,learning_rate,word_embedding,x_train,start_index,end_index,momentum_dict,momentum_rate):\n",
        "  dW1 = grads[\"dW1\"]\n",
        "  dW2 = grads[\"dW2\"]\n",
        "  db1 = grads[\"db1\"]\n",
        "  db2 = grads[\"db2\"]\n",
        "  dA0 = grads[\"dA0\"]\n",
        "\n",
        "  W1 = We[\"W1\"]\n",
        "  W2 = We[\"W2\"]\n",
        "  b1 = We[\"b1\"]\n",
        "  b2 = We[\"b2\"]\n",
        "\n",
        "  cW1 = momentum_dict[\"cW1\"]\n",
        "  cW2 = momentum_dict[\"cW2\"]\n",
        "  cb1 = momentum_dict[\"cb1\"]\n",
        "  cb2 = momentum_dict[\"cb2\"]\n",
        "  cA0 = momentum_dict[\"cA0\"]\n",
        "\n",
        "  #Update word_embedding grads\n",
        "  word_count = word_embedding.shape[0]\n",
        "  D = word_embedding.shape[1]\n",
        "  x_grad = np.zeros((word_count,D))\n",
        "\n",
        "  #Sum grads for same words\n",
        "  for i in range(end_index-start_index):\n",
        "    triagram = dA0[:,i].T\n",
        "    first_word_grad = triagram[0:D]\n",
        "    second_word_grad = triagram[D:2*D]\n",
        "    third_word_grad = triagram[2*D:]\n",
        "\n",
        "    x_grad[(x_train[0][start_index+i])-1,:] += first_word_grad\n",
        "    x_grad[(x_train[1][start_index+i])-1,:] += second_word_grad\n",
        "    x_grad[(x_train[2][start_index+i])-1,:] += third_word_grad\n",
        "\n",
        "  #word_embedding = word_embedding - learning_rate * x_grad\n",
        "\n",
        "  delta_word_embedding = learning_rate * x_grad  + momentum_rate * cA0\n",
        "  delta_W1 = learning_rate * dW1 + momentum_rate * cW1 \n",
        "  delta_W2 = learning_rate * dW2  + momentum_rate * cW2\n",
        "  delta_b1 = learning_rate * db1  + momentum_rate * cb1\n",
        "  delta_b2 = learning_rate * db2 + momentum_rate * cb2\n",
        "  #Update\n",
        "  W1 = W1 - delta_W1\n",
        "  W2 = W2 - delta_W2\n",
        "  b1 = b1 - delta_b1\n",
        "  b2 = b2 - delta_b2\n",
        "  word_embedding = word_embedding - delta_word_embedding\n",
        "\n",
        "  We = {\"W1\":W1,\"b1\":b1,\"W2\":W2,\"b2\":b2}\n",
        "  momentum_dict = {\"cW1\":delta_W1,\"cW2\":delta_W2,\"cb1\":delta_b1,\"cb2\":delta_b2,\"cA0\":delta_word_embedding}\n",
        "  return We,word_embedding,momentum_dict "
      ]
    },
    {
      "cell_type": "code",
      "execution_count": null,
      "metadata": {
        "id": "vhr3FLmuB6gK"
      },
      "outputs": [],
      "source": [
        "def gradient_descent(We,epoch,learning_rate,batch_size,x_train,y_train_,x_val,y_val_,word_embedding,momentum_dict,momentum_rate):\n",
        "  N = x_train.shape[1]\n",
        "  iteration_per_epoch = int(N / batch_size)\n",
        "  validation_cost = []\n",
        "  training_cost = []\n",
        "  for i in range(epoch):\n",
        "    mini_batch_start_index = 0\n",
        "    mini_batch_end_index = batch_size\n",
        "    sample_order = np.random.permutation(N)\n",
        "    x_train = x_train[:,sample_order]\n",
        "    y_train_ = y_train_[:,sample_order]\n",
        "    train_per_batch = []\n",
        "    \n",
        "    for j in range(iteration_per_epoch):      \n",
        "      mini_batch_data_x = x_train[:,mini_batch_start_index:mini_batch_end_index]\n",
        "      mini_batch_data_y = y_train_[:,mini_batch_start_index:mini_batch_end_index]      \n",
        "      J,grads = cost(We,word_embedding,mini_batch_data_x,mini_batch_data_y)      \n",
        "      We,word_embedding,momentum_dict = update_parameters(We,grads,learning_rate,word_embedding,x_train,mini_batch_start_index,mini_batch_end_index,momentum_dict,momentum_rate)\n",
        "      mini_batch_start_index = mini_batch_end_index\n",
        "      mini_batch_end_index = mini_batch_end_index + batch_size\n",
        "      train_per_batch.append(J)\n",
        "\n",
        "      if mini_batch_end_index > N:\n",
        "        mini_batch_end_index = N \n",
        "\n",
        "    #Training cost\n",
        "    training_cost_per_epoch = np.mean(train_per_batch)\n",
        "    training_cost.append(training_cost_per_epoch)\n",
        "    #calculate validation cost\n",
        "    val_input_vector = word_embedding_to_input_vector(word_embedding,x_val)    \n",
        "    (Z1,A1,Z2,A2_val,d_activation_1) = forward_propagate(We,val_input_vector)    \n",
        "    val_cost = cross_entropy(A2_val,y_val_)\n",
        "    print(f\"Epoch = {i+1} ---> Validation cost: {val_cost} Training cost:{training_cost_per_epoch}\")\n",
        "    validation_cost.append(val_cost)\n",
        "    if len(validation_cost) > 1:\n",
        "      delta_err = np.abs(validation_cost[-1] - validation_cost[-2])\n",
        "      if delta_err < 1e-5:\n",
        "        print(\"Training will be stopped because of low validation delta\")\n",
        "\n",
        "\n",
        "  return We,word_embedding,momentum_dict,validation_cost,training_cost\n"
      ]
    },
    {
      "cell_type": "code",
      "execution_count": null,
      "metadata": {
        "colab": {
          "base_uri": "https://localhost:8080/"
        },
        "id": "0Fd_gJAOEUrw",
        "outputId": "941e24c6-9fe3-4b17-8679-235a6050789c"
      },
      "outputs": [
        {
          "name": "stdout",
          "output_type": "stream",
          "text": [
            "Epoch = 1 ---> Validation cost: 4.144271920623266 Training cost:4.402067476959753\n",
            "Epoch = 2 ---> Validation cost: 3.559721830187325 Training cost:3.885621005230388\n",
            "Epoch = 3 ---> Validation cost: 3.213154039474262 Training cost:3.349123915509387\n",
            "Epoch = 4 ---> Validation cost: 3.058155479173783 Training cost:3.117202603371904\n",
            "Epoch = 5 ---> Validation cost: 2.9425202888237996 Training cost:2.9933065109662698\n",
            "Epoch = 6 ---> Validation cost: 2.8771815411507395 Training cost:2.9071258705293976\n",
            "Epoch = 7 ---> Validation cost: 2.823463607228771 Training cost:2.84345795878757\n",
            "Epoch = 8 ---> Validation cost: 2.7832373879709813 Training cost:2.791168218707632\n",
            "Epoch = 9 ---> Validation cost: 2.7457511864171247 Training cost:2.748015387041531\n",
            "Epoch = 10 ---> Validation cost: 2.7190994031794844 Training cost:2.7095979125664913\n",
            "Epoch = 11 ---> Validation cost: 2.7070631359050052 Training cost:2.67747201839053\n",
            "Epoch = 12 ---> Validation cost: 2.680090258493841 Training cost:2.649049673994794\n",
            "Epoch = 13 ---> Validation cost: 2.6553651059468746 Training cost:2.6233603987550618\n",
            "Epoch = 14 ---> Validation cost: 2.6410500810651323 Training cost:2.600899581333313\n",
            "Epoch = 15 ---> Validation cost: 2.631384598345127 Training cost:2.581508887373457\n",
            "Epoch = 16 ---> Validation cost: 2.623146656566916 Training cost:2.5625378085352954\n",
            "Epoch = 17 ---> Validation cost: 2.6064492270885227 Training cost:2.546116730227286\n",
            "Epoch = 18 ---> Validation cost: 2.603089308043917 Training cost:2.5311987267592624\n",
            "Epoch = 19 ---> Validation cost: 2.5904420581607703 Training cost:2.5175108330089415\n",
            "Epoch = 20 ---> Validation cost: 2.5854315607050706 Training cost:2.504512967000955\n",
            "Epoch = 21 ---> Validation cost: 2.5812536119041303 Training cost:2.492997365492731\n",
            "Epoch = 22 ---> Validation cost: 2.57313923466511 Training cost:2.481884141943765\n",
            "Epoch = 23 ---> Validation cost: 2.57159966287165 Training cost:2.472209763437149\n",
            "Epoch = 24 ---> Validation cost: 2.5675164122340255 Training cost:2.4630642584866953\n",
            "Epoch = 25 ---> Validation cost: 2.567938085808776 Training cost:2.4535516101310764\n",
            "Epoch = 26 ---> Validation cost: 2.566048130549941 Training cost:2.4455603109781716\n",
            "Epoch = 27 ---> Validation cost: 2.5585719429819926 Training cost:2.438470205644887\n",
            "Epoch = 28 ---> Validation cost: 2.56237260188716 Training cost:2.4310870624946026\n",
            "Epoch = 29 ---> Validation cost: 2.5583359796768312 Training cost:2.424419039869815\n",
            "Epoch = 30 ---> Validation cost: 2.5615766249304155 Training cost:2.4180148884195387\n",
            "Epoch = 31 ---> Validation cost: 2.5551514582722237 Training cost:2.4123198951345244\n",
            "Epoch = 32 ---> Validation cost: 2.5528594470322292 Training cost:2.4065104311570518\n",
            "Epoch = 33 ---> Validation cost: 2.5524605025263174 Training cost:2.401097644888674\n",
            "Epoch = 34 ---> Validation cost: 2.551120920174398 Training cost:2.396656095613075\n",
            "Epoch = 35 ---> Validation cost: 2.5540491137380807 Training cost:2.3917830692663777\n",
            "Epoch = 36 ---> Validation cost: 2.5612840688011054 Training cost:2.3871307228848497\n",
            "Epoch = 37 ---> Validation cost: 2.5625135310830682 Training cost:2.382751933771992\n",
            "Epoch = 38 ---> Validation cost: 2.5612533236802615 Training cost:2.3789845787089168\n",
            "Epoch = 39 ---> Validation cost: 2.553112824426383 Training cost:2.375030967704089\n",
            "Epoch = 40 ---> Validation cost: 2.5671072113353386 Training cost:2.3711149558827214\n",
            "Epoch = 41 ---> Validation cost: 2.5587225236322575 Training cost:2.3678037959744977\n",
            "Epoch = 42 ---> Validation cost: 2.5575828148254063 Training cost:2.364413834644996\n",
            "Epoch = 43 ---> Validation cost: 2.5620844673604597 Training cost:2.361407414805929\n",
            "Epoch = 44 ---> Validation cost: 2.5645659490264077 Training cost:2.3578890820650784\n",
            "Epoch = 45 ---> Validation cost: 2.5609983516854404 Training cost:2.3555296776559533\n",
            "Epoch = 46 ---> Validation cost: 2.560563291261264 Training cost:2.3522428090184815\n",
            "Epoch = 47 ---> Validation cost: 2.5651441599719482 Training cost:2.3499220957404328\n",
            "Epoch = 48 ---> Validation cost: 2.557670701572117 Training cost:2.346815360674968\n",
            "Epoch = 49 ---> Validation cost: 2.5608722757561693 Training cost:2.3446463857379682\n",
            "Epoch = 50 ---> Validation cost: 2.5632331663272345 Training cost:2.3428286800338336\n"
          ]
        }
      ],
      "source": [
        "word_embedding,We = init(32,256)\n",
        "momentum_dict = {\"cW1\":0,\"cW2\":0,\"cb1\":0,\"cb2\":0,\"cA0\":0}\n",
        "We, word_embedding,momentum_dict,validation_cost,training_cost = gradient_descent(We,50,0.0006,200,x_train,y_train_,x_val,y_val_,word_embedding,momentum_dict,0.85)"
      ]
    },
    {
      "cell_type": "code",
      "execution_count": null,
      "metadata": {
        "colab": {
          "background_save": true,
          "base_uri": "https://localhost:8080/"
        },
        "id": "bclP-pec_ksV",
        "outputId": "95125d1e-e137-4db3-f82d-25d66ab6f925"
      },
      "outputs": [
        {
          "name": "stdout",
          "output_type": "stream",
          "text": [
            "Epoch = 1 ---> Validation cost: 4.095337994858527 Training cost:4.3629777038668545\n",
            "Epoch = 2 ---> Validation cost: 3.5452736578805117 Training cost:3.8501419183022745\n",
            "Epoch = 3 ---> Validation cost: 3.232083308663109 Training cost:3.3594482524336287\n",
            "Epoch = 4 ---> Validation cost: 3.070881905181356 Training cost:3.1383910931802377\n",
            "Epoch = 5 ---> Validation cost: 2.984798535001497 Training cost:3.020800757999861\n",
            "Epoch = 6 ---> Validation cost: 2.9175072424370003 Training cost:2.937243748654612\n",
            "Epoch = 7 ---> Validation cost: 2.872094965005444 Training cost:2.8757490687753546\n",
            "Epoch = 8 ---> Validation cost: 2.821496213698354 Training cost:2.828989936010972\n",
            "Epoch = 9 ---> Validation cost: 2.7962709320570167 Training cost:2.7921115894163275\n",
            "Epoch = 10 ---> Validation cost: 2.772559777596394 Training cost:2.762347454041948\n",
            "Epoch = 11 ---> Validation cost: 2.7489195798061763 Training cost:2.737150179120883\n",
            "Epoch = 12 ---> Validation cost: 2.738392092076305 Training cost:2.7157691795789334\n",
            "Epoch = 13 ---> Validation cost: 2.7215230618126336 Training cost:2.698854051950539\n",
            "Epoch = 14 ---> Validation cost: 2.717208298615689 Training cost:2.6832571895554382\n",
            "Epoch = 15 ---> Validation cost: 2.6991341168103284 Training cost:2.6698220633613747\n",
            "Epoch = 16 ---> Validation cost: 2.6997675252888964 Training cost:2.6581936752381017\n",
            "Epoch = 17 ---> Validation cost: 2.683789732133763 Training cost:2.648124431560192\n",
            "Epoch = 18 ---> Validation cost: 2.679500202225198 Training cost:2.6389458191082458\n",
            "Epoch = 19 ---> Validation cost: 2.67519971822687 Training cost:2.631126073205917\n",
            "Epoch = 20 ---> Validation cost: 2.667223861688307 Training cost:2.6240884309347994\n",
            "Epoch = 21 ---> Validation cost: 2.664815587588395 Training cost:2.617664524476592\n",
            "Epoch = 22 ---> Validation cost: 2.661951500348011 Training cost:2.6121642320797203\n",
            "Epoch = 23 ---> Validation cost: 2.6608135077265764 Training cost:2.6070400028494527\n",
            "Epoch = 24 ---> Validation cost: 2.657854566843825 Training cost:2.601864573463818\n",
            "Epoch = 25 ---> Validation cost: 2.659701905375954 Training cost:2.5976528101796976\n",
            "Epoch = 26 ---> Validation cost: 2.6624456064772737 Training cost:2.593587530849175\n",
            "Epoch = 27 ---> Validation cost: 2.657050156158509 Training cost:2.5900018774243017\n",
            "Epoch = 28 ---> Validation cost: 2.653856315854009 Training cost:2.5863713949722893\n",
            "Epoch = 29 ---> Validation cost: 2.646886905501457 Training cost:2.5833333697238134\n",
            "Epoch = 30 ---> Validation cost: 2.6432775861028257 Training cost:2.580503731208692\n",
            "Epoch = 31 ---> Validation cost: 2.645381477994016 Training cost:2.5772336094984922\n",
            "Epoch = 32 ---> Validation cost: 2.6426889500289015 Training cost:2.5750336993332743\n",
            "Epoch = 33 ---> Validation cost: 2.640604760554925 Training cost:2.572763858889044\n",
            "Epoch = 34 ---> Validation cost: 2.642566860888415 Training cost:2.569907034834518\n",
            "Epoch = 35 ---> Validation cost: 2.6421874395935743 Training cost:2.5681746151932288\n",
            "Epoch = 36 ---> Validation cost: 2.639979639910614 Training cost:2.5657562138670387\n",
            "Epoch = 37 ---> Validation cost: 2.640632763913251 Training cost:2.563570107041679\n",
            "Epoch = 38 ---> Validation cost: 2.6435922653549917 Training cost:2.561509043191079\n",
            "Epoch = 39 ---> Validation cost: 2.6379605963764594 Training cost:2.5597200748509903\n",
            "Epoch = 40 ---> Validation cost: 2.638303290359122 Training cost:2.5578322584400213\n",
            "Epoch = 41 ---> Validation cost: 2.6461713396523594 Training cost:2.5557892140785743\n",
            "Epoch = 42 ---> Validation cost: 2.636286321795222 Training cost:2.5550922925687845\n",
            "Epoch = 43 ---> Validation cost: 2.6464675578006367 Training cost:2.5527015851072887\n",
            "Epoch = 44 ---> Validation cost: 2.6365252092317655 Training cost:2.5515765757845297\n",
            "Epoch = 45 ---> Validation cost: 2.6340847547913437 Training cost:2.5502183748065117\n",
            "Epoch = 46 ---> Validation cost: 2.6364206620004356 Training cost:2.5487115375316214\n",
            "Epoch = 47 ---> Validation cost: 2.633368225480753 Training cost:2.5477352702840212\n",
            "Epoch = 48 ---> Validation cost: 2.6338733464718556 Training cost:2.5463338616129922\n",
            "Epoch = 49 ---> Validation cost: 2.6345831640542414 Training cost:2.545468586692416\n",
            "Epoch = 50 ---> Validation cost: 2.6341437716718334 Training cost:2.5444430249756738\n"
          ]
        }
      ],
      "source": [
        "word_embedding,We_2 = init(16,128)\n",
        "momentum_dict = {\"cW1\":0,\"cW2\":0,\"cb1\":0,\"cb2\":0,\"cA0\":0}\n",
        "We_2, word_embedding,momentum_dict,validation_cost_2,training_cost_2 = gradient_descent(We_2,50,0.0006,200,x_train,y_train_,x_val,y_val_,word_embedding,momentum_dict,0.85)"
      ]
    },
    {
      "cell_type": "code",
      "execution_count": null,
      "metadata": {
        "colab": {
          "background_save": true
        },
        "id": "U-dNIz-pAPK-",
        "outputId": "c96e13ae-1895-4b8c-8116-753178032114"
      },
      "outputs": [
        {
          "name": "stdout",
          "output_type": "stream",
          "text": [
            "Epoch = 1 ---> Validation cost: 4.070835043585274 Training cost:4.329629873475752\n",
            "Epoch = 2 ---> Validation cost: 3.5518661899322606 Training cost:3.819169085382834\n",
            "Epoch = 3 ---> Validation cost: 3.257637679138272 Training cost:3.3793480890863563\n",
            "Epoch = 4 ---> Validation cost: 3.1160613842408433 Training cost:3.178127415116891\n",
            "Epoch = 5 ---> Validation cost: 3.033678833035001 Training cost:3.0710472875964476\n",
            "Epoch = 6 ---> Validation cost: 2.987421962054741 Training cost:3.002827615763132\n",
            "Epoch = 7 ---> Validation cost: 2.9553230490920086 Training cost:2.958081851487027\n",
            "Epoch = 8 ---> Validation cost: 2.9246866341879065 Training cost:2.924728959182639\n",
            "Epoch = 9 ---> Validation cost: 2.899168395126575 Training cost:2.898904485870411\n",
            "Epoch = 10 ---> Validation cost: 2.887302609745168 Training cost:2.878430451363563\n",
            "Epoch = 11 ---> Validation cost: 2.8674792441315735 Training cost:2.8627340492523823\n",
            "Epoch = 12 ---> Validation cost: 2.8588697447278304 Training cost:2.850203497273769\n",
            "Epoch = 13 ---> Validation cost: 2.850163823799297 Training cost:2.8390996202741814\n",
            "Epoch = 14 ---> Validation cost: 2.8440515183085195 Training cost:2.829976253588937\n",
            "Epoch = 15 ---> Validation cost: 2.8361089329826856 Training cost:2.8224402802117052\n",
            "Epoch = 16 ---> Validation cost: 2.831360602271138 Training cost:2.8156768150456397\n",
            "Epoch = 17 ---> Validation cost: 2.821669038308456 Training cost:2.809672606572261\n",
            "Epoch = 18 ---> Validation cost: 2.8220663170115126 Training cost:2.8037338622944334\n",
            "Epoch = 19 ---> Validation cost: 2.816258832072682 Training cost:2.799348234208352\n",
            "Epoch = 20 ---> Validation cost: 2.8149097498459645 Training cost:2.795175180992218\n",
            "Epoch = 21 ---> Validation cost: 2.80985734253494 Training cost:2.7915023766672604\n",
            "Epoch = 22 ---> Validation cost: 2.8094872074825274 Training cost:2.7876507213805652\n",
            "Epoch = 23 ---> Validation cost: 2.8089725580924427 Training cost:2.784251258493839\n",
            "Epoch = 24 ---> Validation cost: 2.8055159291405256 Training cost:2.78181515954129\n",
            "Epoch = 25 ---> Validation cost: 2.802597935439786 Training cost:2.7782261146054257\n",
            "Epoch = 26 ---> Validation cost: 2.799045970908941 Training cost:2.7760334548410572\n",
            "Epoch = 27 ---> Validation cost: 2.8019433090867243 Training cost:2.773380773091998\n",
            "Epoch = 28 ---> Validation cost: 2.7983353093691923 Training cost:2.7717560393571627\n",
            "Epoch = 29 ---> Validation cost: 2.7980758808040993 Training cost:2.7691505211629672\n",
            "Epoch = 30 ---> Validation cost: 2.7925453805613825 Training cost:2.7675539850620057\n",
            "Epoch = 31 ---> Validation cost: 2.7984129007734255 Training cost:2.7655093146772733\n",
            "Epoch = 32 ---> Validation cost: 2.796184486062888 Training cost:2.7642191007105543\n",
            "Epoch = 33 ---> Validation cost: 2.7891855569443407 Training cost:2.762236318686233\n",
            "Epoch = 34 ---> Validation cost: 2.7913578344124406 Training cost:2.76037627294776\n",
            "Epoch = 35 ---> Validation cost: 2.788034755124116 Training cost:2.7588067386254598\n",
            "Epoch = 36 ---> Validation cost: 2.7930579919807497 Training cost:2.7576841820288913\n",
            "Epoch = 37 ---> Validation cost: 2.7915339125737635 Training cost:2.756217945723388\n",
            "Epoch = 38 ---> Validation cost: 2.7846898941790035 Training cost:2.754996093750932\n",
            "Epoch = 39 ---> Validation cost: 2.7935218699821376 Training cost:2.7534781243485718\n",
            "Epoch = 40 ---> Validation cost: 2.780787213318452 Training cost:2.751988108767775\n",
            "Epoch = 41 ---> Validation cost: 2.783948601309392 Training cost:2.751536146779835\n",
            "Epoch = 42 ---> Validation cost: 2.7896629215718125 Training cost:2.750256678371066\n",
            "Epoch = 43 ---> Validation cost: 2.78064025679142 Training cost:2.7488226345814537\n",
            "Epoch = 44 ---> Validation cost: 2.782435622213354 Training cost:2.7480477983292113\n",
            "Epoch = 45 ---> Validation cost: 2.775727404168431 Training cost:2.746931207834063\n",
            "Epoch = 46 ---> Validation cost: 2.7785790736478106 Training cost:2.745681022137837\n",
            "Epoch = 47 ---> Validation cost: 2.7803370527668303 Training cost:2.7448231797372324\n",
            "Epoch = 48 ---> Validation cost: 2.785549244099077 Training cost:2.7435349741506205\n",
            "Epoch = 49 ---> Validation cost: 2.7770511204833417 Training cost:2.7430094529015965\n",
            "Epoch = 50 ---> Validation cost: 2.7763903319794907 Training cost:2.741791940024813\n"
          ]
        }
      ],
      "source": [
        "word_embedding,We_3 = init(8,64)\n",
        "momentum_dict = {\"cW1\":0,\"cW2\":0,\"cb1\":0,\"cb2\":0,\"cA0\":0}\n",
        "We_3, word_embedding,momentum_dict,validation_cost_3,training_cost_3 = gradient_descent(We_3,50,0.0006,200,x_train,y_train_,x_val,y_val_,word_embedding,momentum_dict,0.85)"
      ]
    },
    {
      "cell_type": "code",
      "execution_count": null,
      "metadata": {
        "colab": {
          "background_save": true
        },
        "id": "7G-6kPPIAd9-",
        "outputId": "b8db86ad-0fce-49c5-c5f8-c5e93addf80b"
      },
      "outputs": [
        {
          "data": {
            "image/png": "[encoded data removed]",
            "text/plain": [
              "<Figure size 1296x288 with 3 Axes>"
            ]
          },
          "metadata": {},
          "output_type": "display_data"
        }
      ],
      "source": [
        "fig,ax = plt.subplots(1,3,figsize=(18,4))\n",
        "ax[0].plot([x for x in range(1,len(validation_cost)+1)],validation_cost,color=\"blue\",label=\"Validation\")\n",
        "ax[0].plot([x for x in range(1,len(training_cost)+1)],training_cost,color=\"red\",label=\"Training\")\n",
        "ax[0].set_xlabel(\"Number of Epochs\")\n",
        "ax[0].set_ylabel(\"Cost\")\n",
        "ax[0].set_title(\"(64,256)\")\n",
        "ax[0].legend(loc=\"best\")\n",
        "ax[1].plot([x for x in range(1,len(validation_cost_2)+1)],validation_cost_2,color=\"blue\",label=\"Validation\")\n",
        "ax[1].plot([x for x in range(1,len(training_cost_2)+1)],training_cost_2,color=\"red\",label=\"Training\")\n",
        "ax[1].set_xlabel(\"Number of Epochs\")\n",
        "ax[1].set_ylabel(\"Cost\")\n",
        "ax[1].set_title(\"(16,128)\")\n",
        "ax[1].legend(loc=\"best\")\n",
        "ax[2].plot([x for x in range(1,len(validation_cost_3)+1)],validation_cost_3,color=\"blue\",label=\"Validation\")\n",
        "ax[2].plot([x for x in range(1,len(training_cost_3)+1)],training_cost_3,color=\"red\",label=\"Training\")\n",
        "ax[2].set_xlabel(\"Number of Epochs\")\n",
        "ax[2].set_ylabel(\"Cost\")\n",
        "ax[2].set_title(\"(8,64)\")\n",
        "ax[2].legend(loc=\"best\")\n",
        "plt.show()"
      ]
    },
    {
      "cell_type": "code",
      "execution_count": null,
      "metadata": {
        "id": "fegXBY_4aZr5"
      },
      "outputs": [],
      "source": [
        "def get_candidates(We,x,words):\n",
        "  np.random.seed(33)  \n",
        "  input_vector_train = word_embedding_to_input_vector(word_embedding,x)\n",
        "  (Z1,A1,Z2,A2,d_activation_1) = forward_propagate(We,input_vector_train)\n",
        "  sorted_A2_ind = np.argsort(A2,axis=0)[::-1]      \n",
        "  random_samples = np.random.randint(1,A2.shape[1], size=(5))\n",
        "  sorted_A2_ind_random_samples = sorted_A2_ind[:,random_samples]  \n",
        "  x_random_samples = x[:,random_samples]  \n",
        "  for i in range(5):        \n",
        "    print(f\"{words[x_random_samples[0,i]-1]} {words[x_random_samples[1,i]-1]} {words[x_random_samples[2,i]-1]} ----> {[words[ind] for ind in sorted_A2_ind_random_samples[:10,i].T]}\")  "
      ]
    },
    {
      "cell_type": "code",
      "execution_count": null,
      "metadata": {
        "colab": {
          "base_uri": "https://localhost:8080/"
        },
        "id": "De4vQVnhdQKH",
        "outputId": "f29ea98a-7dbe-4868-83c6-4f242e7ecd12"
      },
      "outputs": [
        {
          "name": "stdout",
          "output_type": "stream",
          "text": [
            "b'but' b'it' b\"'s\" ----> [b'not', b'a', b'good', b'just', b'the', b'still', b'been', b'going', b'part', b'also']\n",
            "b'are' b'the' b'only' ----> [b'one', b'way', b'team', b'people', b'three', b'two', b'place', b'right', b'house', b'.']\n",
            "b'it' b'is' b'the' ----> [b'same', b'first', b'best', b'only', b'law', b'right', b'other', b'way', b'last', b'case']\n",
            "b'and' b'they' b'do' ----> [b'nt', b'it', b'.', b'what', b',', b'not', b'well', b'know', b'all', b'that']\n",
            "b'get' b'out' b'of' ----> [b'here', b'it', b'the', b'there', b'this', b'my', b'that', b'school', b'business', b'a']\n"
          ]
        }
      ],
      "source": [
        "get_candidates(We,x_test,words)"
      ]
    },
    {
      "cell_type": "code",
      "execution_count": null,
      "metadata": {
        "colab": {
          "base_uri": "https://localhost:8080/"
        },
        "id": "Bo6H3iZSlVYv",
        "outputId": "8be2327c-f55d-4ee4-b948-cc101c152164"
      },
      "outputs": [
        {
          "name": "stdout",
          "output_type": "stream",
          "text": [
            "b'he'\n"
          ]
        }
      ],
      "source": [
        "print(words[x_test[2,45475]-1])"
      ]
    },
    {
      "cell_type": "code",
      "execution_count": null,
      "metadata": {
        "id": "B5jO6j9zY1N7"
      },
      "outputs": [],
      "source": [
        "input_vector_train = word_embedding_to_input_vector(word_embedding,x_val)  \n",
        "\n",
        "#Forward propagate for training\n",
        "(Z1,A1,Z2,A2,d_activation_1) = forward_propagate(We,input_vector_train)"
      ]
    },
    {
      "cell_type": "code",
      "execution_count": null,
      "metadata": {
        "colab": {
          "base_uri": "https://localhost:8080/"
        },
        "id": "upmGM-nCZH3r",
        "outputId": "a79d7625-2fe1-4805-fd4b-b89b65d1180b"
      },
      "outputs": [
        {
          "name": "stdout",
          "output_type": "stream",
          "text": [
            "(250, 46500)\n",
            "(46500,)\n"
          ]
        }
      ],
      "source": [
        "print(A2.shape)\n",
        "gev = np.argmax(A2,axis=0)\n",
        "\n",
        "print(gev.shape)"
      ]
    },
    {
      "cell_type": "code",
      "execution_count": null,
      "metadata": {
        "colab": {
          "base_uri": "https://localhost:8080/"
        },
        "id": "SuLg6hSoZhFV",
        "outputId": "47f6fc91-ab5a-487b-e15b-9b10409a816f"
      },
      "outputs": [
        {
          "name": "stdout",
          "output_type": "stream",
          "text": [
            "(46500,)\n"
          ]
        }
      ],
      "source": [
        "y = np.argmax(y_val_,axis=0)\n",
        "print(y.shape)"
      ]
    },
    {
      "cell_type": "code",
      "execution_count": null,
      "metadata": {
        "colab": {
          "base_uri": "https://localhost:8080/"
        },
        "id": "gm3Kk8l3bASP",
        "outputId": "fcbb0506-b9f4-4660-cd6e-89b2bd8db237"
      },
      "outputs": [
        {
          "name": "stdout",
          "output_type": "stream",
          "text": [
            "250\n"
          ]
        }
      ],
      "source": [
        "print(x_test.max())"
      ]
    },
    {
      "cell_type": "code",
      "execution_count": null,
      "metadata": {
        "colab": {
          "base_uri": "https://localhost:8080/"
        },
        "id": "mxauN2kebFgy",
        "outputId": "6cf0d8fb-057c-4185-e9cc-755a98d555a5"
      },
      "outputs": [
        {
          "name": "stdout",
          "output_type": "stream",
          "text": [
            "[ 25 143 143 ... 248 204 143]\n"
          ]
        }
      ],
      "source": [
        "print(gev)"
      ]
    },
    {
      "cell_type": "code",
      "execution_count": null,
      "metadata": {
        "colab": {
          "base_uri": "https://localhost:8080/"
        },
        "id": "dikmBZ0VZoXP",
        "outputId": "4c4609b8-1382-4909-84ae-0ce2950849f9"
      },
      "outputs": [
        {
          "name": "stdout",
          "output_type": "stream",
          "text": [
            "1.0451612903225806\n"
          ]
        }
      ],
      "source": [
        "count = 0\n",
        "for i in range(46500):\n",
        "  if gev[i]==y[i]:\n",
        "    count = count + 1\n",
        "\n",
        "print(100 * count / 46500)"
      ]
    },
    {
      "cell_type": "code",
      "execution_count": null,
      "metadata": {
        "colab": {
          "base_uri": "https://localhost:8080/"
        },
        "id": "ExreMKc2F25a",
        "outputId": "7e2fa7bc-ea81-48b9-984e-4eb137cb4086"
      },
      "outputs": [
        {
          "name": "stdout",
          "output_type": "stream",
          "text": [
            "['trX' 'trY' 'tstX' 'tstY']\n"
          ]
        }
      ],
      "source": [
        "#Question 3\n",
        "a = np.array(h5py.File(\"/content/drive/MyDrive/Homework/NN_Mini/data3.h5\"))\n",
        "print(a)"
      ]
    },
    {
      "cell_type": "code",
      "execution_count": null,
      "metadata": {
        "colab": {
          "base_uri": "https://localhost:8080/"
        },
        "id": "HvQ__lhqGCYd",
        "outputId": "f307a7d6-7aa7-43ca-949b-13428c80243b"
      },
      "outputs": [
        {
          "data": {
            "text/plain": [
              "(3000, 150, 3)"
            ]
          },
          "execution_count": 7,
          "metadata": {},
          "output_type": "execute_result"
        }
      ],
      "source": [
        "np.array(h5py.File(\"/content/drive/MyDrive/Homework/NN_Mini/data3.h5\")[\"trX\"]).shape"
      ]
    },
    {
      "cell_type": "code",
      "execution_count": null,
      "metadata": {
        "colab": {
          "base_uri": "https://localhost:8080/"
        },
        "id": "bmWMIJRFGihy",
        "outputId": "2e5519e2-a878-405a-e143-15ac3ccce64a"
      },
      "outputs": [
        {
          "data": {
            "text/plain": [
              "(3000, 6)"
            ]
          },
          "execution_count": 8,
          "metadata": {},
          "output_type": "execute_result"
        }
      ],
      "source": [
        "np.array(h5py.File(\"/content/drive/MyDrive/Homework/NN_Mini/data3.h5\")[\"trY\"]).shape"
      ]
    },
    {
      "cell_type": "code",
      "execution_count": null,
      "metadata": {
        "id": "zL8bDNOCF5ce"
      },
      "outputs": [],
      "source": [
        "def load_q3_dataset(path):\n",
        "  x = np.array(h5py.File(path)[\"trX\"]).transpose(2,1,0)\n",
        "  y = np.array(h5py.File(path)[\"trY\"]).T\n",
        "  sample_size = x.shape[2]\n",
        "  val_size = int(sample_size / 10)\n",
        "  shuffled_indexes = np.random.permutation(sample_size)\n",
        "  x = x[:,:,shuffled_indexes]\n",
        "  y = y[:,shuffled_indexes]\n",
        "  x_val = x[:,:,:val_size]\n",
        "  y_val = y[:,:val_size]\n",
        "  x_train = x[:,:,val_size:]\n",
        "  y_train = y[:,val_size:]\n",
        "  x_test = np.array(h5py.File(path)[\"tstX\"]).transpose(2,1,0)\n",
        "  y_test = np.array(h5py.File(path)[\"tstY\"]).T\n",
        "\n",
        "  return x_train,y_train,x_val,y_val,x_test,y_test"
      ]
    },
    {
      "cell_type": "code",
      "execution_count": null,
      "metadata": {
        "colab": {
          "base_uri": "https://localhost:8080/"
        },
        "id": "HCFN3ZHcM-Yr",
        "outputId": "80d3e7a4-624b-4bac-a393-42e43a014548"
      },
      "outputs": [
        {
          "output_type": "stream",
          "name": "stdout",
          "text": [
            "(3, 150, 2700)\n",
            "(6, 2700)\n",
            "(3, 150, 300)\n",
            "(6, 300)\n",
            "(3, 150, 600)\n",
            "(6, 600)\n"
          ]
        }
      ],
      "source": [
        "x_train,y_train,x_val,y_val,x_test,y_test = load_q3_dataset(\"/content/drive/MyDrive/Homework/NN_Mini/data3.h5\")\n",
        "print(x_train.shape)\n",
        "print(y_train.shape)\n",
        "print(x_val.shape)\n",
        "print(y_val.shape)\n",
        "print(x_test.shape)\n",
        "print(y_test.shape)"
      ]
    },
    {
      "cell_type": "code",
      "execution_count": null,
      "metadata": {
        "id": "cITKP8mBNO1O"
      },
      "outputs": [],
      "source": [
        "#WX + b\n",
        "#Parameters determine neuron numbers for related mlp hidden layers\n",
        "def init_q3_params_1(mlp_first_h_layer_size,mlp_second_h_layer_size):\n",
        "  #Recurrent layer, mlp hidden layer, mlp hidden layer, output layer\n",
        "  #Whh Wxh W1 W2 W3 bhh bhx b1 b2 b3\n",
        "  np.random.seed(33)\n",
        "\n",
        "  #Xavier Uniform Distribution\n",
        "  recurrent_layer_neuron_size = 128\n",
        "  output_layer_neuron_size = 6\n",
        "  input_layer_neuron_size = 3\n",
        "\n",
        "  #Wxh input layer to recurrent layer\n",
        "  w0 = np.sqrt(6/(input_layer_neuron_size + recurrent_layer_neuron_size))\n",
        "  Wxh = np.random.uniform(-w0, w0, size=(recurrent_layer_neuron_size, input_layer_neuron_size))  \n",
        "\n",
        "  #Whh recurrent layer to recurrent layer\n",
        "  w0 = np.sqrt(6/(recurrent_layer_neuron_size + recurrent_layer_neuron_size))\n",
        "  Whh = np.random.uniform(-w0, w0, size=(recurrent_layer_neuron_size, recurrent_layer_neuron_size))\n",
        "  bh = np.random.uniform(-w0, w0, size=(recurrent_layer_neuron_size, 1))\n",
        "\n",
        "  #W1 recurrent layer to first mlp hidden layer\n",
        "  w0 = np.sqrt(6/(mlp_first_h_layer_size + recurrent_layer_neuron_size))\n",
        "  W1 = np.random.uniform(-w0, w0, size=(mlp_first_h_layer_size, recurrent_layer_neuron_size))\n",
        "  b1 = np.random.uniform(-w0, w0, size=(mlp_first_h_layer_size, 1))\n",
        "\n",
        "  #W2 first mlp hidden layer to second mlp hidden layer\n",
        "  w0 = np.sqrt(6/(mlp_first_h_layer_size + mlp_second_h_layer_size))\n",
        "  W2 = np.random.uniform(-w0, w0, size=(mlp_second_h_layer_size,mlp_first_h_layer_size))\n",
        "  b2 = np.random.uniform(-w0, w0, size=(mlp_second_h_layer_size, 1))\n",
        "\n",
        "  #W3 second mlp hidden layer to output layer\n",
        "  w0 = np.sqrt(6/(output_layer_neuron_size + mlp_second_h_layer_size))\n",
        "  W3 = np.random.uniform(-w0, w0, size=(output_layer_neuron_size,mlp_second_h_layer_size))\n",
        "  b3 = np.random.uniform(-w0, w0, size=(output_layer_neuron_size, 1))\n",
        "\n",
        "  We = {\"Whh\":Whh,\"bh\":bh,\"Wxh\":Wxh,\"W1\":W1,\"b1\":b1,\"W2\":W2,\"b2\":b2,\"W3\":W3,\"b3\":b3}\n",
        "  return We"
      ]
    },
    {
      "cell_type": "code",
      "execution_count": null,
      "metadata": {
        "id": "04NqM1y1WBhM"
      },
      "outputs": [],
      "source": [
        "def cross_entropy_q3(y_pred,y):  \n",
        "  return -np.sum(y*np.log(y_pred)) / y_pred.shape[1]"
      ]
    },
    {
      "cell_type": "code",
      "execution_count": null,
      "metadata": {
        "id": "FAxUc1V7W8zD"
      },
      "outputs": [],
      "source": [
        "def activation(Z,activation):\n",
        "  A = None\n",
        "  d_activation = None\n",
        "\n",
        "  if activation == \"tanh\":\n",
        "    A = np.tanh(Z)\n",
        "    d_activation = 1 - A ** 2    \n",
        "\n",
        "  elif activation == \"sigmoid\":\n",
        "    A = 1 / (1 + np.exp(-Z))\n",
        "    d_activation = A * (1 - A)    \n",
        "\n",
        "  elif activation == \"relu\":\n",
        "    A = Z * (Z > 0)\n",
        "    d_activation = 1 * (Z > 0)   \n",
        "\n",
        "  elif activation == \"softmax\":\n",
        "    exps = np.exp(Z-np.amax(Z,axis=0)) #overcome exponential related overflows  \n",
        "    A = exps/np.sum(exps,axis=0)    \n",
        "    \n",
        "  return A, d_activation"
      ]
    },
    {
      "cell_type": "code",
      "execution_count": null,
      "metadata": {
        "id": "G6nvHPV5aWSN"
      },
      "outputs": [],
      "source": [
        "def forward_propagate_recurrent(We,data):\n",
        "  Wxh = We[\"Wxh\"]\n",
        "  Whh = We[\"Whh\"]\n",
        "  bh = We[\"bh\"] \n",
        "\n",
        "  dim,time,samples = data.shape\n",
        "  recurrent_layer_size = Wxh.shape[0]\n",
        "\n",
        "  #initialize state variables\n",
        "  h = np.zeros((recurrent_layer_size,time,samples))\n",
        "  h_prev = np.zeros((recurrent_layer_size,samples))\n",
        "  d_activations_recurrent = np.zeros((recurrent_layer_size,time,samples))\n",
        "\n",
        "  for t in range(time):\n",
        "    current_data = data[:,t,:]\n",
        "    Z = np.matmul(Wxh,current_data) + np.matmul(Whh,h_prev) + bh    \n",
        "    h[:,t,:], d_activations_recurrent[:,t,:] = activation(Z,\"tanh\")\n",
        "    h_prev = h[:,t,:]\n",
        "\n",
        "  return h,d_activations_recurrent "
      ]
    },
    {
      "cell_type": "code",
      "execution_count": null,
      "metadata": {
        "id": "ucikDgKUkzw2"
      },
      "outputs": [],
      "source": [
        "def forward_propagation_q3_1(We, data):\n",
        "  W1 = We[\"W1\"]\n",
        "  W2 = We[\"W2\"]\n",
        "  W3 = We[\"W3\"]\n",
        "  b1 = We[\"b1\"]\n",
        "  b2 = We[\"b2\"]\n",
        "  b3 = We[\"b3\"]\n",
        "\n",
        "  #recurrent layer\n",
        "  h, d_activations_recurrent = forward_propagate_recurrent(We,data)\n",
        "  A0 = h[:,-1,:] #final state\n",
        "\n",
        "  #relu layers\n",
        "  Z1 = np.matmul(W1,A0) + b1\n",
        "  A1, d_activation_1 = activation(Z1,\"relu\")\n",
        "  Z2 = np.matmul(W2,A1) + b2\n",
        "  A2, d_activation_2 = activation(Z2,\"relu\")\n",
        "\n",
        "  #softmax layer\n",
        "  Z3 = np.matmul(W3,A2) + b3\n",
        "  A3, _ = activation(Z3,\"softmax\")\n",
        "\n",
        "  return (h,Z1,A1,Z2,A2,Z3,A3,d_activation_1,d_activation_2,d_activations_recurrent) "
      ]
    },
    {
      "cell_type": "code",
      "execution_count": null,
      "metadata": {
        "id": "mALLjRsSktPY"
      },
      "outputs": [],
      "source": [
        "def cost_q3_1(We,x_train,y_train):\n",
        "  W1 = We[\"W1\"]\n",
        "  W2 = We[\"W2\"]\n",
        "  W3 = We[\"W3\"]\n",
        "  b1 = We[\"b1\"]\n",
        "  b2 = We[\"b2\"]\n",
        "  b3 = We[\"b3\"]\n",
        "  Wxh = We[\"Wxh\"]\n",
        "  Whh = We[\"Whh\"]\n",
        "  bh = We[\"bh\"]  \n",
        "\n",
        "  #Forward propagate for training\n",
        "  (h,Z1,A1,Z2,A2,Z3,A3,d_activation_1,d_activation_2,d_activations_recurrent) = forward_propagation_q3_1(We,x_train)\n",
        "\n",
        "  #Calculate training cost for this batch\n",
        "  batch_training_cost = cross_entropy_q3(A3,y_train)\n",
        "\n",
        "  #Backward propagate until recurrent layer    \n",
        "  dZ3 = A3 - y_train\n",
        "  dW3 = np.matmul(dZ3,A2.T)\n",
        "  db3 = np.sum(dZ3,axis=1,keepdims=True)\n",
        "  dA2 = np.matmul(W3.T,dZ3)\n",
        "  dZ2 = dA2 * d_activation_2\n",
        "  dW2 = np.matmul(dZ2,A1.T)\n",
        "  db2 = np.sum(dZ2,axis=1,keepdims=True)\n",
        "  dA1 = np.matmul(W2.T,dZ2)\n",
        "  dZ1 = dA1 * d_activation_1  \n",
        "  dW1 = np.matmul(dZ1,h[:,-1,:].T) #W1 takes final state \n",
        "  db1 = np.sum(dZ1,axis=1,keepdims=True)\n",
        "\n",
        "  #gradient of the final state\n",
        "  d_state = np.matmul(W1.T,dZ1) #dh(t)\n",
        "\n",
        "  #initialize gradients regarding recurrent layer\n",
        "  dWxh = 0\n",
        "  dWhh = 0\n",
        "  dbh = 0\n",
        "\n",
        "  dim,time,sample = h.shape\n",
        "\n",
        "  for t in reversed(range(time)):\n",
        "    x_train_current = x_train[:,t,:]\n",
        "    d_activation_recurrent_current = d_activations_recurrent[:,t,:]\n",
        "    dZ_current = d_state * d_activation_recurrent_current #dZ for given time\n",
        "\n",
        "    if t > 0:\n",
        "      h_prev = h[:,t-1,:]\n",
        "    else:\n",
        "      h_prev = np.zeros((Wxh.shape[0],sample))\n",
        "    \n",
        "    #Sum gradients from different times\n",
        "    dWxh = dWxh + np.matmul(dZ_current,x_train_current.T)\n",
        "    dWhh = dWhh + np.matmul(dZ_current,h_prev.T)\n",
        "    dbh = dbh + np.sum(dZ_current,axis=1,keepdims=True)\n",
        "\n",
        "    #Update dh(t) to dh(t-1) if t > 0\n",
        "    if t > 0:\n",
        "      d_state = np.matmul(Whh.T,dZ_current)\n",
        "\n",
        "  grads={\"dW1\":dW1,\"dW2\":dW2,\"dW3\":dW3,\"db1\":db1,\"db2\":db2,\"db3\":db3,\"dWxh\":dWxh,\"dWhh\":dWhh,\"dbh\":dbh}\n",
        "  return batch_training_cost, grads"
      ]
    },
    {
      "cell_type": "code",
      "execution_count": null,
      "metadata": {
        "id": "fefzEE5OsBLm"
      },
      "outputs": [],
      "source": [
        "def update_parameters_q3_1(We,grads,learning_rate,momentum_dict,momentum_rate,batch_size):\n",
        "  dW1 = grads[\"dW1\"]\n",
        "  dW2 = grads[\"dW2\"]\n",
        "  dW3 = grads[\"dW3\"]\n",
        "  dWxh = grads[\"dWxh\"]\n",
        "  dWhh = grads[\"dWhh\"]\n",
        "  db1 = grads[\"db1\"]\n",
        "  db2 = grads[\"db2\"]\n",
        "  db3 = grads[\"db3\"]\n",
        "  dbh = grads[\"dbh\"]  \n",
        "\n",
        "  W1 = We[\"W1\"]\n",
        "  W2 = We[\"W2\"]\n",
        "  W3 = We[\"W3\"]\n",
        "  b1 = We[\"b1\"]\n",
        "  b2 = We[\"b2\"]\n",
        "  b3 = We[\"b3\"]\n",
        "  Wxh = We[\"Wxh\"]\n",
        "  Whh = We[\"Whh\"]\n",
        "  bh = We[\"bh\"]\n",
        "\n",
        "  cW1 = momentum_dict[\"cW1\"]\n",
        "  cW2 = momentum_dict[\"cW2\"]\n",
        "  cW3 = momentum_dict[\"cW3\"]\n",
        "  cWxh = momentum_dict[\"cWxh\"]\n",
        "  cWhh = momentum_dict[\"cWhh\"]\n",
        "  cb1 = momentum_dict[\"cb1\"]\n",
        "  cb2 = momentum_dict[\"cb2\"]\n",
        "  cb3 = momentum_dict[\"cb3\"]\n",
        "  cbh = momentum_dict[\"cbh\"] \n",
        " \n",
        "  delta_W1 = learning_rate * dW1 / batch_size + momentum_rate * cW1 \n",
        "  delta_W2 = learning_rate * dW2 / batch_size + momentum_rate * cW2\n",
        "  delta_W3 = learning_rate * dW3 / batch_size + momentum_rate * cW3\n",
        "  delta_Wxh = learning_rate * dWxh / batch_size + momentum_rate * cWxh\n",
        "  delta_Whh = learning_rate * dWhh / batch_size + momentum_rate * cWhh\n",
        "  delta_b1 = learning_rate * db1 / batch_size + momentum_rate * cb1\n",
        "  delta_b2 = learning_rate * db2 / batch_size + momentum_rate * cb2\n",
        "  delta_b3 = learning_rate * db3 / batch_size + momentum_rate * cb3\n",
        "  delta_bh = learning_rate * dbh / batch_size + momentum_rate * cbh\n",
        "\n",
        "  #Update\n",
        "  W1 = W1 - delta_W1\n",
        "  W2 = W2 - delta_W2\n",
        "  W3 = W3 - delta_W3\n",
        "  Wxh = Wxh - delta_Wxh\n",
        "  Whh = Whh - delta_Whh\n",
        "  b1 = b1 - delta_b1\n",
        "  b2 = b2 - delta_b2\n",
        "  b3 = b3 - delta_b3\n",
        "  bh = bh - delta_bh  \n",
        "\n",
        "  We = {\"Whh\":Whh,\"bh\":bh,\"Wxh\":Wxh,\"W1\":W1,\"b1\":b1,\"W2\":W2,\"b2\":b2,\"W3\":W3,\"b3\":b3}\n",
        "  momentum_dict = {\"cW1\":delta_W1,\"cW2\":delta_W2,\"cW3\":delta_W3,\"cWxh\":delta_Wxh,\"cWhh\":delta_Whh,\"cb1\":delta_b1,\"cb2\":delta_b2,\"cb3\":delta_b3,\"cbh\":delta_bh}\n",
        "  return We,momentum_dict"
      ]
    },
    {
      "cell_type": "code",
      "execution_count": null,
      "metadata": {
        "id": "L9UDRXm-rvSJ"
      },
      "outputs": [],
      "source": [
        "def gradient_descent_q3_1(We,epoch,learning_rate,batch_size,x_train,y_train,x_val,y_val,momentum_dict,momentum_rate):\n",
        "  N = x_train.shape[2]\n",
        "  iteration_per_epoch = int(N / batch_size)\n",
        "  validation_cost = []\n",
        "  training_cost = []\n",
        "  for i in range(epoch):\n",
        "    mini_batch_start_index = 0\n",
        "    mini_batch_end_index = batch_size\n",
        "    sample_order = np.random.permutation(N)\n",
        "    x_train_data = x_train[:,:,sample_order]\n",
        "    y_train_data = y_train[:,sample_order]\n",
        "    train_per_batch = []    \n",
        "    for j in range(iteration_per_epoch):      \n",
        "      mini_batch_data_x = x_train_data[:,:,mini_batch_start_index:mini_batch_end_index]\n",
        "      mini_batch_data_y = y_train_data[:,mini_batch_start_index:mini_batch_end_index]      \n",
        "      J,grads = cost_q3_1(We,mini_batch_data_x,mini_batch_data_y)      \n",
        "      We,momentum_dict = update_parameters_q3_1(We,grads,learning_rate,momentum_dict,momentum_rate,batch_size)\n",
        "      mini_batch_start_index = mini_batch_end_index\n",
        "      mini_batch_end_index = mini_batch_end_index + batch_size\n",
        "      train_per_batch.append(J)\n",
        "      if mini_batch_end_index > N:\n",
        "        mini_batch_end_index = N \n",
        "    \n",
        "    #Training cost\n",
        "    training_cost_per_epoch = np.mean(train_per_batch)\n",
        "    training_cost.append(training_cost_per_epoch)\n",
        "    #calculate validation cost     \n",
        "    (h,Z1,A1,Z2,A2,Z3,A3,d_activation_1,d_activation_2,d_activations_recurrent) = forward_propagation_q3_1(We,x_val)   \n",
        "    val_cost = cross_entropy_q3(A3,y_val)\n",
        "    print(f\"Epoch = {i+1} ---> Validation cost: {val_cost} Training cost:{training_cost_per_epoch}\")\n",
        "    validation_cost.append(val_cost)\n",
        "    if len(validation_cost) > 1:\n",
        "      delta_err = np.abs(validation_cost[-1] - validation_cost[-2])\n",
        "      if delta_err < 1e-5:\n",
        "        print(\"Training will be stopped because of low validation delta\")\n",
        "  return We,momentum_dict,validation_cost,training_cost\n"
      ]
    },
    {
      "cell_type": "code",
      "execution_count": null,
      "metadata": {
        "id": "-SBNiY7PvfVG",
        "colab": {
          "base_uri": "https://localhost:8080/"
        },
        "outputId": "194ddb5a-37d2-4da7-ec61-fc422ff4bc94"
      },
      "outputs": [
        {
          "output_type": "stream",
          "name": "stdout",
          "text": [
            "Epoch = 1 ---> Validation cost: 1.775125390035527 Training cost:1.7933117540330143\n",
            "Epoch = 2 ---> Validation cost: 1.7323082963990044 Training cost:1.7492548580142533\n",
            "Epoch = 3 ---> Validation cost: 1.6900167282268637 Training cost:1.705695692990498\n",
            "Epoch = 4 ---> Validation cost: 1.653690125696304 Training cost:1.668324775779345\n",
            "Epoch = 5 ---> Validation cost: 1.621472471386926 Training cost:1.634640203967983\n",
            "Epoch = 6 ---> Validation cost: 1.5928778784748887 Training cost:1.6064279445593699\n",
            "Epoch = 7 ---> Validation cost: 1.5691877010026956 Training cost:1.5832972125893459\n",
            "Epoch = 8 ---> Validation cost: 1.54794005304962 Training cost:1.5610920811266582\n",
            "Epoch = 9 ---> Validation cost: 1.53820600400144 Training cost:1.5438157095847314\n",
            "Epoch = 10 ---> Validation cost: 1.5196099040708921 Training cost:1.5282263696371654\n",
            "Epoch = 11 ---> Validation cost: 1.5043096509308969 Training cost:1.511416874950555\n",
            "Epoch = 12 ---> Validation cost: 1.4908191181835908 Training cost:1.4959406285700472\n",
            "Epoch = 13 ---> Validation cost: 1.4795188616340953 Training cost:1.4833431746098023\n",
            "Epoch = 14 ---> Validation cost: 1.4676132231717103 Training cost:1.4727523436336265\n",
            "Epoch = 15 ---> Validation cost: 1.4584549792401782 Training cost:1.4611117942866214\n",
            "Epoch = 16 ---> Validation cost: 1.4445295657916677 Training cost:1.4510969775627967\n",
            "Epoch = 17 ---> Validation cost: 1.4377458725472658 Training cost:1.4410647055908776\n",
            "Epoch = 18 ---> Validation cost: 1.427652264323312 Training cost:1.4313511293566545\n",
            "Epoch = 19 ---> Validation cost: 1.4209597561256577 Training cost:1.4218990788054493\n",
            "Epoch = 20 ---> Validation cost: 1.413418565517043 Training cost:1.4149345958427644\n",
            "Epoch = 21 ---> Validation cost: 1.404143428796837 Training cost:1.404815161241963\n",
            "Epoch = 22 ---> Validation cost: 1.3958836906837213 Training cost:1.395097254026883\n",
            "Epoch = 23 ---> Validation cost: 1.3876676421822787 Training cost:1.386470088466593\n",
            "Epoch = 24 ---> Validation cost: 1.3804583845560483 Training cost:1.3793314284354463\n",
            "Epoch = 25 ---> Validation cost: 1.3722414831638687 Training cost:1.3696118387526066\n",
            "Epoch = 26 ---> Validation cost: 1.3652210415848556 Training cost:1.3608116917627058\n",
            "Epoch = 27 ---> Validation cost: 1.3570586387467745 Training cost:1.352722224360113\n",
            "Epoch = 28 ---> Validation cost: 1.353407117362302 Training cost:1.342806505683739\n",
            "Epoch = 29 ---> Validation cost: 1.341781431612157 Training cost:1.3373555814813225\n",
            "Epoch = 30 ---> Validation cost: 1.3350351496175563 Training cost:1.3325302486933535\n",
            "Epoch = 31 ---> Validation cost: 1.3250754971278287 Training cost:1.3189449203943842\n",
            "Epoch = 32 ---> Validation cost: 1.3190546234995892 Training cost:1.3110738668224335\n",
            "Epoch = 33 ---> Validation cost: 1.3258436054159337 Training cost:1.3049666239364104\n",
            "Epoch = 34 ---> Validation cost: 1.3143433648878542 Training cost:1.3136741536276577\n",
            "Epoch = 35 ---> Validation cost: 1.3014841028114454 Training cost:1.2910857031529541\n",
            "Epoch = 36 ---> Validation cost: 1.2910199999159273 Training cost:1.2789004588682185\n",
            "Epoch = 37 ---> Validation cost: 1.2861031307168225 Training cost:1.2707457479349384\n",
            "Epoch = 38 ---> Validation cost: 1.2752979227332388 Training cost:1.2590929952957441\n",
            "Epoch = 39 ---> Validation cost: 1.265508279770105 Training cost:1.2474496146599272\n",
            "Epoch = 40 ---> Validation cost: 1.283578575283843 Training cost:1.259303126714761\n",
            "Epoch = 41 ---> Validation cost: 1.2570461888392377 Training cost:1.2450716006414893\n",
            "Epoch = 42 ---> Validation cost: 1.2423302244096917 Training cost:1.2204264857626694\n",
            "Epoch = 43 ---> Validation cost: 1.230161336858226 Training cost:1.205518352006417\n",
            "Epoch = 44 ---> Validation cost: 1.2155087105765605 Training cost:1.1898420455728131\n",
            "Epoch = 45 ---> Validation cost: 1.2534781587089256 Training cost:1.1819754267367701\n",
            "Epoch = 46 ---> Validation cost: 1.2389800759114982 Training cost:1.192892862998659\n",
            "Epoch = 47 ---> Validation cost: 1.2117771406032125 Training cost:1.1809710423138144\n",
            "Epoch = 48 ---> Validation cost: 1.2000425629990017 Training cost:1.1618419471404748\n",
            "Epoch = 49 ---> Validation cost: 1.1848338601278043 Training cost:1.147450214926062\n",
            "Epoch = 50 ---> Validation cost: 1.1739469492503023 Training cost:1.1377519598520212\n"
          ]
        }
      ],
      "source": [
        "We = init_q3_params_1(64,32)\n",
        "momentum_dict = {\"cW1\":0,\"cW2\":0,\"cW3\":0,\"cWxh\":0,\"cWhh\":0,\"cb1\":0,\"cb2\":0,\"cb3\":0,\"cbh\":0}\n",
        "We,momentum_dict,validation_cost,training_cost = gradient_descent_q3_1(We,50,0.0001,32,x_train,y_train,x_val,y_val,momentum_dict,0.85)"
      ]
    },
    {
      "cell_type": "code",
      "source": [
        "fig,ax = plt.subplots(1,2,figsize=(14,4))\n",
        "ax[0].plot([x for x in range(1,len(validation_cost)+1)],validation_cost,color=\"blue\",label=\"Validation\")\n",
        "ax[0].set_xlabel(\"Number of Epochs\")\n",
        "ax[0].set_ylabel(\"Cost\")\n",
        "ax[0].legend(loc=\"best\")\n",
        "ax[1].plot([x for x in range(1,len(training_cost)+1)],training_cost,color=\"red\",label=\"Training\")\n",
        "ax[1].set_xlabel(\"Number of Epochs\")\n",
        "ax[1].set_ylabel(\"Cost\")\n",
        "ax[1].legend(loc=\"best\")\n",
        "\n",
        "plt.show()"
      ],
      "metadata": {
        "colab": {
          "base_uri": "https://localhost:8080/",
          "height": 282
        },
        "id": "SH_cH15r8A3K",
        "outputId": "342dfbbc-4a84-4cf7-97be-b745b5707e2c"
      },
      "execution_count": null,
      "outputs": [
        {
          "output_type": "display_data",
          "data": {
            "text/plain": [
              "<Figure size 1008x288 with 2 Axes>"
            ],
            "image/png": "[encoded data removed]"
          },
          "metadata": {
            "needs_background": "light"
          }
        }
      ]
    },
    {
      "cell_type": "code",
      "source": [
        "def confusion_matrix(y,pred):\n",
        "  class_count = len(np.unique(y))\n",
        "  conf_matrix = np.zeros((class_count,class_count))\n",
        "  for i in range(len(y)):\n",
        "    conf_matrix[y[i]][pred[i]] += 1\n",
        "  return conf_matrix"
      ],
      "metadata": {
        "id": "YTssJVH1ywmE"
      },
      "execution_count": null,
      "outputs": []
    },
    {
      "cell_type": "code",
      "source": [
        "def calculate_accuracy(y,pred):\n",
        "  count = 0\n",
        "  for i in range(len(y)):\n",
        "    if y[i] == pred[i]:\n",
        "      count = count + 1\n",
        "  return (100 * count / len(y))"
      ],
      "metadata": {
        "id": "2KeAkhau2MvB"
      },
      "execution_count": null,
      "outputs": []
    },
    {
      "cell_type": "code",
      "execution_count": null,
      "metadata": {
        "id": "Iehnnxyv2cff"
      },
      "outputs": [],
      "source": [
        "(h,Z1,A1,Z2,A2,Z3,A3_test,d_activation_1,d_activation_2,d_activations_recurrent) = forward_propagation_q3_1(We,x_test)\n",
        "(h,Z1,A1,Z2,A2,Z3,A3_train,d_activation_1,d_activation_2,d_activations_recurrent) = forward_propagation_q3_1(We,x_train)"
      ]
    },
    {
      "cell_type": "code",
      "execution_count": null,
      "metadata": {
        "colab": {
          "base_uri": "https://localhost:8080/"
        },
        "id": "VqycOKKR24Uf",
        "outputId": "d47bb492-8e41-4aa5-b2b6-a9116733ea1e"
      },
      "outputs": [
        {
          "output_type": "stream",
          "name": "stdout",
          "text": [
            "Test accuracy:49.666666666666664\n",
            "Train accuracy:58.370370370370374\n"
          ]
        }
      ],
      "source": [
        "pred_test = np.argmax(A3_test,axis=0)\n",
        "pred_train = np.argmax(A3_train, axis=0)\n",
        "y_test_ = np.argmax(y_test,axis=0)\n",
        "y_train_ = np.argmax(y_train, axis=0)\n",
        "test_accuracy = calculate_accuracy(y_test_,pred_test)\n",
        "train_accuracy = calculate_accuracy(y_train_, pred_train)\n",
        "test_cf = confusion_matrix(y_test_,pred_test)\n",
        "train_cf = confusion_matrix(y_train_,pred_train)\n",
        "print(f\"Test accuracy:{test_accuracy}\")\n",
        "print(f\"Train accuracy:{train_accuracy}\")"
      ]
    },
    {
      "cell_type": "code",
      "source": [
        "sns.heatmap(test_cf,annot=True)\n",
        "plt.title(\"Confusion Matrix on Test Set\")\n",
        "plt.ylabel(\"Actual\")\n",
        "plt.xlabel(\"Prediction\")\n",
        "plt.show()"
      ],
      "metadata": {
        "colab": {
          "base_uri": "https://localhost:8080/",
          "height": 295
        },
        "id": "TAp4isQq90mG",
        "outputId": "62ade691-7740-4f02-c335-0f0fc3345cd7"
      },
      "execution_count": null,
      "outputs": [
        {
          "output_type": "display_data",
          "data": {
            "text/plain": [
              "<Figure size 432x288 with 2 Axes>"
            ],
            "image/png": "[encoded data removed]"
          },
          "metadata": {
            "needs_background": "light"
          }
        }
      ]
    },
    {
      "cell_type": "code",
      "source": [
        "sns.heatmap(train_cf,annot=True)\n",
        "plt.title(\"Confusion Matrix on Train Set\")\n",
        "plt.ylabel(\"Actual\")\n",
        "plt.xlabel(\"Prediction\")\n",
        "plt.show()"
      ],
      "metadata": {
        "colab": {
          "base_uri": "https://localhost:8080/",
          "height": 295
        },
        "id": "yTPw3P1a9_fM",
        "outputId": "7d55a72f-4838-4cfc-c741-0d349cd5495a"
      },
      "execution_count": null,
      "outputs": [
        {
          "output_type": "display_data",
          "data": {
            "text/plain": [
              "<Figure size 432x288 with 2 Axes>"
            ],
            "image/png": "[encoded data removed]"
          },
          "metadata": {
            "needs_background": "light"
          }
        }
      ]
    },
    {
      "cell_type": "code",
      "execution_count": null,
      "metadata": {
        "id": "9m4SX-1DV4AD"
      },
      "outputs": [],
      "source": [
        "#Question 3.2\n",
        "#WX + b\n",
        "#Parameters determine neuron numbers for related mlp hidden layers\n",
        "def init_q3_params_2(mlp_first_h_layer_size,mlp_second_h_layer_size):\n",
        "  #lstm layer, mlp hidden layer, mlp hidden layer, output layer  \n",
        "  np.random.seed(1)\n",
        "\n",
        "  #Xavier Uniform Distribution\n",
        "  recurrent_layer_neuron_size = 128\n",
        "  output_layer_neuron_size = 6\n",
        "  input_layer_neuron_size = 3\n",
        "  stacked_size = recurrent_layer_neuron_size + input_layer_neuron_size\n",
        "\n",
        "  #lstm related params\n",
        "  w0 = np.sqrt(6/(recurrent_layer_neuron_size + stacked_size))\n",
        "  Wf = np.random.uniform(-w0, w0, size=(recurrent_layer_neuron_size, stacked_size))  \n",
        "  Wi = np.random.uniform(-w0, w0, size=(recurrent_layer_neuron_size, stacked_size)) \n",
        "  Wc = np.random.uniform(-w0, w0, size=(recurrent_layer_neuron_size, stacked_size)) \n",
        "  Wo = np.random.uniform(-w0, w0, size=(recurrent_layer_neuron_size, stacked_size))\n",
        "  bf = np.random.uniform(-w0, w0, size=(recurrent_layer_neuron_size,1))\n",
        "  bi = np.random.uniform(-w0, w0, size=(recurrent_layer_neuron_size,1))\n",
        "  bc = np.random.uniform(-w0, w0, size=(recurrent_layer_neuron_size,1))\n",
        "  bo = np.random.uniform(-w0, w0, size=(recurrent_layer_neuron_size,1))\n",
        "\n",
        "  #W1 recurrent layer to first mlp hidden layer\n",
        "  w0 = np.sqrt(6/(mlp_first_h_layer_size + recurrent_layer_neuron_size))\n",
        "  W1 = np.random.uniform(-w0, w0, size=(mlp_first_h_layer_size, recurrent_layer_neuron_size))\n",
        "  b1 = np.random.uniform(-w0, w0, size=(mlp_first_h_layer_size, 1))\n",
        "\n",
        "  #W2 first mlp hidden layer to second mlp hidden layer\n",
        "  w0 = np.sqrt(6/(mlp_first_h_layer_size + mlp_second_h_layer_size))\n",
        "  W2 = np.random.uniform(-w0, w0, size=(mlp_second_h_layer_size,mlp_first_h_layer_size))\n",
        "  b2 = np.random.uniform(-w0, w0, size=(mlp_second_h_layer_size, 1))\n",
        "\n",
        "  #W3 second mlp hidden layer to output layer\n",
        "  w0 = np.sqrt(6/(output_layer_neuron_size + mlp_second_h_layer_size))\n",
        "  W3 = np.random.uniform(-w0, w0, size=(output_layer_neuron_size,mlp_second_h_layer_size))\n",
        "  b3 = np.random.uniform(-w0, w0, size=(output_layer_neuron_size, 1))\n",
        "\n",
        "  We = {\"Wf\":Wf,\"Wi\":Wi,\"Wc\":Wc,\"Wo\":Wo,\"bf\":bf,\"bi\":bi,\"bc\":bc,\"bo\":bo,\"W1\":W1,\"b1\":b1,\"W2\":W2,\"b2\":b2,\"W3\":W3,\"b3\":b3}\n",
        "  return We"
      ]
    },
    {
      "cell_type": "code",
      "execution_count": null,
      "metadata": {
        "id": "r33YRZ-zXny0"
      },
      "outputs": [],
      "source": [
        "def forward_propagate_lstm(We,data):\n",
        "  Wf = We[\"Wf\"]\n",
        "  Wc = We[\"Wc\"]\n",
        "  Wi = We[\"Wi\"]\n",
        "  Wo = We[\"Wo\"]\n",
        "  bf = We[\"bf\"]\n",
        "  bi = We[\"bi\"]\n",
        "  bc = We[\"bc\"]\n",
        "  bo = We[\"bo\"]   \n",
        "\n",
        "  dim,time,samples = data.shape\n",
        "  recurrent_layer_size = Wf.shape[0]\n",
        "\n",
        "  #Initialize related variables\n",
        "  stacked = np.zeros((dim+recurrent_layer_size,time,samples))\n",
        "  h_prev = np.zeros((recurrent_layer_size, samples))\n",
        "  c_prev = np.zeros((recurrent_layer_size, samples))  \n",
        "  c = np.zeros((recurrent_layer_size, time, samples))\n",
        "  tanhc = np.zeros((recurrent_layer_size, time, samples))\n",
        "  h_forget = np.zeros((recurrent_layer_size, time, samples))\n",
        "  h_input = np.zeros((recurrent_layer_size, time, samples))\n",
        "  h_candidate = np.zeros((recurrent_layer_size, time, samples))\n",
        "  h_output = np.zeros((recurrent_layer_size, time, samples))\n",
        "  d_activation_tanhc = np.zeros((recurrent_layer_size, time, samples))\n",
        "  d_activation_h_forget = np.zeros(((recurrent_layer_size, time, samples)))\n",
        "  d_activation_h_input = np.zeros(((recurrent_layer_size, time, samples)))\n",
        "  d_activation_h_candidate = np.zeros(((recurrent_layer_size, time, samples)))\n",
        "  d_activation_h_output = np.zeros(((recurrent_layer_size, time, samples)))\n",
        "\n",
        "  for t in range(time):\n",
        "    stacked[:,t,:] = np.row_stack((h_prev,data[:,t,:]))\n",
        "    curr_stacked = stacked[:,t,:]\n",
        "\n",
        "    h_forget[:,t,:], d_activation_h_forget[:,t,:] = activation(np.matmul(Wf,curr_stacked) + bf,\"sigmoid\")\n",
        "    h_input[:,t,:], d_activation_h_input[:,t,:] = activation(np.matmul(Wi,curr_stacked) + bi,\"sigmoid\")\n",
        "    h_candidate[:,t,:], d_activation_h_candidate[:,t,:] = activation(np.matmul(Wc,curr_stacked) + bc,\"tanh\")\n",
        "    h_output[:,t,:], d_activation_h_output[:,t,:] = activation(np.matmul(Wo,curr_stacked) + bo,\"sigmoid\")\n",
        "\n",
        "    c[:,t,:] = h_forget[:,t,:] * c_prev + h_input[:,t,:] * h_candidate[:,t,:]\n",
        "    tanhc[:,t,:],d_activation_tanhc[:,t,:] = activation(c[:,t,:],\"tanh\")\n",
        "    h_prev = tanhc[:,t,:] * h_output[:,t,:]\n",
        "    c_prev = c[:,t,:]\n",
        "\n",
        "  cache = (stacked,h_prev,c,tanhc,h_forget,h_input,h_candidate,h_output,d_activation_tanhc,d_activation_h_forget,d_activation_h_candidate,d_activation_h_input,d_activation_h_output)\n",
        "  return cache"
      ]
    },
    {
      "cell_type": "code",
      "execution_count": null,
      "metadata": {
        "id": "6FxFUDwsgCLh"
      },
      "outputs": [],
      "source": [
        "def forward_propagation_q3_2(We, data):\n",
        "  W1 = We[\"W1\"]\n",
        "  W2 = We[\"W2\"]\n",
        "  W3 = We[\"W3\"]\n",
        "  b1 = We[\"b1\"]\n",
        "  b2 = We[\"b2\"]\n",
        "  b3 = We[\"b3\"]\n",
        "\n",
        "  #recurrent layer\n",
        "  cache = forward_propagate_lstm(We,data)\n",
        "  A0 = cache[1]#final state\n",
        "\n",
        "  #relu layers\n",
        "  Z1 = np.matmul(W1,A0) + b1\n",
        "  A1, d_activation_1 = activation(Z1,\"relu\")\n",
        "  Z2 = np.matmul(W2,A1) + b2\n",
        "  A2, d_activation_2 = activation(Z2,\"relu\")\n",
        "\n",
        "  #softmax layer\n",
        "  Z3 = np.matmul(W3,A2) + b3\n",
        "  A3, _ = activation(Z3,\"softmax\")\n",
        "\n",
        "  return (Z1,A1,Z2,A2,Z3,A3,d_activation_1,d_activation_2,cache)"
      ]
    },
    {
      "cell_type": "code",
      "execution_count": null,
      "metadata": {
        "id": "K5nuwmuohE3_"
      },
      "outputs": [],
      "source": [
        "def cost_q3_2(We,x_train,y_train):\n",
        "  W1 = We[\"W1\"]\n",
        "  W2 = We[\"W2\"]\n",
        "  W3 = We[\"W3\"]\n",
        "  b1 = We[\"b1\"]\n",
        "  b2 = We[\"b2\"]\n",
        "  b3 = We[\"b3\"]\n",
        "  Wf = We[\"Wf\"]\n",
        "  Wi = We[\"Wi\"]\n",
        "  Wc = We[\"Wc\"]\n",
        "  Wo = We[\"Wo\"]\n",
        "  bf = We[\"bf\"]\n",
        "  bi = We[\"bi\"]\n",
        "  bc = We[\"bc\"]\n",
        "  bo = We[\"bo\"]  \n",
        "\n",
        "  #Forward propagate for training\n",
        "  (Z1,A1,Z2,A2,Z3,A3,d_activation_1,d_activation_2,cache) = forward_propagation_q3_2(We,x_train)\n",
        "  stacked,h_prev,c,tanhc,h_forget,h_input,h_candidate,h_output,d_activation_tanhc,d_activation_h_forget,d_activation_h_candidate,d_activation_h_input,d_activation_h_output = cache\n",
        "\n",
        "  #Calculate training cost for this batch\n",
        "  batch_training_cost = cross_entropy_q3(A3,y_train)\n",
        "\n",
        "  #Backward propagate until recurrent layer    \n",
        "  dZ3 = A3 - y_train\n",
        "  dW3 = np.matmul(dZ3,A2.T)\n",
        "  db3 = np.sum(dZ3,axis=1,keepdims=True)\n",
        "  dA2 = np.matmul(W3.T,dZ3)\n",
        "  dZ2 = dA2 * d_activation_2\n",
        "  dW2 = np.matmul(dZ2,A1.T)\n",
        "  db2 = np.sum(dZ2,axis=1,keepdims=True)\n",
        "  dA1 = np.matmul(W2.T,dZ2)\n",
        "  dZ1 = dA1 * d_activation_1  \n",
        "  dW1 = np.matmul(dZ1,h_prev.T) #W1 takes final state \n",
        "  db1 = np.sum(dZ1,axis=1,keepdims=True)\n",
        "\n",
        "  #gradient of the final state\n",
        "  d_state = np.matmul(W1.T,dZ1) #dh(t)\n",
        "  d_z = d_state\n",
        "\n",
        "  #Sizes to be used\n",
        "  dim,time,sample = h_forget.shape\n",
        "\n",
        "  #initialize gradients regarding lstm layer\n",
        "  dWf = 0\n",
        "  dWi = 0\n",
        "  dWc = 0\n",
        "  dWo = 0\n",
        "  dbf = 0\n",
        "  dbi = 0\n",
        "  dbc = 0\n",
        "  dbo = 0\n",
        "\n",
        "  for t in reversed(range(time)):\n",
        "    stacked_curr = stacked[:,t,:]   \n",
        "\n",
        "    if t > 0:\n",
        "      c_prev = c[:,t-1,:]\n",
        "    else:\n",
        "      c_prev = np.zeros((dim,sample))\n",
        "    \n",
        "    dc = d_z * h_output[:,t,:] * d_activation_tanhc[:,t,:]\n",
        "    dhf = dc * c_prev * d_activation_h_forget[:,t,:]\n",
        "    dhi = dc * h_candidate[:, t, :] * d_activation_h_input[:, t, :]\n",
        "    dhc = dc * h_input[:, t, :] * d_activation_h_candidate[:, t, :]\n",
        "    dho = d_z * tanhc[:, t, :] * d_activation_h_output[:, t, :]\n",
        "\n",
        "    #Sum gradients\n",
        "    dWf += np.matmul(dhf,stacked_curr.T)\n",
        "    dWi += np.matmul(dhi,stacked_curr.T)\n",
        "    dWc += np.matmul(dhc,stacked_curr.T)\n",
        "    dWo += np.matmul(dho,stacked_curr.T)\n",
        "    dbf += np.sum(dhf,axis=1,keepdims=True)\n",
        "    dbi += np.sum(dhi,axis=1,keepdims=True)\n",
        "    dbc += np.sum(dhc,axis=1,keepdims=True)\n",
        "    dbo += np.sum(dho,axis=1,keepdims=True)\n",
        "\n",
        "\n",
        "    #d_z should be updated\n",
        "    #Since stack is used for weights only pick previous layers\n",
        "    dxf = np.matmul(Wf.T[:dim,:],dhf)\n",
        "    dxc = np.matmul(Wc.T[:dim,:],dhc)\n",
        "    dxi = np.matmul(Wi.T[:dim,:],dhi)\n",
        "    dxo = np.matmul(Wo.T[:dim,:],dho)\n",
        "\n",
        "    d_z = dxf + dxc + dxi + dxo\n",
        "\n",
        "  grads={\"dW1\":dW1,\"dW2\":dW2,\"dW3\":dW3,\"db1\":db1,\"db2\":db2,\"db3\":db3,\"dWf\":dWf,\"dWi\":dWi,\"dWc\":dWc,\"dWo\":dWo,\"dbf\":dbf,\"dbi\":dbi,\"dbc\":dbc,\"dbo\":dbo}\n",
        "  return batch_training_cost, grads"
      ]
    },
    {
      "cell_type": "code",
      "execution_count": null,
      "metadata": {
        "id": "nMCeOQBRoo-8"
      },
      "outputs": [],
      "source": [
        "def update_parameters_q3_2(We,grads,learning_rate,momentum_dict,momentum_rate,batch_size):\n",
        "  W1 = We[\"W1\"]\n",
        "  W2 = We[\"W2\"]\n",
        "  W3 = We[\"W3\"]\n",
        "  b1 = We[\"b1\"]\n",
        "  b2 = We[\"b2\"]\n",
        "  b3 = We[\"b3\"]\n",
        "  Wf = We[\"Wf\"]\n",
        "  Wi = We[\"Wi\"]\n",
        "  Wc = We[\"Wc\"]\n",
        "  Wo = We[\"Wo\"]\n",
        "  bf = We[\"bf\"]\n",
        "  bi = We[\"bi\"]\n",
        "  bc = We[\"bc\"]\n",
        "  bo = We[\"bo\"]  \n",
        "\n",
        "  delta_W1 = learning_rate * grads[\"dW1\"] + momentum_rate * momentum_dict[\"cW1\"] \n",
        "  delta_W2 = learning_rate * grads[\"dW2\"] + momentum_rate * momentum_dict[\"cW2\"] \n",
        "  delta_W3 = learning_rate * grads[\"dW3\"] + momentum_rate * momentum_dict[\"cW3\"] \n",
        "  delta_b1 = learning_rate * grads[\"db1\"] + momentum_rate * momentum_dict[\"cb1\"] \n",
        "  delta_b2 = learning_rate * grads[\"db2\"] + momentum_rate * momentum_dict[\"cb2\"] \n",
        "  delta_b3 = learning_rate * grads[\"db3\"] + momentum_rate * momentum_dict[\"cb3\"] \n",
        "  delta_Wf = learning_rate * grads[\"dWf\"] + momentum_rate * momentum_dict[\"cWf\"]\n",
        "  delta_Wi = learning_rate * grads[\"dWi\"] + momentum_rate * momentum_dict[\"cWi\"]\n",
        "  delta_Wc = learning_rate * grads[\"dWc\"] + momentum_rate * momentum_dict[\"cWc\"]\n",
        "  delta_Wo = learning_rate * grads[\"dWo\"] + momentum_rate * momentum_dict[\"cWo\"]\n",
        "  delta_bf = learning_rate * grads[\"dbf\"] + momentum_rate * momentum_dict[\"cbf\"]\n",
        "  delta_bi = learning_rate * grads[\"dbi\"] + momentum_rate * momentum_dict[\"cbi\"] \n",
        "  delta_bc = learning_rate * grads[\"dbc\"] + momentum_rate * momentum_dict[\"cbc\"] \n",
        "  delta_bo = learning_rate * grads[\"dbo\"] + momentum_rate * momentum_dict[\"cbo\"]  \n",
        "  \n",
        "\n",
        "  #Update\n",
        "  W1 = W1 - delta_W1\n",
        "  W2 = W2 - delta_W2\n",
        "  W3 = W3 - delta_W3\n",
        "  b1 = b1 - delta_b1\n",
        "  b2 = b2 - delta_b2\n",
        "  b3 = b3 - delta_b3\n",
        "  Wf = Wf - delta_Wf\n",
        "  Wi = Wi - delta_Wi\n",
        "  Wc = Wc - delta_Wc\n",
        "  Wo = Wo - delta_Wo\n",
        "  bf = bf - delta_bf\n",
        "  bi = bi - delta_bi\n",
        "  bc = bc - delta_bc\n",
        "  bo = bo - delta_bo\n",
        "\n",
        "\n",
        "  We = {\"Wf\":Wf,\"Wi\":Wi,\"Wc\":Wc,\"Wo\":Wo,\"bf\":bf,\"bi\":bi,\"bc\":bc,\"bo\":bo,\"W1\":W1,\"b1\":b1,\"W2\":W2,\"b2\":b2,\"W3\":W3,\"b3\":b3}\n",
        "  momentum_dict = {\"cW1\":delta_W1,\"cW2\":delta_W2,\"cW3\":delta_W3,\"cb1\":delta_b1,\"cb2\":delta_b2,\"cb3\":delta_b3,\"cWf\":delta_Wf,\"cWi\":delta_Wi,\"cWc\":delta_Wc,\"cWo\":delta_Wo,\"cbf\":delta_bf,\"cbi\":delta_bi,\"cbc\":delta_bc,\"cbo\":delta_bo}\n",
        "  return We,momentum_dict"
      ]
    },
    {
      "cell_type": "code",
      "execution_count": null,
      "metadata": {
        "id": "cS8D0UNpsEKL"
      },
      "outputs": [],
      "source": [
        "def gradient_descent_q3_2(We,epoch,learning_rate,batch_size,x_train,y_train,x_val,y_val,momentum_dict,momentum_rate):\n",
        "  N = x_train.shape[2]\n",
        "  iteration_per_epoch = int(N / batch_size)\n",
        "  validation_cost = []\n",
        "  training_cost = []\n",
        "  for i in range(epoch):\n",
        "    mini_batch_start_index = 0\n",
        "    mini_batch_end_index = batch_size\n",
        "    sample_order = np.random.permutation(N)\n",
        "    x_train_data = x_train[:,:,sample_order]\n",
        "    y_train_data = y_train[:,sample_order]\n",
        "    train_per_batch = []        \n",
        "    for j in range(iteration_per_epoch):      \n",
        "      mini_batch_data_x = x_train_data[:,:,mini_batch_start_index:mini_batch_end_index]\n",
        "      mini_batch_data_y = y_train_data[:,mini_batch_start_index:mini_batch_end_index]      \n",
        "      J,grads = cost_q3_2(We,mini_batch_data_x,mini_batch_data_y)      \n",
        "      We,momentum_dict = update_parameters_q3_2(We,grads,learning_rate,momentum_dict,momentum_rate,batch_size)\n",
        "      mini_batch_start_index = mini_batch_end_index\n",
        "      mini_batch_end_index = mini_batch_end_index + batch_size\n",
        "      train_per_batch.append(J)\n",
        "      if mini_batch_end_index > N:\n",
        "        mini_batch_end_index = N \n",
        "    \n",
        "    #Training cost\n",
        "    training_cost_per_epoch = np.mean(train_per_batch)\n",
        "    training_cost.append(training_cost_per_epoch)\n",
        "\n",
        "    #Forward propagate for validation\n",
        "    (Z1,A1,Z2,A2,Z3,A3_val,d_activation_1,d_activation_2,cache) = forward_propagation_q3_2(We,x_val)    \n",
        "    #Calculate validation cost for this batch\n",
        "    val_cost = cross_entropy_q3(A3_val,y_val)\n",
        "    print(f\"Epoch = {i+1} ---> Validation cost: {val_cost} Training cost:{training_cost_per_epoch}\")\n",
        "    validation_cost.append(val_cost)\n",
        "    if len(validation_cost) > 1:\n",
        "      delta_err = np.abs(validation_cost[-1] - validation_cost[-2])\n",
        "      if delta_err < 1e-5:\n",
        "        print(\"Training will be stopped because of low validation delta\")\n",
        "\n",
        "  return We,momentum_dict,validation_cost,training_cost"
      ]
    },
    {
      "cell_type": "code",
      "execution_count": null,
      "metadata": {
        "colab": {
          "base_uri": "https://localhost:8080/"
        },
        "id": "k44i5Ea-sSgf",
        "outputId": "ec17938e-f5de-4663-bbe9-37265b410c30"
      },
      "outputs": [
        {
          "output_type": "stream",
          "name": "stdout",
          "text": [
            "Epoch = 1 ---> Validation cost: 1.5340125199983865 Training cost:1.6711603222093796\n",
            "Epoch = 2 ---> Validation cost: 1.4086656536802953 Training cost:1.4097141539147668\n",
            "Epoch = 3 ---> Validation cost: 1.3483548061901638 Training cost:1.3268321630595963\n",
            "Epoch = 4 ---> Validation cost: 1.272205182761711 Training cost:1.2503844086341216\n",
            "Epoch = 5 ---> Validation cost: 1.129527583008413 Training cost:1.0760737388347337\n",
            "Epoch = 6 ---> Validation cost: 1.0512875828902317 Training cost:0.9729806914903014\n",
            "Epoch = 7 ---> Validation cost: 0.9277036215737379 Training cost:0.8853826208233109\n",
            "Epoch = 8 ---> Validation cost: 0.886024751910107 Training cost:0.8816532000851719\n",
            "Epoch = 9 ---> Validation cost: 0.8778523805161808 Training cost:0.8381928223659825\n",
            "Epoch = 10 ---> Validation cost: 0.8723292569597796 Training cost:0.9020794795674595\n",
            "Epoch = 11 ---> Validation cost: 0.8150317029747786 Training cost:0.7862457202694909\n",
            "Epoch = 12 ---> Validation cost: 0.7885692560863227 Training cost:0.7722378819768643\n",
            "Epoch = 13 ---> Validation cost: 0.8080380168313184 Training cost:0.7586192644764264\n",
            "Epoch = 14 ---> Validation cost: 0.7983702797976149 Training cost:0.7543501990514139\n",
            "Epoch = 15 ---> Validation cost: 1.0293885987817994 Training cost:0.7177389979577264\n",
            "Epoch = 16 ---> Validation cost: 0.7804905251393145 Training cost:0.7300193453595898\n",
            "Epoch = 17 ---> Validation cost: 0.7831584270407593 Training cost:0.7035256465417286\n",
            "Epoch = 18 ---> Validation cost: 0.7992081125128068 Training cost:0.6791014722914775\n",
            "Epoch = 19 ---> Validation cost: 0.7691497107481764 Training cost:0.7101339903127938\n",
            "Epoch = 20 ---> Validation cost: 0.7188359083173388 Training cost:0.6778065005797308\n",
            "Epoch = 21 ---> Validation cost: 0.768516439443087 Training cost:0.669565692509728\n",
            "Epoch = 22 ---> Validation cost: 0.7343468418228795 Training cost:0.6828155792182068\n",
            "Epoch = 23 ---> Validation cost: 0.6978375904457664 Training cost:0.6401819564961967\n",
            "Epoch = 24 ---> Validation cost: 0.7581767744779673 Training cost:0.6649390722625947\n",
            "Epoch = 25 ---> Validation cost: 0.7293953879418351 Training cost:0.6411573731022026\n",
            "Epoch = 26 ---> Validation cost: 0.7980605260982446 Training cost:0.6244804100461943\n",
            "Epoch = 27 ---> Validation cost: 0.7083158347034177 Training cost:0.6811661780588374\n",
            "Epoch = 28 ---> Validation cost: 0.7361791528209121 Training cost:0.5956705626464687\n",
            "Epoch = 29 ---> Validation cost: 0.658477186647863 Training cost:0.5998894068296905\n",
            "Epoch = 30 ---> Validation cost: 0.7652988676769418 Training cost:0.5883769664118025\n",
            "Epoch = 31 ---> Validation cost: 0.7201436407409565 Training cost:0.6145488058726508\n",
            "Epoch = 32 ---> Validation cost: 0.691604087536467 Training cost:0.6016427095027294\n",
            "Epoch = 33 ---> Validation cost: 0.7483133394145745 Training cost:0.5621054097005052\n",
            "Epoch = 34 ---> Validation cost: 0.7691052684366279 Training cost:0.5746986098008497\n",
            "Epoch = 35 ---> Validation cost: 0.7282788245947086 Training cost:0.5782422794391829\n",
            "Epoch = 36 ---> Validation cost: 0.6843160676072625 Training cost:0.5608078107263281\n",
            "Epoch = 37 ---> Validation cost: 0.758452169814326 Training cost:0.5561540064051673\n",
            "Epoch = 38 ---> Validation cost: 0.6755907945973955 Training cost:0.5478670697002685\n",
            "Epoch = 39 ---> Validation cost: 0.7408008078766628 Training cost:0.5541215800055002\n",
            "Epoch = 40 ---> Validation cost: 0.6600551125526889 Training cost:0.5457983312109453\n",
            "Epoch = 41 ---> Validation cost: 0.6367716597122633 Training cost:0.5311605278657376\n",
            "Epoch = 42 ---> Validation cost: 0.6253641267942779 Training cost:0.5377753623737456\n",
            "Epoch = 43 ---> Validation cost: 0.7121623976371393 Training cost:0.5068683538664219\n",
            "Epoch = 44 ---> Validation cost: 0.6800107986579187 Training cost:0.5123601122056285\n",
            "Epoch = 45 ---> Validation cost: 0.6841094198278146 Training cost:0.5112261779000442\n",
            "Epoch = 46 ---> Validation cost: 0.6715883163108894 Training cost:0.530037945822564\n",
            "Epoch = 47 ---> Validation cost: 0.639433645553357 Training cost:0.5023871732461684\n",
            "Epoch = 48 ---> Validation cost: 0.6518367489930433 Training cost:0.4761050621602972\n",
            "Epoch = 49 ---> Validation cost: 0.6822901532479841 Training cost:0.45786336542788114\n",
            "Epoch = 50 ---> Validation cost: 0.6315237501950336 Training cost:0.4785028684108117\n"
          ]
        }
      ],
      "source": [
        "We = init_q3_params_2(64,32)\n",
        "momentum_dict = {\"cW1\":0,\"cW2\":0,\"cW3\":0,\"cb1\":0,\"cb2\":0,\"cb3\":0,\"cWf\":0,\"cWi\":0,\"cWc\":0,\"cWo\":0,\"cbf\":0,\"cbi\":0,\"cbc\":0,\"cbo\":0}\n",
        "We,momentum_dict,validation_cost,training_cost = gradient_descent_q3_2(We,50,0.001,32,x_train,y_train,x_val,y_val,momentum_dict,0.85)"
      ]
    },
    {
      "cell_type": "code",
      "source": [
        "fig,ax = plt.subplots(1,2,figsize=(14,4))\n",
        "ax[0].plot([x for x in range(1,len(validation_cost)+1)],validation_cost,color=\"blue\",label=\"Validation\")\n",
        "ax[0].set_xlabel(\"Number of Epochs\")\n",
        "ax[0].set_ylabel(\"Cost\")\n",
        "ax[0].legend(loc=\"best\")\n",
        "ax[1].plot([x for x in range(1,len(training_cost)+1)],training_cost,color=\"red\",label=\"Training\")\n",
        "ax[1].set_xlabel(\"Number of Epochs\")\n",
        "ax[1].set_ylabel(\"Cost\")\n",
        "ax[1].legend(loc=\"best\")\n",
        "\n",
        "plt.show()"
      ],
      "metadata": {
        "colab": {
          "base_uri": "https://localhost:8080/",
          "height": 279
        },
        "id": "DdHhfFlSHMeb",
        "outputId": "ee1e5612-7ecc-43b3-b31e-f642e99dc084"
      },
      "execution_count": null,
      "outputs": [
        {
          "output_type": "display_data",
          "data": {
            "text/plain": [
              "<Figure size 1008x288 with 2 Axes>"
            ],
            "image/png": "[encoded data removed]"
          },
          "metadata": {
            "needs_background": "light"
          }
        }
      ]
    },
    {
      "cell_type": "code",
      "execution_count": null,
      "metadata": {
        "id": "o8IxPnIQ_Avk"
      },
      "outputs": [],
      "source": [
        "(Z1,A1,Z2,A2,Z3,A3_test,d_activation_1,d_activation_2,cache) = forward_propagation_q3_2(We,x_test)\n",
        "(Z1,A1,Z2,A2,Z3,A3_train,d_activation_1,d_activation_2,cache) = forward_propagation_q3_2(We,x_train)"
      ]
    },
    {
      "cell_type": "code",
      "source": [
        "pred_test = np.argmax(A3_test,axis=0)\n",
        "pred_train = np.argmax(A3_train, axis=0)\n",
        "y_test_ = np.argmax(y_test,axis=0)\n",
        "y_train_ = np.argmax(y_train, axis=0)\n",
        "test_accuracy = calculate_accuracy(y_test_,pred_test)\n",
        "train_accuracy = calculate_accuracy(y_train_, pred_train)\n",
        "test_cf = confusion_matrix(y_test_,pred_test)\n",
        "train_cf = confusion_matrix(y_train_,pred_train)\n",
        "print(f\"Test accuracy:{test_accuracy}\")\n",
        "print(f\"Train accuracy:{train_accuracy}\")"
      ],
      "metadata": {
        "colab": {
          "base_uri": "https://localhost:8080/"
        },
        "id": "dSnrzZH6CNCf",
        "outputId": "dcd0dcd0-d79a-473b-8bc4-0bebd5359e51"
      },
      "execution_count": null,
      "outputs": [
        {
          "output_type": "stream",
          "name": "stdout",
          "text": [
            "Test accuracy:67.0\n",
            "Train accuracy:84.0\n"
          ]
        }
      ]
    },
    {
      "cell_type": "code",
      "source": [
        "sns.heatmap(test_cf,annot=True)\n",
        "plt.title(\"Confusion Matrix on Test Set\")\n",
        "plt.ylabel(\"Actual\")\n",
        "plt.xlabel(\"Prediction\")\n",
        "plt.show()"
      ],
      "metadata": {
        "colab": {
          "base_uri": "https://localhost:8080/",
          "height": 295
        },
        "id": "R888BPcyCW1D",
        "outputId": "9514aad2-2398-4b53-eb98-c3826d04a3c9"
      },
      "execution_count": null,
      "outputs": [
        {
          "output_type": "display_data",
          "data": {
            "text/plain": [
              "<Figure size 432x288 with 2 Axes>"
            ],
            "image/png": "[encoded data removed]"
          },
          "metadata": {
            "needs_background": "light"
          }
        }
      ]
    },
    {
      "cell_type": "code",
      "source": [
        "sns.heatmap(train_cf,annot=True)\n",
        "plt.title(\"Confusion Matrix on Train Set\")\n",
        "plt.ylabel(\"Actual\")\n",
        "plt.xlabel(\"Prediction\")\n",
        "plt.show()"
      ],
      "metadata": {
        "colab": {
          "base_uri": "https://localhost:8080/",
          "height": 295
        },
        "id": "pIDQq9RDCm0w",
        "outputId": "df81600b-45f1-485a-db0b-00d8cc2b3583"
      },
      "execution_count": null,
      "outputs": [
        {
          "output_type": "display_data",
          "data": {
            "text/plain": [
              "<Figure size 432x288 with 2 Axes>"
            ],
            "image/png": "[encoded data removed]"
          },
          "metadata": {
            "needs_background": "light"
          }
        }
      ]
    },
    {
      "cell_type": "code",
      "execution_count": null,
      "metadata": {
        "id": "IHj8s_-rBie7"
      },
      "outputs": [],
      "source": [
        "#Question 3.3\n",
        "#WX + b\n",
        "#Parameters determine neuron numbers for related mlp hidden layers\n",
        "def init_q3_params_3(mlp_first_h_layer_size,mlp_second_h_layer_size):\n",
        "  #gru layer, mlp hidden layer, mlp hidden layer, output layer  \n",
        "  np.random.seed(33)\n",
        "\n",
        "  #Xavier Uniform Distribution\n",
        "  recurrent_layer_neuron_size = 128\n",
        "  output_layer_neuron_size = 6\n",
        "  input_layer_neuron_size = 3  \n",
        "\n",
        "  #gru related params\n",
        "  w0 = np.sqrt(6/(recurrent_layer_neuron_size + input_layer_neuron_size))\n",
        "  w0_ = np.sqrt(6/(recurrent_layer_neuron_size + recurrent_layer_neuron_size))\n",
        "\n",
        "  Wz = np.random.uniform(-w0, w0, size=(recurrent_layer_neuron_size, input_layer_neuron_size))  \n",
        "  Wr = np.random.uniform(-w0, w0, size=(recurrent_layer_neuron_size, input_layer_neuron_size)) \n",
        "  Wh = np.random.uniform(-w0, w0, size=(recurrent_layer_neuron_size, input_layer_neuron_size)) \n",
        "  \n",
        "  bz = np.random.uniform(-w0, w0, size=(recurrent_layer_neuron_size,1))\n",
        "  br = np.random.uniform(-w0, w0, size=(recurrent_layer_neuron_size,1))\n",
        "  bh = np.random.uniform(-w0, w0, size=(recurrent_layer_neuron_size,1))\n",
        "  \n",
        "  Uz = np.random.uniform(-w0_, w0_, size=(recurrent_layer_neuron_size, recurrent_layer_neuron_size))\n",
        "  Ur = np.random.uniform(-w0_, w0_, size=(recurrent_layer_neuron_size, recurrent_layer_neuron_size))\n",
        "  Uh = np.random.uniform(-w0_, w0_, size=(recurrent_layer_neuron_size, recurrent_layer_neuron_size))\n",
        "\n",
        "  #W1 recurrent layer to first mlp hidden layer\n",
        "  w0 = np.sqrt(6/(mlp_first_h_layer_size + recurrent_layer_neuron_size))\n",
        "  W1 = np.random.uniform(-w0, w0, size=(mlp_first_h_layer_size, recurrent_layer_neuron_size))\n",
        "  b1 = np.random.uniform(-w0, w0, size=(mlp_first_h_layer_size, 1))\n",
        "\n",
        "  #W2 first mlp hidden layer to second mlp hidden layer\n",
        "  w0 = np.sqrt(6/(mlp_first_h_layer_size + mlp_second_h_layer_size))\n",
        "  W2 = np.random.uniform(-w0, w0, size=(mlp_second_h_layer_size,mlp_first_h_layer_size))\n",
        "  b2 = np.random.uniform(-w0, w0, size=(mlp_second_h_layer_size, 1))\n",
        "\n",
        "  #W3 second mlp hidden layer to output layer\n",
        "  w0 = np.sqrt(6/(output_layer_neuron_size + mlp_second_h_layer_size))\n",
        "  W3 = np.random.uniform(-w0, w0, size=(output_layer_neuron_size,mlp_second_h_layer_size))\n",
        "  b3 = np.random.uniform(-w0, w0, size=(output_layer_neuron_size, 1))\n",
        "\n",
        "  We = {\"Wz\":Wz,\"Wr\":Wr,\"Wh\":Wh,\"Uz\":Uz,\"Ur\":Ur,\"Uh\":Uh,\"bz\":bz,\"br\":br,\"bh\":bh,\"W1\":W1,\"b1\":b1,\"W2\":W2,\"b2\":b2,\"W3\":W3,\"b3\":b3}\n",
        "  return We"
      ]
    },
    {
      "cell_type": "code",
      "execution_count": null,
      "metadata": {
        "id": "5rWOqtFKC6xe"
      },
      "outputs": [],
      "source": [
        "def forward_propagate_gru(We,data):\n",
        "  Wz = We[\"Wz\"]\n",
        "  Wr = We[\"Wr\"]\n",
        "  Wh = We[\"Wh\"]  \n",
        "  bz = We[\"bz\"]\n",
        "  br = We[\"br\"]\n",
        "  bh = We[\"bh\"]\n",
        "  Uz = We[\"Uz\"]\n",
        "  Ur = We[\"Ur\"]\n",
        "  Uh = We[\"Uh\"]     \n",
        "\n",
        "  dim,time,samples = data.shape\n",
        "  recurrent_layer_size = Wz.shape[0]\n",
        "\n",
        "  #Initialize related variables\n",
        "  h = np.zeros((recurrent_layer_size,time,samples))\n",
        "  h_prev = np.zeros((recurrent_layer_size, samples))\n",
        "  z = np.zeros((recurrent_layer_size,time,samples))\n",
        "  d_activation_z = np.zeros((recurrent_layer_size,time,samples))\n",
        "  r = np.zeros((recurrent_layer_size,time,samples))\n",
        "  d_activation_r = np.zeros((recurrent_layer_size,time,samples))\n",
        "  h_ = np.zeros((recurrent_layer_size,time,samples))\n",
        "  d_activation_h_ = np.zeros((recurrent_layer_size,time,samples))\n",
        "  \n",
        "\n",
        "  for t in range(time):\n",
        "    x_cur = data[:,t,:]\n",
        "    z[:,t,:], d_activation_z[:,t,:] = activation(np.matmul(Wz,x_cur) + np.matmul(Uz,h_prev) + bz,\"sigmoid\")\n",
        "    r[:,t,:], d_activation_r[:,t,:] = activation(np.matmul(Wr,x_cur) + np.matmul(Ur,h_prev) + br,\"sigmoid\")\n",
        "    h_[:,t,:], d_activation_h_[:,t,:] = activation(np.matmul(Wh,x_cur) + np.matmul(Uh,(r[:,t,:] * h_prev)) + bh, \"tanh\")\n",
        "    h[:,t,:] = (1 - z[:,t,:]) * h_prev + z[:,t,:] * h_[:,t,:]\n",
        "    h_prev = h[:,t,:]\n",
        "\n",
        "  cache = (h,z,d_activation_z,r,d_activation_r,h_,d_activation_h_)\n",
        "  return cache"
      ]
    },
    {
      "cell_type": "code",
      "execution_count": null,
      "metadata": {
        "id": "rif8moobGkkT"
      },
      "outputs": [],
      "source": [
        "def forward_propagation_q3_3(We, data):\n",
        "  W1 = We[\"W1\"]\n",
        "  W2 = We[\"W2\"]\n",
        "  W3 = We[\"W3\"]\n",
        "  b1 = We[\"b1\"]\n",
        "  b2 = We[\"b2\"]\n",
        "  b3 = We[\"b3\"]\n",
        "\n",
        "  #recurrent layer\n",
        "  cache = forward_propagate_gru(We,data)\n",
        "  A0 = cache[0][:,-1,:]#final state\n",
        "\n",
        "  #relu layers\n",
        "  Z1 = np.matmul(W1,A0) + b1\n",
        "  A1, d_activation_1 = activation(Z1,\"relu\")\n",
        "  Z2 = np.matmul(W2,A1) + b2\n",
        "  A2, d_activation_2 = activation(Z2,\"relu\")\n",
        "\n",
        "  #softmax layer\n",
        "  Z3 = np.matmul(W3,A2) + b3\n",
        "  A3, _ = activation(Z3,\"softmax\")\n",
        "\n",
        "  return (Z1,A1,Z2,A2,Z3,A3,d_activation_1,d_activation_2,cache)"
      ]
    },
    {
      "cell_type": "code",
      "execution_count": null,
      "metadata": {
        "id": "e5ichijxHQpd"
      },
      "outputs": [],
      "source": [
        "def cost_q3_3(We,x_train,y_train):\n",
        "  W1 = We[\"W1\"]\n",
        "  W2 = We[\"W2\"]\n",
        "  W3 = We[\"W3\"]\n",
        "  b1 = We[\"b1\"]\n",
        "  b2 = We[\"b2\"]\n",
        "  b3 = We[\"b3\"]\n",
        "  Wz = We[\"Wz\"]\n",
        "  Wr = We[\"Wr\"]\n",
        "  Wh = We[\"Wh\"]\n",
        "  Uz = We[\"Uz\"]\n",
        "  Ur = We[\"Ur\"]\n",
        "  Uh = We[\"Uh\"]\n",
        "  bz = We[\"bz\"]\n",
        "  br = We[\"br\"]\n",
        "  bh = We[\"bh\"]\n",
        "   \n",
        "\n",
        "  #Forward propagate for training\n",
        "  (Z1,A1,Z2,A2,Z3,A3,d_activation_1,d_activation_2,cache) = forward_propagation_q3_3(We,x_train)\n",
        "  (h,z,d_activation_z,r,d_activation_r,h_,d_activation_h_) = cache\n",
        "  h_prev = h[:,-1,:]\n",
        "\n",
        "  #Calculate training cost for this batch\n",
        "  batch_training_cost = cross_entropy_q3(A3,y_train)\n",
        "\n",
        "  #Backward propagate until recurrent layer    \n",
        "  dZ3 = A3 - y_train\n",
        "  dW3 = np.matmul(dZ3,A2.T)\n",
        "  db3 = np.sum(dZ3,axis=1,keepdims=True)\n",
        "  dA2 = np.matmul(W3.T,dZ3)\n",
        "  dZ2 = dA2 * d_activation_2\n",
        "  dW2 = np.matmul(dZ2,A1.T)\n",
        "  db2 = np.sum(dZ2,axis=1,keepdims=True)\n",
        "  dA1 = np.matmul(W2.T,dZ2)\n",
        "  dZ1 = dA1 * d_activation_1  \n",
        "  dW1 = np.matmul(dZ1,h_prev.T) #W1 takes final state \n",
        "  db1 = np.sum(dZ1,axis=1,keepdims=True)\n",
        "\n",
        "  #gradient of the final state\n",
        "  d_state = np.matmul(W1.T,dZ1) #dh(t)\n",
        "  d_z = d_state #this d_z is not related with the parameter of z\n",
        "\n",
        "  #Sizes to be used\n",
        "  dim,time,sample = h.shape\n",
        "\n",
        "  #initialize gradients regarding lstm layer\n",
        "  dWz = 0\n",
        "  dWr = 0\n",
        "  dWh = 0  \n",
        "  dbz = 0\n",
        "  dbr = 0\n",
        "  dbh = 0\n",
        "  dUz = 0\n",
        "  dUr = 0\n",
        "  dUh = 0  \n",
        "\n",
        "  for t in reversed(range(time)):\n",
        "    x_cur = x_train[:,t,:]\n",
        "\n",
        "    if t > 0:\n",
        "      h_prev = h[:,t-1,:]\n",
        "    else:\n",
        "      h_prev = np.zeros((dim,sample))\n",
        "    \n",
        "    dz = d_z * d_activation_z[:,t,:] * (h_[:,t,:] - h_prev)\n",
        "    dh_ = d_z * d_activation_h_[:,t,:] * z[:,t,:]\n",
        "    dr = np.matmul(Uh.T,dh_) * h_prev * d_activation_r[:,t,:]\n",
        "\n",
        "    dWz += np.matmul(dz,x_cur.T)\n",
        "    dUz += np.matmul(dz,h_prev.T)\n",
        "    dbz += np.sum(dz,axis=1,keepdims=True)\n",
        "\n",
        "    dWh += np.matmul(dh_,x_cur.T)\n",
        "    dUh += np.matmul(dh_,h_prev.T)\n",
        "    dbh += np.sum(dh_,axis=1,keepdims=True)\n",
        "\n",
        "    dWr += np.matmul(dr,x_cur.T)\n",
        "    dUr += np.matmul(dr,h_prev.T)\n",
        "    dbr += np.sum(dr,axis=1,keepdims=True)\n",
        "\n",
        "    #update d_z\n",
        "    d1 = d_z * (1-z[:,t,:])\n",
        "    d2 = np.matmul(Uz.T,dz)\n",
        "    d3 = np.matmul(Uh.T,dh_) * (r[:,t,:] + h_prev * np.matmul(Ur.T,d_activation_r[:,t,:]))\n",
        "    d_z = d1 + d2 + d3\n",
        "    \n",
        "\n",
        "  grads={\"dW1\":dW1,\"dW2\":dW2,\"dW3\":dW3,\"db1\":db1,\"db2\":db2,\"db3\":db3,\"dWz\":dWz,\"dWr\":dWr,\"dWh\":dWh,\"dbz\":dbz,\"dbr\":dbr,\"dbh\":dbh,\"dUz\":dUz,\"dUr\":dUr,\"dUh\":dUh}\n",
        "  return batch_training_cost, grads"
      ]
    },
    {
      "cell_type": "code",
      "execution_count": null,
      "metadata": {
        "id": "8I3S_umMMvQG"
      },
      "outputs": [],
      "source": [
        "def update_parameters_q3_3(We,grads,learning_rate,momentum_dict,momentum_rate,batch_size):\n",
        "  W1 = We[\"W1\"]\n",
        "  W2 = We[\"W2\"]\n",
        "  W3 = We[\"W3\"]\n",
        "  b1 = We[\"b1\"]\n",
        "  b2 = We[\"b2\"]\n",
        "  b3 = We[\"b3\"]\n",
        "  Wz = We[\"Wz\"]\n",
        "  Wr = We[\"Wr\"]\n",
        "  Wh = We[\"Wh\"]  \n",
        "  bz = We[\"bz\"]\n",
        "  br = We[\"br\"]\n",
        "  bh = We[\"bh\"]\n",
        "  Uz = We[\"Uz\"]\n",
        "  Ur = We[\"Ur\"]\n",
        "  Uh = We[\"Uh\"]\n",
        "    \n",
        "\n",
        "  delta_W1 = learning_rate * grads[\"dW1\"] + momentum_rate * momentum_dict[\"cW1\"] \n",
        "  delta_W2 = learning_rate * grads[\"dW2\"] + momentum_rate * momentum_dict[\"cW2\"] \n",
        "  delta_W3 = learning_rate * grads[\"dW3\"] + momentum_rate * momentum_dict[\"cW3\"] \n",
        "  delta_b1 = learning_rate * grads[\"db1\"] + momentum_rate * momentum_dict[\"cb1\"] \n",
        "  delta_b2 = learning_rate * grads[\"db2\"] + momentum_rate * momentum_dict[\"cb2\"] \n",
        "  delta_b3 = learning_rate * grads[\"db3\"] + momentum_rate * momentum_dict[\"cb3\"] \n",
        "  delta_Wz = learning_rate * grads[\"dWz\"] + momentum_rate * momentum_dict[\"cWz\"]\n",
        "  delta_Wr = learning_rate * grads[\"dWr\"] + momentum_rate * momentum_dict[\"cWr\"]\n",
        "  delta_Wh = learning_rate * grads[\"dWh\"] + momentum_rate * momentum_dict[\"cWh\"]  \n",
        "  delta_bz = learning_rate * grads[\"dbz\"] + momentum_rate * momentum_dict[\"cbz\"]\n",
        "  delta_br = learning_rate * grads[\"dbr\"] + momentum_rate * momentum_dict[\"cbr\"] \n",
        "  delta_bh = learning_rate * grads[\"dbh\"] + momentum_rate * momentum_dict[\"cbh\"]\n",
        "  delta_Uz = learning_rate * grads[\"dUz\"] + momentum_rate * momentum_dict[\"cUz\"]\n",
        "  delta_Ur = learning_rate * grads[\"dUr\"] + momentum_rate * momentum_dict[\"cUr\"]\n",
        "  delta_Uh = learning_rate * grads[\"dUh\"] + momentum_rate * momentum_dict[\"cUh\"]  \n",
        "  \n",
        "\n",
        "  #Update\n",
        "  W1 = W1 - delta_W1\n",
        "  W2 = W2 - delta_W2\n",
        "  W3 = W3 - delta_W3\n",
        "  b1 = b1 - delta_b1\n",
        "  b2 = b2 - delta_b2\n",
        "  b3 = b3 - delta_b3\n",
        "  Wz = Wz - delta_Wz\n",
        "  Wr = Wr - delta_Wr\n",
        "  Wh = Wh - delta_Wh  \n",
        "  bz = bz - delta_bz\n",
        "  br = br - delta_br\n",
        "  bh = bh - delta_bh\n",
        "  Uz = Uz - delta_Uz\n",
        "  Ur = Ur - delta_Ur\n",
        "  Uh = Uh - delta_Uh  \n",
        "\n",
        "\n",
        "  We = {\"Wz\":Wz,\"Wr\":Wr,\"Wh\":Wh,\"Uz\":Uz,\"Ur\":Ur,\"Uh\":Uh,\"bz\":bz,\"br\":br,\"bh\":bh,\"W1\":W1,\"b1\":b1,\"W2\":W2,\"b2\":b2,\"W3\":W3,\"b3\":b3}\n",
        "  momentum_dict = {\"cW1\":delta_W1,\"cW2\":delta_W2,\"cW3\":delta_W3,\"cb1\":delta_b1,\"cb2\":delta_b2,\"cb3\":delta_b3,\"cWz\":delta_Wz,\"cWr\":delta_Wr,\"cWh\":delta_Wh,\"cbz\":delta_bz,\"cbr\":delta_br,\"cbh\":delta_bh,\"cUz\":delta_Uz,\"cUr\":delta_Ur,\"cUh\":delta_Uh}\n",
        "  return We,momentum_dict"
      ]
    },
    {
      "cell_type": "code",
      "execution_count": null,
      "metadata": {
        "id": "OxAxI9sQOUoI"
      },
      "outputs": [],
      "source": [
        "def gradient_descent_q3_3(We,epoch,learning_rate,batch_size,x_train,y_train,x_val,y_val,momentum_dict,momentum_rate):\n",
        "  N = x_train.shape[2]\n",
        "  iteration_per_epoch = int(N / batch_size)\n",
        "  validation_cost = []\n",
        "  training_cost = []\n",
        "\n",
        "  for i in range(epoch):\n",
        "    mini_batch_start_index = 0\n",
        "    mini_batch_end_index = batch_size\n",
        "    sample_order = np.random.permutation(N)\n",
        "    x_train_data = x_train[:,:,sample_order]\n",
        "    y_train_data = y_train[:,sample_order]\n",
        "    train_per_batch = []    \n",
        "    for j in range(iteration_per_epoch):      \n",
        "      mini_batch_data_x = x_train_data[:,:,mini_batch_start_index:mini_batch_end_index]\n",
        "      mini_batch_data_y = y_train_data[:,mini_batch_start_index:mini_batch_end_index]      \n",
        "      J,grads = cost_q3_3(We,mini_batch_data_x,mini_batch_data_y)      \n",
        "      We,momentum_dict = update_parameters_q3_3(We,grads,learning_rate,momentum_dict,momentum_rate,batch_size)\n",
        "      mini_batch_start_index = mini_batch_end_index\n",
        "      mini_batch_end_index = mini_batch_end_index + batch_size\n",
        "      train_per_batch.append(J)\n",
        "      if mini_batch_end_index > N:\n",
        "        mini_batch_end_index = N \n",
        "    \n",
        "    #Training cost\n",
        "    training_cost_per_epoch = np.mean(train_per_batch)\n",
        "    training_cost.append(training_cost_per_epoch)\n",
        "\n",
        "    #Forward propagate for validation\n",
        "    (Z1,A1,Z2,A2,Z3,A3_val,d_activation_1,d_activation_2,cache) = forward_propagation_q3_3(We,x_val)\n",
        "\n",
        "    #Calculate validation cost for this batch\n",
        "    val_cost = cross_entropy_q3(A3_val,y_val)\n",
        "    print(f\"Epoch = {i+1} ---> Validation cost: {val_cost} Training cost:{training_cost_per_epoch}\")\n",
        "    validation_cost.append(val_cost)\n",
        "    if len(validation_cost) > 1:\n",
        "      delta_err = np.abs(validation_cost[-1] - validation_cost[-2])\n",
        "      if delta_err < 1e-5:\n",
        "        print(\"Training will be stopped because of low validation delta\")\n",
        "\n",
        "  return We,momentum_dict,validation_cost,training_cost"
      ]
    },
    {
      "cell_type": "code",
      "execution_count": null,
      "metadata": {
        "colab": {
          "base_uri": "https://localhost:8080/"
        },
        "id": "D5W-nALWOtRY",
        "outputId": "45a9dd53-7d8e-4a1c-db8d-e4222aa48485"
      },
      "outputs": [
        {
          "output_type": "stream",
          "name": "stdout",
          "text": [
            "Epoch = 1 ---> Validation cost: 1.4617140736969618 Training cost:1.523282059171171\n",
            "Epoch = 2 ---> Validation cost: 1.2806947775007753 Training cost:1.2873897570941384\n",
            "Epoch = 3 ---> Validation cost: 1.036296595307446 Training cost:1.1091146783397605\n",
            "Epoch = 4 ---> Validation cost: 0.9530096641539312 Training cost:1.013759798794578\n",
            "Epoch = 5 ---> Validation cost: 0.9527940703428017 Training cost:0.8488284173825652\n",
            "Epoch = 6 ---> Validation cost: 0.738796220443622 Training cost:0.7477994654655538\n",
            "Epoch = 7 ---> Validation cost: 0.7651765247659782 Training cost:0.7180201242076925\n",
            "Epoch = 8 ---> Validation cost: 0.7146481946743092 Training cost:0.6643805558588668\n",
            "Epoch = 9 ---> Validation cost: 0.6611175515528322 Training cost:0.6338579667149743\n",
            "Epoch = 10 ---> Validation cost: 0.7930057363120201 Training cost:0.5997686566634607\n",
            "Epoch = 11 ---> Validation cost: 0.5928957539072806 Training cost:0.5516640570303534\n",
            "Epoch = 12 ---> Validation cost: 0.7628687435671627 Training cost:0.561622749360327\n",
            "Epoch = 13 ---> Validation cost: 0.5664927476290853 Training cost:0.5267823796480678\n",
            "Epoch = 14 ---> Validation cost: 0.5348218600648292 Training cost:0.4686534084601913\n",
            "Epoch = 15 ---> Validation cost: 0.7421652446806403 Training cost:0.3927464523424066\n",
            "Epoch = 16 ---> Validation cost: 0.5113767442613391 Training cost:0.5014991784668875\n",
            "Epoch = 17 ---> Validation cost: 0.46556936729067694 Training cost:0.36410525677847805\n",
            "Epoch = 18 ---> Validation cost: 0.5036724199385695 Training cost:0.33854835000284567\n",
            "Epoch = 19 ---> Validation cost: 0.487910008335643 Training cost:0.32963782014816423\n",
            "Epoch = 20 ---> Validation cost: 0.4514110522510139 Training cost:0.27257571377591255\n",
            "Epoch = 21 ---> Validation cost: 0.4337637436305364 Training cost:0.25425883904185315\n",
            "Epoch = 22 ---> Validation cost: 0.4630891483329176 Training cost:0.2344596084647971\n",
            "Epoch = 23 ---> Validation cost: 0.42135656944767474 Training cost:0.2108502558493145\n",
            "Epoch = 24 ---> Validation cost: 0.4028017130842247 Training cost:0.18929196512724955\n",
            "Epoch = 25 ---> Validation cost: 0.4117165209998618 Training cost:0.1907131516251904\n",
            "Epoch = 26 ---> Validation cost: 0.4964649378259679 Training cost:0.1743664280228601\n",
            "Epoch = 27 ---> Validation cost: 0.3550661002075328 Training cost:0.16692232771458457\n",
            "Epoch = 28 ---> Validation cost: 0.3177187429639963 Training cost:0.13734228033796692\n",
            "Epoch = 29 ---> Validation cost: 0.38666819591383605 Training cost:0.12426971316279489\n",
            "Epoch = 30 ---> Validation cost: 0.37273384858562136 Training cost:0.1382576725641693\n",
            "Epoch = 31 ---> Validation cost: 0.333836295920157 Training cost:0.1313116675837079\n",
            "Epoch = 32 ---> Validation cost: 0.3483607252223947 Training cost:0.11888230179066694\n",
            "Epoch = 33 ---> Validation cost: 0.3863700334197353 Training cost:0.1000931579350128\n",
            "Epoch = 34 ---> Validation cost: 0.3120770852108605 Training cost:0.09650371830577723\n",
            "Epoch = 35 ---> Validation cost: 0.35781345680499727 Training cost:0.07671246102635776\n",
            "Epoch = 36 ---> Validation cost: 0.38213420581450547 Training cost:0.07847347185927826\n",
            "Epoch = 37 ---> Validation cost: 0.3325460820566353 Training cost:0.09578876190857595\n",
            "Epoch = 38 ---> Validation cost: 0.3220738256278396 Training cost:0.08887846262778439\n",
            "Epoch = 39 ---> Validation cost: 0.3201518314236191 Training cost:0.08824649935343395\n",
            "Epoch = 40 ---> Validation cost: 0.33098082309788684 Training cost:0.045207597834755156\n",
            "Epoch = 41 ---> Validation cost: 0.5080123490473168 Training cost:0.05029719886828234\n",
            "Epoch = 42 ---> Validation cost: 0.3738102367391584 Training cost:0.09343352949722777\n",
            "Epoch = 43 ---> Validation cost: 0.3507336632746729 Training cost:0.06790332219815062\n",
            "Epoch = 44 ---> Validation cost: 0.2892901473177948 Training cost:0.04957685382076864\n",
            "Epoch = 45 ---> Validation cost: 0.4200942176124659 Training cost:0.05087881539934643\n",
            "Epoch = 46 ---> Validation cost: 0.3166963826071806 Training cost:0.03459276526184103\n",
            "Epoch = 47 ---> Validation cost: 0.28431944996175973 Training cost:0.03440414791592749\n",
            "Epoch = 48 ---> Validation cost: 0.3540955186443086 Training cost:0.028237989311445225\n",
            "Epoch = 49 ---> Validation cost: 0.3046806808901222 Training cost:0.02327154242469385\n",
            "Epoch = 50 ---> Validation cost: 0.3419355939892808 Training cost:0.08194675681974878\n"
          ]
        }
      ],
      "source": [
        "We = init_q3_params_3(64,32)\n",
        "momentum_dict = {\"cW1\":0,\"cW2\":0,\"cW3\":0,\"cb1\":0,\"cb2\":0,\"cb3\":0,\"cWz\":0,\"cWr\":0,\"cWh\":0,\"cbz\":0,\"cbr\":0,\"cbh\":0,\"cUz\":0,\"cUr\":0,\"cUh\":0}\n",
        "We,momentum_dict,validation_cost,training_cost = gradient_descent_q3_3(We,50,0.0005,32,x_train,y_train,x_val,y_val,momentum_dict,0.85)"
      ]
    },
    {
      "cell_type": "code",
      "source": [
        "fig,ax = plt.subplots(1,2,figsize=(14,4))\n",
        "ax[0].plot([x for x in range(1,len(validation_cost)+1)],validation_cost,color=\"blue\",label=\"Validation\")\n",
        "ax[0].set_xlabel(\"Number of Epochs\")\n",
        "ax[0].set_ylabel(\"Cost\")\n",
        "ax[0].legend(loc=\"best\")\n",
        "ax[1].plot([x for x in range(1,len(training_cost)+1)],training_cost,color=\"red\",label=\"Training\")\n",
        "ax[1].set_xlabel(\"Number of Epochs\")\n",
        "ax[1].set_ylabel(\"Cost\")\n",
        "ax[1].legend(loc=\"best\")\n",
        "\n",
        "plt.show()"
      ],
      "metadata": {
        "colab": {
          "base_uri": "https://localhost:8080/",
          "height": 279
        },
        "id": "oxmb_BSJICDg",
        "outputId": "fbc95217-ff37-4ef5-d8b5-06a913897d9a"
      },
      "execution_count": null,
      "outputs": [
        {
          "output_type": "display_data",
          "data": {
            "text/plain": [
              "<Figure size 1008x288 with 2 Axes>"
            ],
            "image/png": "[encoded data removed]"
          },
          "metadata": {
            "needs_background": "light"
          }
        }
      ]
    },
    {
      "cell_type": "code",
      "source": [
        "(Z1,A1,Z2,A2,Z3,A3_test,d_activation_1,d_activation_2,cache) = forward_propagation_q3_3(We,x_test)\n",
        "(Z1,A1,Z2,A2,Z3,A3_train,d_activation_1,d_activation_2,cache) = forward_propagation_q3_3(We,x_train)"
      ],
      "metadata": {
        "id": "dcApJcWRIKT-"
      },
      "execution_count": null,
      "outputs": []
    },
    {
      "cell_type": "code",
      "source": [
        "pred_test = np.argmax(A3_test,axis=0)\n",
        "pred_train = np.argmax(A3_train, axis=0)\n",
        "y_test_ = np.argmax(y_test,axis=0)\n",
        "y_train_ = np.argmax(y_train, axis=0)\n",
        "test_accuracy = calculate_accuracy(y_test_,pred_test)\n",
        "train_accuracy = calculate_accuracy(y_train_, pred_train)\n",
        "test_cf = confusion_matrix(y_test_,pred_test)\n",
        "train_cf = confusion_matrix(y_train_,pred_train)\n",
        "print(f\"Test accuracy:{test_accuracy}\")\n",
        "print(f\"Train accuracy:{train_accuracy}\")"
      ],
      "metadata": {
        "colab": {
          "base_uri": "https://localhost:8080/"
        },
        "id": "vTuTdtXZIOZu",
        "outputId": "71dbef52-34e9-43cf-917e-6c1f6221a1c7"
      },
      "execution_count": null,
      "outputs": [
        {
          "output_type": "stream",
          "name": "stdout",
          "text": [
            "Test accuracy:83.16666666666667\n",
            "Train accuracy:97.77777777777777\n"
          ]
        }
      ]
    },
    {
      "cell_type": "code",
      "source": [
        "sns.heatmap(test_cf,annot=True)\n",
        "plt.title(\"Confusion Matrix on Test Set\")\n",
        "plt.ylabel(\"Actual\")\n",
        "plt.xlabel(\"Prediction\")\n",
        "plt.show()"
      ],
      "metadata": {
        "colab": {
          "base_uri": "https://localhost:8080/",
          "height": 295
        },
        "id": "ykJe-mKlIXPQ",
        "outputId": "30b9169a-6a9c-4a50-89a3-c9b744f8f812"
      },
      "execution_count": null,
      "outputs": [
        {
          "output_type": "display_data",
          "data": {
            "text/plain": [
              "<Figure size 432x288 with 2 Axes>"
            ],
            "image/png": "[encoded data removed]"
          },
          "metadata": {
            "needs_background": "light"
          }
        }
      ]
    },
    {
      "cell_type": "code",
      "source": [
        "sns.heatmap(train_cf,annot=True)\n",
        "plt.title(\"Confusion Matrix on Train Set\")\n",
        "plt.ylabel(\"Actual\")\n",
        "plt.xlabel(\"Prediction\")\n",
        "plt.show()"
      ],
      "metadata": {
        "colab": {
          "base_uri": "https://localhost:8080/",
          "height": 295
        },
        "id": "Az1hcAvdIX8I",
        "outputId": "0207c68c-5b98-484b-fb2a-71f1871813a8"
      },
      "execution_count": null,
      "outputs": [
        {
          "output_type": "display_data",
          "data": {
            "text/plain": [
              "<Figure size 432x288 with 2 Axes>"
            ],
            "image/png": "[encoded data removed]"
          },
          "metadata": {
            "needs_background": "light"
          }
        }
      ]
    }
  ],
  "metadata": {
    "colab": {
      "machine_shape": "hm",
      "provenance": []
    },
    "gpuClass": "premium",
    "kernelspec": {
      "display_name": "Python 3",
      "name": "python3"
    },
    "language_info": {
      "name": "python"
    }
  },
  "nbformat": 4,
  "nbformat_minor": 0
}